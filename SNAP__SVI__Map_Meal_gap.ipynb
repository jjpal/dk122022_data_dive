{
  "nbformat": 4,
  "nbformat_minor": 0,
  "metadata": {
    "colab": {
      "provenance": [],
      "authorship_tag": "ABX9TyN51NRop+FdbloP7+tbJFnR",
      "include_colab_link": true
    },
    "kernelspec": {
      "name": "python3",
      "display_name": "Python 3"
    },
    "language_info": {
      "name": "python"
    }
  },
  "cells": [
    {
      "cell_type": "markdown",
      "metadata": {
        "id": "view-in-github",
        "colab_type": "text"
      },
      "source": [
        "<a href=\"https://colab.research.google.com/github/jjpal/dk122022_data_dive/blob/main/SNAP__SVI__Map_Meal_gap.ipynb\" target=\"_parent\"><img src=\"https://colab.research.google.com/assets/colab-badge.svg\" alt=\"Open In Colab\"/></a>"
      ]
    },
    {
      "cell_type": "markdown",
      "source": [
        "## Identifying potential eligibility-enrollment gap localities\n",
        "\n",
        "   ### Compare SNAP benefit uptake and measures of social vulnerability "
      ],
      "metadata": {
        "id": "959BJ8Z8BAty"
      }
    },
    {
      "cell_type": "code",
      "source": [
        "# import libraries\n",
        "import pandas as pd\n",
        "import numpy as np\n",
        "import matplotlib.pyplot as plt\n",
        "import seaborn as sns\n",
        "%matplotlib inline\n",
        "\n",
        "\n",
        "# Supress Warnings\n",
        "import warnings\n",
        "warnings.filterwarnings('ignore')"
      ],
      "metadata": {
        "id": "tKkKarNPWdOj"
      },
      "execution_count": 2,
      "outputs": []
    },
    {
      "cell_type": "markdown",
      "source": [
        "### SUPPLEMENTAL NUTRITION ASSISTANCE PROGRAM (SNAP)\n",
        "\n",
        "Column Headers\n",
        "\n",
        "Substate, PersonsPublic, PersonsNonPublic, PersonsTotal,HouseholdsPublicAssistance, HouseholdsNonPublicAssistance, HouseholdsTotal,Issuance, month, year, countyFIPS, countyNAME, stateFIPS, stateNAME"
      ],
      "metadata": {
        "id": "E2sWGSSXnyzV"
      }
    },
    {
      "cell_type": "code",
      "execution_count": 3,
      "metadata": {
        "id": "WizsaO0wVieC"
      },
      "outputs": [],
      "source": [
        "# Processed Merged SNAP data\n",
        "snap_merge_url = 'https://raw.githubusercontent.com/michaelbbryan/tools-and-kaggles/main/DataDive2022/snapmergecounty.csv'\n"
      ]
    },
    {
      "cell_type": "code",
      "source": [
        "# Load SNAP dataset\n",
        "snap_merge_df = pd.read_csv(snap_merge_url)"
      ],
      "metadata": {
        "id": "IB2G2A0mWdDU"
      },
      "execution_count": 4,
      "outputs": []
    },
    {
      "cell_type": "code",
      "source": [
        "# Only select year 2020 to match up with the other datasets\n",
        "snap_county_2020_df = snap_merge_df[snap_merge_df['year'] == 2020]"
      ],
      "metadata": {
        "id": "CLmkwNZ-Yc1X"
      },
      "execution_count": 5,
      "outputs": []
    },
    {
      "cell_type": "code",
      "source": [
        "# groupby on multiple columns and calculate a sum over each combination group.\n",
        "snap_county_2020_dfnew = snap_county_2020_df.groupby(['countyFIPS','year']).sum().reset_index()"
      ],
      "metadata": {
        "id": "FZ4GWVhLgnnI"
      },
      "execution_count": 6,
      "outputs": []
    },
    {
      "cell_type": "code",
      "source": [
        "# display sample of dataset\n",
        "snap_county_2020_df.sample(3)"
      ],
      "metadata": {
        "colab": {
          "base_uri": "https://localhost:8080/",
          "height": 329
        },
        "id": "In6txRfx6Z8C",
        "outputId": "a2feb401-435b-46b2-884a-c1ba2318a796"
      },
      "execution_count": 7,
      "outputs": [
        {
          "output_type": "execute_result",
          "data": {
            "text/plain": [
              "                                Substate  PersonsPublic  PersonsNonPublic  \\\n",
              "179455   3908102 OH EBT JEFFERSON CO DHS         1719.0           11892.0   \n",
              "88470                4714301 TN EBT RHEA          732.0            4956.0   \n",
              "178568  1919101 IA EBT WINNESHIEK CO DHS           85.0             720.0   \n",
              "\n",
              "        PersonsTotal  HouseholdsPublicAssistance  \\\n",
              "179455       13611.0                      1398.0   \n",
              "88470         5688.0                       557.0   \n",
              "178568         805.0                        74.0   \n",
              "\n",
              "        HouseholdsNonPublicAssistance  HouseholdsTotal   Issuance month  year  \\\n",
              "179455                         5671.0           7069.0  2394512.0   JUL  2020   \n",
              "88470                          2235.0           2792.0   676099.0   JAN  2020   \n",
              "178568                          341.0            415.0   144345.0   JUL  2020   \n",
              "\n",
              "        countyFIPS         countyNAME  stateFIPS  stateNAME  \n",
              "179455       39081   Jefferson County         39       OHIO  \n",
              "88470        47143        Rhea County         47  TENNESSEE  \n",
              "178568       19191  Winneshiek County         19       IOWA  "
            ],
            "text/html": [
              "\n",
              "  <div id=\"df-83c58a7d-178a-4cdc-8331-48e8c58bcc7b\">\n",
              "    <div class=\"colab-df-container\">\n",
              "      <div>\n",
              "<style scoped>\n",
              "    .dataframe tbody tr th:only-of-type {\n",
              "        vertical-align: middle;\n",
              "    }\n",
              "\n",
              "    .dataframe tbody tr th {\n",
              "        vertical-align: top;\n",
              "    }\n",
              "\n",
              "    .dataframe thead th {\n",
              "        text-align: right;\n",
              "    }\n",
              "</style>\n",
              "<table border=\"1\" class=\"dataframe\">\n",
              "  <thead>\n",
              "    <tr style=\"text-align: right;\">\n",
              "      <th></th>\n",
              "      <th>Substate</th>\n",
              "      <th>PersonsPublic</th>\n",
              "      <th>PersonsNonPublic</th>\n",
              "      <th>PersonsTotal</th>\n",
              "      <th>HouseholdsPublicAssistance</th>\n",
              "      <th>HouseholdsNonPublicAssistance</th>\n",
              "      <th>HouseholdsTotal</th>\n",
              "      <th>Issuance</th>\n",
              "      <th>month</th>\n",
              "      <th>year</th>\n",
              "      <th>countyFIPS</th>\n",
              "      <th>countyNAME</th>\n",
              "      <th>stateFIPS</th>\n",
              "      <th>stateNAME</th>\n",
              "    </tr>\n",
              "  </thead>\n",
              "  <tbody>\n",
              "    <tr>\n",
              "      <th>179455</th>\n",
              "      <td>3908102 OH EBT JEFFERSON CO DHS</td>\n",
              "      <td>1719.0</td>\n",
              "      <td>11892.0</td>\n",
              "      <td>13611.0</td>\n",
              "      <td>1398.0</td>\n",
              "      <td>5671.0</td>\n",
              "      <td>7069.0</td>\n",
              "      <td>2394512.0</td>\n",
              "      <td>JUL</td>\n",
              "      <td>2020</td>\n",
              "      <td>39081</td>\n",
              "      <td>Jefferson County</td>\n",
              "      <td>39</td>\n",
              "      <td>OHIO</td>\n",
              "    </tr>\n",
              "    <tr>\n",
              "      <th>88470</th>\n",
              "      <td>4714301 TN EBT RHEA</td>\n",
              "      <td>732.0</td>\n",
              "      <td>4956.0</td>\n",
              "      <td>5688.0</td>\n",
              "      <td>557.0</td>\n",
              "      <td>2235.0</td>\n",
              "      <td>2792.0</td>\n",
              "      <td>676099.0</td>\n",
              "      <td>JAN</td>\n",
              "      <td>2020</td>\n",
              "      <td>47143</td>\n",
              "      <td>Rhea County</td>\n",
              "      <td>47</td>\n",
              "      <td>TENNESSEE</td>\n",
              "    </tr>\n",
              "    <tr>\n",
              "      <th>178568</th>\n",
              "      <td>1919101 IA EBT WINNESHIEK CO DHS</td>\n",
              "      <td>85.0</td>\n",
              "      <td>720.0</td>\n",
              "      <td>805.0</td>\n",
              "      <td>74.0</td>\n",
              "      <td>341.0</td>\n",
              "      <td>415.0</td>\n",
              "      <td>144345.0</td>\n",
              "      <td>JUL</td>\n",
              "      <td>2020</td>\n",
              "      <td>19191</td>\n",
              "      <td>Winneshiek County</td>\n",
              "      <td>19</td>\n",
              "      <td>IOWA</td>\n",
              "    </tr>\n",
              "  </tbody>\n",
              "</table>\n",
              "</div>\n",
              "      <button class=\"colab-df-convert\" onclick=\"convertToInteractive('df-83c58a7d-178a-4cdc-8331-48e8c58bcc7b')\"\n",
              "              title=\"Convert this dataframe to an interactive table.\"\n",
              "              style=\"display:none;\">\n",
              "        \n",
              "  <svg xmlns=\"http://www.w3.org/2000/svg\" height=\"24px\"viewBox=\"0 0 24 24\"\n",
              "       width=\"24px\">\n",
              "    <path d=\"M0 0h24v24H0V0z\" fill=\"none\"/>\n",
              "    <path d=\"M18.56 5.44l.94 2.06.94-2.06 2.06-.94-2.06-.94-.94-2.06-.94 2.06-2.06.94zm-11 1L8.5 8.5l.94-2.06 2.06-.94-2.06-.94L8.5 2.5l-.94 2.06-2.06.94zm10 10l.94 2.06.94-2.06 2.06-.94-2.06-.94-.94-2.06-.94 2.06-2.06.94z\"/><path d=\"M17.41 7.96l-1.37-1.37c-.4-.4-.92-.59-1.43-.59-.52 0-1.04.2-1.43.59L10.3 9.45l-7.72 7.72c-.78.78-.78 2.05 0 2.83L4 21.41c.39.39.9.59 1.41.59.51 0 1.02-.2 1.41-.59l7.78-7.78 2.81-2.81c.8-.78.8-2.07 0-2.86zM5.41 20L4 18.59l7.72-7.72 1.47 1.35L5.41 20z\"/>\n",
              "  </svg>\n",
              "      </button>\n",
              "      \n",
              "  <style>\n",
              "    .colab-df-container {\n",
              "      display:flex;\n",
              "      flex-wrap:wrap;\n",
              "      gap: 12px;\n",
              "    }\n",
              "\n",
              "    .colab-df-convert {\n",
              "      background-color: #E8F0FE;\n",
              "      border: none;\n",
              "      border-radius: 50%;\n",
              "      cursor: pointer;\n",
              "      display: none;\n",
              "      fill: #1967D2;\n",
              "      height: 32px;\n",
              "      padding: 0 0 0 0;\n",
              "      width: 32px;\n",
              "    }\n",
              "\n",
              "    .colab-df-convert:hover {\n",
              "      background-color: #E2EBFA;\n",
              "      box-shadow: 0px 1px 2px rgba(60, 64, 67, 0.3), 0px 1px 3px 1px rgba(60, 64, 67, 0.15);\n",
              "      fill: #174EA6;\n",
              "    }\n",
              "\n",
              "    [theme=dark] .colab-df-convert {\n",
              "      background-color: #3B4455;\n",
              "      fill: #D2E3FC;\n",
              "    }\n",
              "\n",
              "    [theme=dark] .colab-df-convert:hover {\n",
              "      background-color: #434B5C;\n",
              "      box-shadow: 0px 1px 3px 1px rgba(0, 0, 0, 0.15);\n",
              "      filter: drop-shadow(0px 1px 2px rgba(0, 0, 0, 0.3));\n",
              "      fill: #FFFFFF;\n",
              "    }\n",
              "  </style>\n",
              "\n",
              "      <script>\n",
              "        const buttonEl =\n",
              "          document.querySelector('#df-83c58a7d-178a-4cdc-8331-48e8c58bcc7b button.colab-df-convert');\n",
              "        buttonEl.style.display =\n",
              "          google.colab.kernel.accessAllowed ? 'block' : 'none';\n",
              "\n",
              "        async function convertToInteractive(key) {\n",
              "          const element = document.querySelector('#df-83c58a7d-178a-4cdc-8331-48e8c58bcc7b');\n",
              "          const dataTable =\n",
              "            await google.colab.kernel.invokeFunction('convertToInteractive',\n",
              "                                                     [key], {});\n",
              "          if (!dataTable) return;\n",
              "\n",
              "          const docLinkHtml = 'Like what you see? Visit the ' +\n",
              "            '<a target=\"_blank\" href=https://colab.research.google.com/notebooks/data_table.ipynb>data table notebook</a>'\n",
              "            + ' to learn more about interactive tables.';\n",
              "          element.innerHTML = '';\n",
              "          dataTable['output_type'] = 'display_data';\n",
              "          await google.colab.output.renderOutput(dataTable, element);\n",
              "          const docLink = document.createElement('div');\n",
              "          docLink.innerHTML = docLinkHtml;\n",
              "          element.appendChild(docLink);\n",
              "        }\n",
              "      </script>\n",
              "    </div>\n",
              "  </div>\n",
              "  "
            ]
          },
          "metadata": {},
          "execution_count": 7
        }
      ]
    },
    {
      "cell_type": "code",
      "source": [
        "snap_county_2020_df.month.value_counts()"
      ],
      "metadata": {
        "colab": {
          "base_uri": "https://localhost:8080/"
        },
        "id": "4Jw5LDZLQZMS",
        "outputId": "21588306-b4fa-4fc8-873f-67f07f5fe032"
      },
      "execution_count": 8,
      "outputs": [
        {
          "output_type": "execute_result",
          "data": {
            "text/plain": [
              "JAN    2626\n",
              "JUL    2626\n",
              "Name: month, dtype: int64"
            ]
          },
          "metadata": {},
          "execution_count": 8
        }
      ]
    },
    {
      "cell_type": "markdown",
      "source": [
        "### Social Vulnerability Indicators (selected columnss)\n"
      ],
      "metadata": {
        "id": "7M22jk7JpXy3"
      }
    },
    {
      "cell_type": "code",
      "source": [
        "# social vulnerability indicators for 2020\n",
        "svi2020_url = 'https://raw.githubusercontent.com/jjpal/dk122022_data_dive/main/SVI2020_US_COUNTY.csv'\n",
        "\n",
        "# load svi dataset with selected columns\n",
        "svi_2020_df = pd.read_csv(svi2020_url, usecols = ['STATE','ST_ABBR','COUNTY','FIPS','RPL_THEME1', 'RPL_THEME2', 'RPL_THEME3', 'RPL_THEME4', 'RPL_THEMES'])\n",
        "\n",
        "# display sample of dataset\n",
        "svi_2020_df.sample(3)"
      ],
      "metadata": {
        "colab": {
          "base_uri": "https://localhost:8080/",
          "height": 143
        },
        "id": "nkIEGGJXmPZn",
        "outputId": "20e0887e-24e8-47a9-dbf2-45c9fec6250c"
      },
      "execution_count": 9,
      "outputs": [
        {
          "output_type": "execute_result",
          "data": {
            "text/plain": [
              "         STATE ST_ABBR     COUNTY   FIPS  RPL_THEME1  RPL_THEME2  RPL_THEME3  \\\n",
              "1706  Nebraska      NE  Keya Paha  31103      0.0500      0.1143      0.0029   \n",
              "253   Colorado      CO    Chaffee   8015      0.2342      0.7346      0.4535   \n",
              "2048      Ohio      OH     Athens  39009      0.6808      0.0169      0.3355   \n",
              "\n",
              "      RPL_THEME4  RPL_THEMES  \n",
              "1706      0.0057      0.0051  \n",
              "253       0.8724      0.5509  \n",
              "2048      0.9659      0.5439  "
            ],
            "text/html": [
              "\n",
              "  <div id=\"df-01a05be4-4dc9-4b02-a978-12b3ef9571d8\">\n",
              "    <div class=\"colab-df-container\">\n",
              "      <div>\n",
              "<style scoped>\n",
              "    .dataframe tbody tr th:only-of-type {\n",
              "        vertical-align: middle;\n",
              "    }\n",
              "\n",
              "    .dataframe tbody tr th {\n",
              "        vertical-align: top;\n",
              "    }\n",
              "\n",
              "    .dataframe thead th {\n",
              "        text-align: right;\n",
              "    }\n",
              "</style>\n",
              "<table border=\"1\" class=\"dataframe\">\n",
              "  <thead>\n",
              "    <tr style=\"text-align: right;\">\n",
              "      <th></th>\n",
              "      <th>STATE</th>\n",
              "      <th>ST_ABBR</th>\n",
              "      <th>COUNTY</th>\n",
              "      <th>FIPS</th>\n",
              "      <th>RPL_THEME1</th>\n",
              "      <th>RPL_THEME2</th>\n",
              "      <th>RPL_THEME3</th>\n",
              "      <th>RPL_THEME4</th>\n",
              "      <th>RPL_THEMES</th>\n",
              "    </tr>\n",
              "  </thead>\n",
              "  <tbody>\n",
              "    <tr>\n",
              "      <th>1706</th>\n",
              "      <td>Nebraska</td>\n",
              "      <td>NE</td>\n",
              "      <td>Keya Paha</td>\n",
              "      <td>31103</td>\n",
              "      <td>0.0500</td>\n",
              "      <td>0.1143</td>\n",
              "      <td>0.0029</td>\n",
              "      <td>0.0057</td>\n",
              "      <td>0.0051</td>\n",
              "    </tr>\n",
              "    <tr>\n",
              "      <th>253</th>\n",
              "      <td>Colorado</td>\n",
              "      <td>CO</td>\n",
              "      <td>Chaffee</td>\n",
              "      <td>8015</td>\n",
              "      <td>0.2342</td>\n",
              "      <td>0.7346</td>\n",
              "      <td>0.4535</td>\n",
              "      <td>0.8724</td>\n",
              "      <td>0.5509</td>\n",
              "    </tr>\n",
              "    <tr>\n",
              "      <th>2048</th>\n",
              "      <td>Ohio</td>\n",
              "      <td>OH</td>\n",
              "      <td>Athens</td>\n",
              "      <td>39009</td>\n",
              "      <td>0.6808</td>\n",
              "      <td>0.0169</td>\n",
              "      <td>0.3355</td>\n",
              "      <td>0.9659</td>\n",
              "      <td>0.5439</td>\n",
              "    </tr>\n",
              "  </tbody>\n",
              "</table>\n",
              "</div>\n",
              "      <button class=\"colab-df-convert\" onclick=\"convertToInteractive('df-01a05be4-4dc9-4b02-a978-12b3ef9571d8')\"\n",
              "              title=\"Convert this dataframe to an interactive table.\"\n",
              "              style=\"display:none;\">\n",
              "        \n",
              "  <svg xmlns=\"http://www.w3.org/2000/svg\" height=\"24px\"viewBox=\"0 0 24 24\"\n",
              "       width=\"24px\">\n",
              "    <path d=\"M0 0h24v24H0V0z\" fill=\"none\"/>\n",
              "    <path d=\"M18.56 5.44l.94 2.06.94-2.06 2.06-.94-2.06-.94-.94-2.06-.94 2.06-2.06.94zm-11 1L8.5 8.5l.94-2.06 2.06-.94-2.06-.94L8.5 2.5l-.94 2.06-2.06.94zm10 10l.94 2.06.94-2.06 2.06-.94-2.06-.94-.94-2.06-.94 2.06-2.06.94z\"/><path d=\"M17.41 7.96l-1.37-1.37c-.4-.4-.92-.59-1.43-.59-.52 0-1.04.2-1.43.59L10.3 9.45l-7.72 7.72c-.78.78-.78 2.05 0 2.83L4 21.41c.39.39.9.59 1.41.59.51 0 1.02-.2 1.41-.59l7.78-7.78 2.81-2.81c.8-.78.8-2.07 0-2.86zM5.41 20L4 18.59l7.72-7.72 1.47 1.35L5.41 20z\"/>\n",
              "  </svg>\n",
              "      </button>\n",
              "      \n",
              "  <style>\n",
              "    .colab-df-container {\n",
              "      display:flex;\n",
              "      flex-wrap:wrap;\n",
              "      gap: 12px;\n",
              "    }\n",
              "\n",
              "    .colab-df-convert {\n",
              "      background-color: #E8F0FE;\n",
              "      border: none;\n",
              "      border-radius: 50%;\n",
              "      cursor: pointer;\n",
              "      display: none;\n",
              "      fill: #1967D2;\n",
              "      height: 32px;\n",
              "      padding: 0 0 0 0;\n",
              "      width: 32px;\n",
              "    }\n",
              "\n",
              "    .colab-df-convert:hover {\n",
              "      background-color: #E2EBFA;\n",
              "      box-shadow: 0px 1px 2px rgba(60, 64, 67, 0.3), 0px 1px 3px 1px rgba(60, 64, 67, 0.15);\n",
              "      fill: #174EA6;\n",
              "    }\n",
              "\n",
              "    [theme=dark] .colab-df-convert {\n",
              "      background-color: #3B4455;\n",
              "      fill: #D2E3FC;\n",
              "    }\n",
              "\n",
              "    [theme=dark] .colab-df-convert:hover {\n",
              "      background-color: #434B5C;\n",
              "      box-shadow: 0px 1px 3px 1px rgba(0, 0, 0, 0.15);\n",
              "      filter: drop-shadow(0px 1px 2px rgba(0, 0, 0, 0.3));\n",
              "      fill: #FFFFFF;\n",
              "    }\n",
              "  </style>\n",
              "\n",
              "      <script>\n",
              "        const buttonEl =\n",
              "          document.querySelector('#df-01a05be4-4dc9-4b02-a978-12b3ef9571d8 button.colab-df-convert');\n",
              "        buttonEl.style.display =\n",
              "          google.colab.kernel.accessAllowed ? 'block' : 'none';\n",
              "\n",
              "        async function convertToInteractive(key) {\n",
              "          const element = document.querySelector('#df-01a05be4-4dc9-4b02-a978-12b3ef9571d8');\n",
              "          const dataTable =\n",
              "            await google.colab.kernel.invokeFunction('convertToInteractive',\n",
              "                                                     [key], {});\n",
              "          if (!dataTable) return;\n",
              "\n",
              "          const docLinkHtml = 'Like what you see? Visit the ' +\n",
              "            '<a target=\"_blank\" href=https://colab.research.google.com/notebooks/data_table.ipynb>data table notebook</a>'\n",
              "            + ' to learn more about interactive tables.';\n",
              "          element.innerHTML = '';\n",
              "          dataTable['output_type'] = 'display_data';\n",
              "          await google.colab.output.renderOutput(dataTable, element);\n",
              "          const docLink = document.createElement('div');\n",
              "          docLink.innerHTML = docLinkHtml;\n",
              "          element.appendChild(docLink);\n",
              "        }\n",
              "      </script>\n",
              "    </div>\n",
              "  </div>\n",
              "  "
            ]
          },
          "metadata": {},
          "execution_count": 9
        }
      ]
    },
    {
      "cell_type": "code",
      "source": [
        "# merge previously merged SNAP data with svi2020 indicators\n",
        "SNAP_SVI = pd.merge(snap_county_2020_dfnew, svi_2020_df,left_on='countyFIPS',right_on='FIPS',how='inner')"
      ],
      "metadata": {
        "id": "PgSIWKlcZv03"
      },
      "execution_count": 10,
      "outputs": []
    },
    {
      "cell_type": "markdown",
      "source": [
        "### Map Meal Gap Data "
      ],
      "metadata": {
        "id": "LoSNqi6-Pg-j"
      }
    },
    {
      "cell_type": "code",
      "source": [
        "# map_meal_gap_data - with County sheet name\n",
        "map_meal_gap_2020_df = pd.read_excel(io='https://github.com/jjpal/dk122022_data_dive/blob/main/MMG2022_2020-2019Data_ToShare.xlsx?raw=true', sheet_name ='County')"
      ],
      "metadata": {
        "id": "U7CmQlqJmPVm"
      },
      "execution_count": 11,
      "outputs": []
    },
    {
      "cell_type": "code",
      "source": [
        "# separate County and State into different columns\n",
        "map_meal_gap_2020_df[['County', 'States']] = map_meal_gap_2020_df['County, State'].str.split(pat = ',', expand = True)\n",
        "\n",
        "map_meal_gap_2020_df = map_meal_gap_2020_df[map_meal_gap_2020_df['Year'] == 2020]\n",
        "map_meal_gap_2020_df.drop('County, State', axis=1, inplace=True)"
      ],
      "metadata": {
        "id": "Pomg4LcOYnGk"
      },
      "execution_count": 12,
      "outputs": []
    },
    {
      "cell_type": "code",
      "source": [
        "# change the datatype to datetime\n",
        "map_meal_gap_2020_df['Year'] = pd.to_datetime(map_meal_gap_2020_df['Year'], format='%Y')                            "
      ],
      "metadata": {
        "id": "kIndDlgvA_fF"
      },
      "execution_count": 13,
      "outputs": []
    },
    {
      "cell_type": "code",
      "source": [
        "# change the datatype\n",
        "map_meal_gap_2020_df['FIPS'] = map_meal_gap_2020_df['FIPS'].astype(int)"
      ],
      "metadata": {
        "id": "d0Oxht9Aju1l"
      },
      "execution_count": 14,
      "outputs": []
    },
    {
      "cell_type": "code",
      "source": [
        "# combine previously merged snap_svi df with map meal datase\n",
        "map_svi_snap = pd.merge(SNAP_SVI, map_meal_gap_2020_df,left_on='FIPS',right_on='FIPS',how='inner')"
      ],
      "metadata": {
        "id": "kjH_1wipPvJQ"
      },
      "execution_count": 15,
      "outputs": []
    },
    {
      "cell_type": "code",
      "source": [
        "print(map_svi_snap.shape)\n",
        "print(map_svi_snap.columns)"
      ],
      "metadata": {
        "colab": {
          "base_uri": "https://localhost:8080/"
        },
        "id": "SKDzWbSsPvQO",
        "outputId": "40ac723d-f7d5-4ac3-c20c-bbe9cc483cb3"
      },
      "execution_count": 16,
      "outputs": [
        {
          "output_type": "stream",
          "name": "stdout",
          "text": [
            "(2507, 42)\n",
            "Index(['countyFIPS', 'year', 'PersonsPublic', 'PersonsNonPublic',\n",
            "       'PersonsTotal', 'HouseholdsPublicAssistance',\n",
            "       'HouseholdsNonPublicAssistance', 'HouseholdsTotal', 'Issuance',\n",
            "       'stateFIPS', 'STATE', 'ST_ABBR', 'COUNTY', 'FIPS', 'RPL_THEME1',\n",
            "       'RPL_THEME2', 'RPL_THEME3', 'RPL_THEME4', 'RPL_THEMES', 'State', 'Year',\n",
            "       'Overall Food Insecurity Rate (1 Year)',\n",
            "       '# of Food Insecure Persons Overall (1 Year)',\n",
            "       'Food Insecurity Rate among Black Persons (all ethnicities)',\n",
            "       'Food Insecurity Rate among Hispanic Persons (any race)',\n",
            "       'Food Insecurity Rate among White, non-Hispanic Persons ',\n",
            "       'Low Threshold in state', 'Low Threshold Type',\n",
            "       'High Threshold in state', 'High Threshold Type',\n",
            "       '% FI ≤ Low Threshold', '% FI Btwn Thresholds', '% FI > High Threshold',\n",
            "       'Child Food Insecurity Rate (1 Year)',\n",
            "       '# of Food Insecure Children (1 Year)',\n",
            "       '% food insecure children in HH w/ HH incomes below 185 FPL',\n",
            "       '% food insecure children in HH w/ HH incomes above 185 FPL',\n",
            "       'Cost Per Meal (1 Year)', 'Weighted weekly $ needed by FI',\n",
            "       'Weighted Annual Food Budget Shortfall', 'County', 'States'],\n",
            "      dtype='object')\n"
          ]
        }
      ]
    },
    {
      "cell_type": "code",
      "source": [
        "# FIPS CODE B11001 from census households per county\n",
        "census_table_url = 'https://raw.githubusercontent.com/michaelbbryan/tools-and-kaggles/main/DataDive2022/juanita.csv'\n",
        "\n",
        "# load svi dataset with selected columns\n",
        "census_FIPS_df = pd.read_csv(census_table_url, usecols = ['countyFIPS', 'HHCount'])\n",
        "\n",
        "# display dataframe\n",
        "census_FIPS_df.sample(3) "
      ],
      "metadata": {
        "colab": {
          "base_uri": "https://localhost:8080/",
          "height": 143
        },
        "id": "pwX6Lz-tlr7s",
        "outputId": "55eb448f-20f4-4bca-ae57-b1784d2dd4ba"
      },
      "execution_count": 17,
      "outputs": [
        {
          "output_type": "execute_result",
          "data": {
            "text/plain": [
              "     countyFIPS   HHCount\n",
              "399       13023    4250.0\n",
              "354       12069  137446.0\n",
              "318       10003  209431.0"
            ],
            "text/html": [
              "\n",
              "  <div id=\"df-a5a2931d-0dbd-40f9-a097-34165cef788c\">\n",
              "    <div class=\"colab-df-container\">\n",
              "      <div>\n",
              "<style scoped>\n",
              "    .dataframe tbody tr th:only-of-type {\n",
              "        vertical-align: middle;\n",
              "    }\n",
              "\n",
              "    .dataframe tbody tr th {\n",
              "        vertical-align: top;\n",
              "    }\n",
              "\n",
              "    .dataframe thead th {\n",
              "        text-align: right;\n",
              "    }\n",
              "</style>\n",
              "<table border=\"1\" class=\"dataframe\">\n",
              "  <thead>\n",
              "    <tr style=\"text-align: right;\">\n",
              "      <th></th>\n",
              "      <th>countyFIPS</th>\n",
              "      <th>HHCount</th>\n",
              "    </tr>\n",
              "  </thead>\n",
              "  <tbody>\n",
              "    <tr>\n",
              "      <th>399</th>\n",
              "      <td>13023</td>\n",
              "      <td>4250.0</td>\n",
              "    </tr>\n",
              "    <tr>\n",
              "      <th>354</th>\n",
              "      <td>12069</td>\n",
              "      <td>137446.0</td>\n",
              "    </tr>\n",
              "    <tr>\n",
              "      <th>318</th>\n",
              "      <td>10003</td>\n",
              "      <td>209431.0</td>\n",
              "    </tr>\n",
              "  </tbody>\n",
              "</table>\n",
              "</div>\n",
              "      <button class=\"colab-df-convert\" onclick=\"convertToInteractive('df-a5a2931d-0dbd-40f9-a097-34165cef788c')\"\n",
              "              title=\"Convert this dataframe to an interactive table.\"\n",
              "              style=\"display:none;\">\n",
              "        \n",
              "  <svg xmlns=\"http://www.w3.org/2000/svg\" height=\"24px\"viewBox=\"0 0 24 24\"\n",
              "       width=\"24px\">\n",
              "    <path d=\"M0 0h24v24H0V0z\" fill=\"none\"/>\n",
              "    <path d=\"M18.56 5.44l.94 2.06.94-2.06 2.06-.94-2.06-.94-.94-2.06-.94 2.06-2.06.94zm-11 1L8.5 8.5l.94-2.06 2.06-.94-2.06-.94L8.5 2.5l-.94 2.06-2.06.94zm10 10l.94 2.06.94-2.06 2.06-.94-2.06-.94-.94-2.06-.94 2.06-2.06.94z\"/><path d=\"M17.41 7.96l-1.37-1.37c-.4-.4-.92-.59-1.43-.59-.52 0-1.04.2-1.43.59L10.3 9.45l-7.72 7.72c-.78.78-.78 2.05 0 2.83L4 21.41c.39.39.9.59 1.41.59.51 0 1.02-.2 1.41-.59l7.78-7.78 2.81-2.81c.8-.78.8-2.07 0-2.86zM5.41 20L4 18.59l7.72-7.72 1.47 1.35L5.41 20z\"/>\n",
              "  </svg>\n",
              "      </button>\n",
              "      \n",
              "  <style>\n",
              "    .colab-df-container {\n",
              "      display:flex;\n",
              "      flex-wrap:wrap;\n",
              "      gap: 12px;\n",
              "    }\n",
              "\n",
              "    .colab-df-convert {\n",
              "      background-color: #E8F0FE;\n",
              "      border: none;\n",
              "      border-radius: 50%;\n",
              "      cursor: pointer;\n",
              "      display: none;\n",
              "      fill: #1967D2;\n",
              "      height: 32px;\n",
              "      padding: 0 0 0 0;\n",
              "      width: 32px;\n",
              "    }\n",
              "\n",
              "    .colab-df-convert:hover {\n",
              "      background-color: #E2EBFA;\n",
              "      box-shadow: 0px 1px 2px rgba(60, 64, 67, 0.3), 0px 1px 3px 1px rgba(60, 64, 67, 0.15);\n",
              "      fill: #174EA6;\n",
              "    }\n",
              "\n",
              "    [theme=dark] .colab-df-convert {\n",
              "      background-color: #3B4455;\n",
              "      fill: #D2E3FC;\n",
              "    }\n",
              "\n",
              "    [theme=dark] .colab-df-convert:hover {\n",
              "      background-color: #434B5C;\n",
              "      box-shadow: 0px 1px 3px 1px rgba(0, 0, 0, 0.15);\n",
              "      filter: drop-shadow(0px 1px 2px rgba(0, 0, 0, 0.3));\n",
              "      fill: #FFFFFF;\n",
              "    }\n",
              "  </style>\n",
              "\n",
              "      <script>\n",
              "        const buttonEl =\n",
              "          document.querySelector('#df-a5a2931d-0dbd-40f9-a097-34165cef788c button.colab-df-convert');\n",
              "        buttonEl.style.display =\n",
              "          google.colab.kernel.accessAllowed ? 'block' : 'none';\n",
              "\n",
              "        async function convertToInteractive(key) {\n",
              "          const element = document.querySelector('#df-a5a2931d-0dbd-40f9-a097-34165cef788c');\n",
              "          const dataTable =\n",
              "            await google.colab.kernel.invokeFunction('convertToInteractive',\n",
              "                                                     [key], {});\n",
              "          if (!dataTable) return;\n",
              "\n",
              "          const docLinkHtml = 'Like what you see? Visit the ' +\n",
              "            '<a target=\"_blank\" href=https://colab.research.google.com/notebooks/data_table.ipynb>data table notebook</a>'\n",
              "            + ' to learn more about interactive tables.';\n",
              "          element.innerHTML = '';\n",
              "          dataTable['output_type'] = 'display_data';\n",
              "          await google.colab.output.renderOutput(dataTable, element);\n",
              "          const docLink = document.createElement('div');\n",
              "          docLink.innerHTML = docLinkHtml;\n",
              "          element.appendChild(docLink);\n",
              "        }\n",
              "      </script>\n",
              "    </div>\n",
              "  </div>\n",
              "  "
            ]
          },
          "metadata": {},
          "execution_count": 17
        }
      ]
    },
    {
      "cell_type": "code",
      "source": [
        "# merge FIPS column to existing merged data and assign to a new df\n",
        "census_map_svi_snap = pd.merge(census_FIPS_df, map_svi_snap,left_on='countyFIPS',right_on='countyFIPS',how='inner')\n",
        "\n",
        "# display dataframe\n",
        "census_map_svi_snap.sample(3)"
      ],
      "metadata": {
        "colab": {
          "base_uri": "https://localhost:8080/",
          "height": 410
        },
        "id": "eaMIQuNalrtX",
        "outputId": "cf70d78d-a3ac-421e-af8c-07eaac15a38c"
      },
      "execution_count": 18,
      "outputs": [
        {
          "output_type": "execute_result",
          "data": {
            "text/plain": [
              "      countyFIPS  HHCount  year  PersonsPublic  PersonsNonPublic  \\\n",
              "799        20053   2390.0  2020           67.0             439.0   \n",
              "1704       40117   6260.0  2020           28.0            5254.0   \n",
              "2234       48479  76382.0  2020          544.0          139389.0   \n",
              "\n",
              "      PersonsTotal  HouseholdsPublicAssistance  HouseholdsNonPublicAssistance  \\\n",
              "799          506.0                        40.0                          187.0   \n",
              "1704        5282.0                        10.0                         2335.0   \n",
              "2234      139933.0                       148.0                        53239.0   \n",
              "\n",
              "      HouseholdsTotal    Issuance  ...  % FI > High Threshold  \\\n",
              "799             227.0     52214.0  ...                  0.409   \n",
              "1704           2345.0    762775.0  ...                  0.345   \n",
              "2234          53387.0  20145107.0  ...                  0.055   \n",
              "\n",
              "     Child Food Insecurity Rate (1 Year) # of Food Insecure Children (1 Year)  \\\n",
              "799                                0.131                                150.0   \n",
              "1704                               0.192                                740.0   \n",
              "2234                               0.252                              22770.0   \n",
              "\n",
              "     % food insecure children in HH w/ HH incomes below 185 FPL  \\\n",
              "799                                                0.79           \n",
              "1704                                               0.79           \n",
              "2234                                               0.88           \n",
              "\n",
              "      % food insecure children in HH w/ HH incomes above 185 FPL  \\\n",
              "799                                                0.21            \n",
              "1704                                               0.22            \n",
              "2234                                               0.12            \n",
              "\n",
              "      Cost Per Meal (1 Year)  Weighted weekly $ needed by FI  \\\n",
              "799                     3.02                       16.013291   \n",
              "1704                    3.24                       17.173419   \n",
              "2234                    2.71                       14.368212   \n",
              "\n",
              "      Weighted Annual Food Budget Shortfall            County     States  \n",
              "799                                262000.0  Ellsworth County     Kansas  \n",
              "1704                              1198000.0     Pawnee County   Oklahoma  \n",
              "2234                             19386000.0       Webb County      Texas  \n",
              "\n",
              "[3 rows x 43 columns]"
            ],
            "text/html": [
              "\n",
              "  <div id=\"df-de4ea455-8dc3-4848-ad81-4c668f98f454\">\n",
              "    <div class=\"colab-df-container\">\n",
              "      <div>\n",
              "<style scoped>\n",
              "    .dataframe tbody tr th:only-of-type {\n",
              "        vertical-align: middle;\n",
              "    }\n",
              "\n",
              "    .dataframe tbody tr th {\n",
              "        vertical-align: top;\n",
              "    }\n",
              "\n",
              "    .dataframe thead th {\n",
              "        text-align: right;\n",
              "    }\n",
              "</style>\n",
              "<table border=\"1\" class=\"dataframe\">\n",
              "  <thead>\n",
              "    <tr style=\"text-align: right;\">\n",
              "      <th></th>\n",
              "      <th>countyFIPS</th>\n",
              "      <th>HHCount</th>\n",
              "      <th>year</th>\n",
              "      <th>PersonsPublic</th>\n",
              "      <th>PersonsNonPublic</th>\n",
              "      <th>PersonsTotal</th>\n",
              "      <th>HouseholdsPublicAssistance</th>\n",
              "      <th>HouseholdsNonPublicAssistance</th>\n",
              "      <th>HouseholdsTotal</th>\n",
              "      <th>Issuance</th>\n",
              "      <th>...</th>\n",
              "      <th>% FI &gt; High Threshold</th>\n",
              "      <th>Child Food Insecurity Rate (1 Year)</th>\n",
              "      <th># of Food Insecure Children (1 Year)</th>\n",
              "      <th>% food insecure children in HH w/ HH incomes below 185 FPL</th>\n",
              "      <th>% food insecure children in HH w/ HH incomes above 185 FPL</th>\n",
              "      <th>Cost Per Meal (1 Year)</th>\n",
              "      <th>Weighted weekly $ needed by FI</th>\n",
              "      <th>Weighted Annual Food Budget Shortfall</th>\n",
              "      <th>County</th>\n",
              "      <th>States</th>\n",
              "    </tr>\n",
              "  </thead>\n",
              "  <tbody>\n",
              "    <tr>\n",
              "      <th>799</th>\n",
              "      <td>20053</td>\n",
              "      <td>2390.0</td>\n",
              "      <td>2020</td>\n",
              "      <td>67.0</td>\n",
              "      <td>439.0</td>\n",
              "      <td>506.0</td>\n",
              "      <td>40.0</td>\n",
              "      <td>187.0</td>\n",
              "      <td>227.0</td>\n",
              "      <td>52214.0</td>\n",
              "      <td>...</td>\n",
              "      <td>0.409</td>\n",
              "      <td>0.131</td>\n",
              "      <td>150.0</td>\n",
              "      <td>0.79</td>\n",
              "      <td>0.21</td>\n",
              "      <td>3.02</td>\n",
              "      <td>16.013291</td>\n",
              "      <td>262000.0</td>\n",
              "      <td>Ellsworth County</td>\n",
              "      <td>Kansas</td>\n",
              "    </tr>\n",
              "    <tr>\n",
              "      <th>1704</th>\n",
              "      <td>40117</td>\n",
              "      <td>6260.0</td>\n",
              "      <td>2020</td>\n",
              "      <td>28.0</td>\n",
              "      <td>5254.0</td>\n",
              "      <td>5282.0</td>\n",
              "      <td>10.0</td>\n",
              "      <td>2335.0</td>\n",
              "      <td>2345.0</td>\n",
              "      <td>762775.0</td>\n",
              "      <td>...</td>\n",
              "      <td>0.345</td>\n",
              "      <td>0.192</td>\n",
              "      <td>740.0</td>\n",
              "      <td>0.79</td>\n",
              "      <td>0.22</td>\n",
              "      <td>3.24</td>\n",
              "      <td>17.173419</td>\n",
              "      <td>1198000.0</td>\n",
              "      <td>Pawnee County</td>\n",
              "      <td>Oklahoma</td>\n",
              "    </tr>\n",
              "    <tr>\n",
              "      <th>2234</th>\n",
              "      <td>48479</td>\n",
              "      <td>76382.0</td>\n",
              "      <td>2020</td>\n",
              "      <td>544.0</td>\n",
              "      <td>139389.0</td>\n",
              "      <td>139933.0</td>\n",
              "      <td>148.0</td>\n",
              "      <td>53239.0</td>\n",
              "      <td>53387.0</td>\n",
              "      <td>20145107.0</td>\n",
              "      <td>...</td>\n",
              "      <td>0.055</td>\n",
              "      <td>0.252</td>\n",
              "      <td>22770.0</td>\n",
              "      <td>0.88</td>\n",
              "      <td>0.12</td>\n",
              "      <td>2.71</td>\n",
              "      <td>14.368212</td>\n",
              "      <td>19386000.0</td>\n",
              "      <td>Webb County</td>\n",
              "      <td>Texas</td>\n",
              "    </tr>\n",
              "  </tbody>\n",
              "</table>\n",
              "<p>3 rows × 43 columns</p>\n",
              "</div>\n",
              "      <button class=\"colab-df-convert\" onclick=\"convertToInteractive('df-de4ea455-8dc3-4848-ad81-4c668f98f454')\"\n",
              "              title=\"Convert this dataframe to an interactive table.\"\n",
              "              style=\"display:none;\">\n",
              "        \n",
              "  <svg xmlns=\"http://www.w3.org/2000/svg\" height=\"24px\"viewBox=\"0 0 24 24\"\n",
              "       width=\"24px\">\n",
              "    <path d=\"M0 0h24v24H0V0z\" fill=\"none\"/>\n",
              "    <path d=\"M18.56 5.44l.94 2.06.94-2.06 2.06-.94-2.06-.94-.94-2.06-.94 2.06-2.06.94zm-11 1L8.5 8.5l.94-2.06 2.06-.94-2.06-.94L8.5 2.5l-.94 2.06-2.06.94zm10 10l.94 2.06.94-2.06 2.06-.94-2.06-.94-.94-2.06-.94 2.06-2.06.94z\"/><path d=\"M17.41 7.96l-1.37-1.37c-.4-.4-.92-.59-1.43-.59-.52 0-1.04.2-1.43.59L10.3 9.45l-7.72 7.72c-.78.78-.78 2.05 0 2.83L4 21.41c.39.39.9.59 1.41.59.51 0 1.02-.2 1.41-.59l7.78-7.78 2.81-2.81c.8-.78.8-2.07 0-2.86zM5.41 20L4 18.59l7.72-7.72 1.47 1.35L5.41 20z\"/>\n",
              "  </svg>\n",
              "      </button>\n",
              "      \n",
              "  <style>\n",
              "    .colab-df-container {\n",
              "      display:flex;\n",
              "      flex-wrap:wrap;\n",
              "      gap: 12px;\n",
              "    }\n",
              "\n",
              "    .colab-df-convert {\n",
              "      background-color: #E8F0FE;\n",
              "      border: none;\n",
              "      border-radius: 50%;\n",
              "      cursor: pointer;\n",
              "      display: none;\n",
              "      fill: #1967D2;\n",
              "      height: 32px;\n",
              "      padding: 0 0 0 0;\n",
              "      width: 32px;\n",
              "    }\n",
              "\n",
              "    .colab-df-convert:hover {\n",
              "      background-color: #E2EBFA;\n",
              "      box-shadow: 0px 1px 2px rgba(60, 64, 67, 0.3), 0px 1px 3px 1px rgba(60, 64, 67, 0.15);\n",
              "      fill: #174EA6;\n",
              "    }\n",
              "\n",
              "    [theme=dark] .colab-df-convert {\n",
              "      background-color: #3B4455;\n",
              "      fill: #D2E3FC;\n",
              "    }\n",
              "\n",
              "    [theme=dark] .colab-df-convert:hover {\n",
              "      background-color: #434B5C;\n",
              "      box-shadow: 0px 1px 3px 1px rgba(0, 0, 0, 0.15);\n",
              "      filter: drop-shadow(0px 1px 2px rgba(0, 0, 0, 0.3));\n",
              "      fill: #FFFFFF;\n",
              "    }\n",
              "  </style>\n",
              "\n",
              "      <script>\n",
              "        const buttonEl =\n",
              "          document.querySelector('#df-de4ea455-8dc3-4848-ad81-4c668f98f454 button.colab-df-convert');\n",
              "        buttonEl.style.display =\n",
              "          google.colab.kernel.accessAllowed ? 'block' : 'none';\n",
              "\n",
              "        async function convertToInteractive(key) {\n",
              "          const element = document.querySelector('#df-de4ea455-8dc3-4848-ad81-4c668f98f454');\n",
              "          const dataTable =\n",
              "            await google.colab.kernel.invokeFunction('convertToInteractive',\n",
              "                                                     [key], {});\n",
              "          if (!dataTable) return;\n",
              "\n",
              "          const docLinkHtml = 'Like what you see? Visit the ' +\n",
              "            '<a target=\"_blank\" href=https://colab.research.google.com/notebooks/data_table.ipynb>data table notebook</a>'\n",
              "            + ' to learn more about interactive tables.';\n",
              "          element.innerHTML = '';\n",
              "          dataTable['output_type'] = 'display_data';\n",
              "          await google.colab.output.renderOutput(dataTable, element);\n",
              "          const docLink = document.createElement('div');\n",
              "          docLink.innerHTML = docLinkHtml;\n",
              "          element.appendChild(docLink);\n",
              "        }\n",
              "      </script>\n",
              "    </div>\n",
              "  </div>\n",
              "  "
            ]
          },
          "metadata": {},
          "execution_count": 18
        }
      ]
    },
    {
      "cell_type": "code",
      "source": [
        "# calculation SNAP HouseholdsTotal/#census_household\n",
        "census_map_svi_snap['HH_ratio'] = census_map_svi_snap['HouseholdsTotal'] / census_map_svi_snap['HHCount']"
      ],
      "metadata": {
        "id": "JPHR1TQ1lq2H"
      },
      "execution_count": 19,
      "outputs": []
    },
    {
      "cell_type": "code",
      "source": [
        "# Columns of 4 table merge of selected columns\n",
        "census_map_svi_snap.columns"
      ],
      "metadata": {
        "colab": {
          "base_uri": "https://localhost:8080/"
        },
        "id": "58KilXdnQLXF",
        "outputId": "b3d55e70-bdac-45da-f220-210c059ed616"
      },
      "execution_count": 20,
      "outputs": [
        {
          "output_type": "execute_result",
          "data": {
            "text/plain": [
              "Index(['countyFIPS', 'HHCount', 'year', 'PersonsPublic', 'PersonsNonPublic',\n",
              "       'PersonsTotal', 'HouseholdsPublicAssistance',\n",
              "       'HouseholdsNonPublicAssistance', 'HouseholdsTotal', 'Issuance',\n",
              "       'stateFIPS', 'STATE', 'ST_ABBR', 'COUNTY', 'FIPS', 'RPL_THEME1',\n",
              "       'RPL_THEME2', 'RPL_THEME3', 'RPL_THEME4', 'RPL_THEMES', 'State', 'Year',\n",
              "       'Overall Food Insecurity Rate (1 Year)',\n",
              "       '# of Food Insecure Persons Overall (1 Year)',\n",
              "       'Food Insecurity Rate among Black Persons (all ethnicities)',\n",
              "       'Food Insecurity Rate among Hispanic Persons (any race)',\n",
              "       'Food Insecurity Rate among White, non-Hispanic Persons ',\n",
              "       'Low Threshold in state', 'Low Threshold Type',\n",
              "       'High Threshold in state', 'High Threshold Type',\n",
              "       '% FI ≤ Low Threshold', '% FI Btwn Thresholds', '% FI > High Threshold',\n",
              "       'Child Food Insecurity Rate (1 Year)',\n",
              "       '# of Food Insecure Children (1 Year)',\n",
              "       '% food insecure children in HH w/ HH incomes below 185 FPL',\n",
              "       '% food insecure children in HH w/ HH incomes above 185 FPL',\n",
              "       'Cost Per Meal (1 Year)', 'Weighted weekly $ needed by FI',\n",
              "       'Weighted Annual Food Budget Shortfall', 'County', 'States',\n",
              "       'HH_ratio'],\n",
              "      dtype='object')"
            ]
          },
          "metadata": {},
          "execution_count": 20
        }
      ]
    },
    {
      "cell_type": "code",
      "source": [
        "census_map_svi_snap.head(3)"
      ],
      "metadata": {
        "colab": {
          "base_uri": "https://localhost:8080/",
          "height": 410
        },
        "id": "zA_E_Mf-2jLx",
        "outputId": "41c7796b-55ee-4d3d-f3e6-6d723eb758da"
      },
      "execution_count": 21,
      "outputs": [
        {
          "output_type": "execute_result",
          "data": {
            "text/plain": [
              "   countyFIPS  HHCount  year  PersonsPublic  PersonsNonPublic  PersonsTotal  \\\n",
              "0        1001  21559.0  2020         1977.0           13108.0       15085.0   \n",
              "1        1003  84047.0  2020         3723.0           37358.0       41081.0   \n",
              "2        1005   9322.0  2020         1607.0            9683.0       11290.0   \n",
              "\n",
              "   HouseholdsPublicAssistance  HouseholdsNonPublicAssistance  HouseholdsTotal  \\\n",
              "0                      1064.0                         5764.0           6828.0   \n",
              "1                      2229.0                        16252.0          18481.0   \n",
              "2                       960.0                         4280.0           5240.0   \n",
              "\n",
              "    Issuance  ...  Child Food Insecurity Rate (1 Year)  \\\n",
              "0  2219777.0  ...                                0.181   \n",
              "1  6120282.0  ...                                0.120   \n",
              "2  1660768.0  ...                                0.334   \n",
              "\n",
              "  # of Food Insecure Children (1 Year)  \\\n",
              "0                               2380.0   \n",
              "1                               5650.0   \n",
              "2                               1740.0   \n",
              "\n",
              "  % food insecure children in HH w/ HH incomes below 185 FPL  \\\n",
              "0                                               0.71           \n",
              "1                                               0.82           \n",
              "2                                               0.82           \n",
              "\n",
              "  % food insecure children in HH w/ HH incomes above 185 FPL  \\\n",
              "0                                               0.29           \n",
              "1                                               0.18           \n",
              "2                                               0.18           \n",
              "\n",
              "   Cost Per Meal (1 Year)  Weighted weekly $ needed by FI  \\\n",
              "0                    3.22                       17.092792   \n",
              "1                    3.72                       19.723135   \n",
              "2                    3.19                       16.956475   \n",
              "\n",
              "   Weighted Annual Food Budget Shortfall          County    States  HH_ratio  \n",
              "0                              4184000.0  Autauga County   Alabama  0.316712  \n",
              "1                             16195000.0  Baldwin County   Alabama  0.219889  \n",
              "2                              2505000.0  Barbour County   Alabama  0.562111  \n",
              "\n",
              "[3 rows x 44 columns]"
            ],
            "text/html": [
              "\n",
              "  <div id=\"df-e61f5d92-809b-49ba-a732-acbe110fd956\">\n",
              "    <div class=\"colab-df-container\">\n",
              "      <div>\n",
              "<style scoped>\n",
              "    .dataframe tbody tr th:only-of-type {\n",
              "        vertical-align: middle;\n",
              "    }\n",
              "\n",
              "    .dataframe tbody tr th {\n",
              "        vertical-align: top;\n",
              "    }\n",
              "\n",
              "    .dataframe thead th {\n",
              "        text-align: right;\n",
              "    }\n",
              "</style>\n",
              "<table border=\"1\" class=\"dataframe\">\n",
              "  <thead>\n",
              "    <tr style=\"text-align: right;\">\n",
              "      <th></th>\n",
              "      <th>countyFIPS</th>\n",
              "      <th>HHCount</th>\n",
              "      <th>year</th>\n",
              "      <th>PersonsPublic</th>\n",
              "      <th>PersonsNonPublic</th>\n",
              "      <th>PersonsTotal</th>\n",
              "      <th>HouseholdsPublicAssistance</th>\n",
              "      <th>HouseholdsNonPublicAssistance</th>\n",
              "      <th>HouseholdsTotal</th>\n",
              "      <th>Issuance</th>\n",
              "      <th>...</th>\n",
              "      <th>Child Food Insecurity Rate (1 Year)</th>\n",
              "      <th># of Food Insecure Children (1 Year)</th>\n",
              "      <th>% food insecure children in HH w/ HH incomes below 185 FPL</th>\n",
              "      <th>% food insecure children in HH w/ HH incomes above 185 FPL</th>\n",
              "      <th>Cost Per Meal (1 Year)</th>\n",
              "      <th>Weighted weekly $ needed by FI</th>\n",
              "      <th>Weighted Annual Food Budget Shortfall</th>\n",
              "      <th>County</th>\n",
              "      <th>States</th>\n",
              "      <th>HH_ratio</th>\n",
              "    </tr>\n",
              "  </thead>\n",
              "  <tbody>\n",
              "    <tr>\n",
              "      <th>0</th>\n",
              "      <td>1001</td>\n",
              "      <td>21559.0</td>\n",
              "      <td>2020</td>\n",
              "      <td>1977.0</td>\n",
              "      <td>13108.0</td>\n",
              "      <td>15085.0</td>\n",
              "      <td>1064.0</td>\n",
              "      <td>5764.0</td>\n",
              "      <td>6828.0</td>\n",
              "      <td>2219777.0</td>\n",
              "      <td>...</td>\n",
              "      <td>0.181</td>\n",
              "      <td>2380.0</td>\n",
              "      <td>0.71</td>\n",
              "      <td>0.29</td>\n",
              "      <td>3.22</td>\n",
              "      <td>17.092792</td>\n",
              "      <td>4184000.0</td>\n",
              "      <td>Autauga County</td>\n",
              "      <td>Alabama</td>\n",
              "      <td>0.316712</td>\n",
              "    </tr>\n",
              "    <tr>\n",
              "      <th>1</th>\n",
              "      <td>1003</td>\n",
              "      <td>84047.0</td>\n",
              "      <td>2020</td>\n",
              "      <td>3723.0</td>\n",
              "      <td>37358.0</td>\n",
              "      <td>41081.0</td>\n",
              "      <td>2229.0</td>\n",
              "      <td>16252.0</td>\n",
              "      <td>18481.0</td>\n",
              "      <td>6120282.0</td>\n",
              "      <td>...</td>\n",
              "      <td>0.120</td>\n",
              "      <td>5650.0</td>\n",
              "      <td>0.82</td>\n",
              "      <td>0.18</td>\n",
              "      <td>3.72</td>\n",
              "      <td>19.723135</td>\n",
              "      <td>16195000.0</td>\n",
              "      <td>Baldwin County</td>\n",
              "      <td>Alabama</td>\n",
              "      <td>0.219889</td>\n",
              "    </tr>\n",
              "    <tr>\n",
              "      <th>2</th>\n",
              "      <td>1005</td>\n",
              "      <td>9322.0</td>\n",
              "      <td>2020</td>\n",
              "      <td>1607.0</td>\n",
              "      <td>9683.0</td>\n",
              "      <td>11290.0</td>\n",
              "      <td>960.0</td>\n",
              "      <td>4280.0</td>\n",
              "      <td>5240.0</td>\n",
              "      <td>1660768.0</td>\n",
              "      <td>...</td>\n",
              "      <td>0.334</td>\n",
              "      <td>1740.0</td>\n",
              "      <td>0.82</td>\n",
              "      <td>0.18</td>\n",
              "      <td>3.19</td>\n",
              "      <td>16.956475</td>\n",
              "      <td>2505000.0</td>\n",
              "      <td>Barbour County</td>\n",
              "      <td>Alabama</td>\n",
              "      <td>0.562111</td>\n",
              "    </tr>\n",
              "  </tbody>\n",
              "</table>\n",
              "<p>3 rows × 44 columns</p>\n",
              "</div>\n",
              "      <button class=\"colab-df-convert\" onclick=\"convertToInteractive('df-e61f5d92-809b-49ba-a732-acbe110fd956')\"\n",
              "              title=\"Convert this dataframe to an interactive table.\"\n",
              "              style=\"display:none;\">\n",
              "        \n",
              "  <svg xmlns=\"http://www.w3.org/2000/svg\" height=\"24px\"viewBox=\"0 0 24 24\"\n",
              "       width=\"24px\">\n",
              "    <path d=\"M0 0h24v24H0V0z\" fill=\"none\"/>\n",
              "    <path d=\"M18.56 5.44l.94 2.06.94-2.06 2.06-.94-2.06-.94-.94-2.06-.94 2.06-2.06.94zm-11 1L8.5 8.5l.94-2.06 2.06-.94-2.06-.94L8.5 2.5l-.94 2.06-2.06.94zm10 10l.94 2.06.94-2.06 2.06-.94-2.06-.94-.94-2.06-.94 2.06-2.06.94z\"/><path d=\"M17.41 7.96l-1.37-1.37c-.4-.4-.92-.59-1.43-.59-.52 0-1.04.2-1.43.59L10.3 9.45l-7.72 7.72c-.78.78-.78 2.05 0 2.83L4 21.41c.39.39.9.59 1.41.59.51 0 1.02-.2 1.41-.59l7.78-7.78 2.81-2.81c.8-.78.8-2.07 0-2.86zM5.41 20L4 18.59l7.72-7.72 1.47 1.35L5.41 20z\"/>\n",
              "  </svg>\n",
              "      </button>\n",
              "      \n",
              "  <style>\n",
              "    .colab-df-container {\n",
              "      display:flex;\n",
              "      flex-wrap:wrap;\n",
              "      gap: 12px;\n",
              "    }\n",
              "\n",
              "    .colab-df-convert {\n",
              "      background-color: #E8F0FE;\n",
              "      border: none;\n",
              "      border-radius: 50%;\n",
              "      cursor: pointer;\n",
              "      display: none;\n",
              "      fill: #1967D2;\n",
              "      height: 32px;\n",
              "      padding: 0 0 0 0;\n",
              "      width: 32px;\n",
              "    }\n",
              "\n",
              "    .colab-df-convert:hover {\n",
              "      background-color: #E2EBFA;\n",
              "      box-shadow: 0px 1px 2px rgba(60, 64, 67, 0.3), 0px 1px 3px 1px rgba(60, 64, 67, 0.15);\n",
              "      fill: #174EA6;\n",
              "    }\n",
              "\n",
              "    [theme=dark] .colab-df-convert {\n",
              "      background-color: #3B4455;\n",
              "      fill: #D2E3FC;\n",
              "    }\n",
              "\n",
              "    [theme=dark] .colab-df-convert:hover {\n",
              "      background-color: #434B5C;\n",
              "      box-shadow: 0px 1px 3px 1px rgba(0, 0, 0, 0.15);\n",
              "      filter: drop-shadow(0px 1px 2px rgba(0, 0, 0, 0.3));\n",
              "      fill: #FFFFFF;\n",
              "    }\n",
              "  </style>\n",
              "\n",
              "      <script>\n",
              "        const buttonEl =\n",
              "          document.querySelector('#df-e61f5d92-809b-49ba-a732-acbe110fd956 button.colab-df-convert');\n",
              "        buttonEl.style.display =\n",
              "          google.colab.kernel.accessAllowed ? 'block' : 'none';\n",
              "\n",
              "        async function convertToInteractive(key) {\n",
              "          const element = document.querySelector('#df-e61f5d92-809b-49ba-a732-acbe110fd956');\n",
              "          const dataTable =\n",
              "            await google.colab.kernel.invokeFunction('convertToInteractive',\n",
              "                                                     [key], {});\n",
              "          if (!dataTable) return;\n",
              "\n",
              "          const docLinkHtml = 'Like what you see? Visit the ' +\n",
              "            '<a target=\"_blank\" href=https://colab.research.google.com/notebooks/data_table.ipynb>data table notebook</a>'\n",
              "            + ' to learn more about interactive tables.';\n",
              "          element.innerHTML = '';\n",
              "          dataTable['output_type'] = 'display_data';\n",
              "          await google.colab.output.renderOutput(dataTable, element);\n",
              "          const docLink = document.createElement('div');\n",
              "          docLink.innerHTML = docLinkHtml;\n",
              "          element.appendChild(docLink);\n",
              "        }\n",
              "      </script>\n",
              "    </div>\n",
              "  </div>\n",
              "  "
            ]
          },
          "metadata": {},
          "execution_count": 21
        }
      ]
    },
    {
      "cell_type": "code",
      "source": [
        "y = census_map_svi_snap['HH_ratio']\n",
        "\n",
        "for theme in ['1','2','3','4','S']:\n",
        "      x = census_map_svi_snap['RPL_THEME' + theme]\n",
        "      plt.scatter(x, y)\n",
        "      plt.xlabel('SVI measures - RPL_THEME_' + theme)\n",
        "      plt.ylabel('SNAP benefit uptake')\n",
        "      plt.show()"
      ],
      "metadata": {
        "colab": {
          "base_uri": "https://localhost:8080/",
          "height": 1000
        },
        "id": "fZC_YQG7_I65",
        "outputId": "3a7c79b4-20a3-458c-83d2-4d6fdaea8cba"
      },
      "execution_count": 44,
      "outputs": [
        {
          "output_type": "display_data",
          "data": {
            "text/plain": [
              "<Figure size 432x288 with 1 Axes>"
            ],
            "image/png": "[encoded data removed]"
          },
          "metadata": {
            "needs_background": "light"
          }
        },
        {
          "output_type": "display_data",
          "data": {
            "text/plain": [
              "<Figure size 432x288 with 1 Axes>"
            ],
            "image/png": "[encoded data removed]"
          },
          "metadata": {
            "needs_background": "light"
          }
        },
        {
          "output_type": "display_data",
          "data": {
            "text/plain": [
              "<Figure size 432x288 with 1 Axes>"
            ],
            "image/png": "[encoded data removed]"
          },
          "metadata": {
            "needs_background": "light"
          }
        },
        {
          "output_type": "display_data",
          "data": {
            "text/plain": [
              "<Figure size 432x288 with 1 Axes>"
            ],
            "image/png": "[encoded data removed]"
          },
          "metadata": {
            "needs_background": "light"
          }
        },
        {
          "output_type": "display_data",
          "data": {
            "text/plain": [
              "<Figure size 432x288 with 1 Axes>"
            ],
            "image/png": "[encoded data removed]"
          },
          "metadata": {
            "needs_background": "light"
          }
        }
      ]
    },
    {
      "cell_type": "code",
      "source": [
        "print(f\"RPL_THEME x min {x.min()} | x max {x.max()}\") \n",
        "print(f\"HH_ratio  y min {y.min()} | y max {y.max()}\")  \n"
      ],
      "metadata": {
        "colab": {
          "base_uri": "https://localhost:8080/"
        },
        "id": "3pMKWibAII3T",
        "outputId": "675f4dde-ce4c-4547-db95-435ec27f5fa4"
      },
      "execution_count": 48,
      "outputs": [
        {
          "output_type": "stream",
          "name": "stdout",
          "text": [
            "RPL_THEME x min 0.0013 | x max 1.0\n",
            "HH_ratio  y min 0.0 | y max 5.79437800900761\n"
          ]
        }
      ]
    },
    {
      "cell_type": "code",
      "source": [
        "# regression to see how they predict together. "
      ],
      "metadata": {
        "id": "YDvyEqKrPRYs"
      },
      "execution_count": null,
      "outputs": []
    },
    {
      "cell_type": "markdown",
      "source": [],
      "metadata": {
        "id": "A9RmFnCIRiRM"
      }
    }
  ]
}