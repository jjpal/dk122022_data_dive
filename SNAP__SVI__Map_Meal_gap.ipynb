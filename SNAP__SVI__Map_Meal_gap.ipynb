{
  "nbformat": 4,
  "nbformat_minor": 0,
  "metadata": {
    "colab": {
      "provenance": [],
      "authorship_tag": "ABX9TyPz0NGpKKa8N71r4v7in0uj",
      "include_colab_link": true
    },
    "kernelspec": {
      "name": "python3",
      "display_name": "Python 3"
    },
    "language_info": {
      "name": "python"
    }
  },
  "cells": [
    {
      "cell_type": "markdown",
      "metadata": {
        "id": "view-in-github",
        "colab_type": "text"
      },
      "source": [
        "<a href=\"https://colab.research.google.com/github/jjpal/dk122022_data_dive/blob/main/SNAP__SVI__Map_Meal_gap.ipynb\" target=\"_parent\"><img src=\"https://colab.research.google.com/assets/colab-badge.svg\" alt=\"Open In Colab\"/></a>"
      ]
    },
    {
      "cell_type": "markdown",
      "source": [
        "## Identifying potential eligibility-enrollment gap localities\n",
        "\n",
        "   ### Compare SNAP benefit uptake and measures of social vulnerability "
      ],
      "metadata": {
        "id": "959BJ8Z8BAty"
      }
    },
    {
      "cell_type": "code",
      "source": [
        "# import libraries\n",
        "import pandas as pd\n",
        "import numpy as np\n",
        "import matplotlib.pyplot as plt\n",
        "import seaborn as sns\n",
        "%matplotlib inline\n",
        "\n",
        "\n",
        "# Supress Warnings\n",
        "import warnings\n",
        "warnings.filterwarnings('ignore')"
      ],
      "metadata": {
        "id": "tKkKarNPWdOj"
      },
      "execution_count": null,
      "outputs": []
    },
    {
      "cell_type": "markdown",
      "source": [
        "### SUPPLEMENTAL NUTRITION ASSISTANCE PROGRAM (SNAP)\n",
        "\n",
        "Column Headers\n",
        "\n",
        "Substate, PersonsPublic, PersonsNonPublic, PersonsTotal,HouseholdsPublicAssistance, HouseholdsNonPublicAssistance, HouseholdsTotal,Issuance, month, year, countyFIPS, countyNAME, stateFIPS, stateNAME"
      ],
      "metadata": {
        "id": "E2sWGSSXnyzV"
      }
    },
    {
      "cell_type": "code",
      "execution_count": null,
      "metadata": {
        "id": "WizsaO0wVieC"
      },
      "outputs": [],
      "source": [
        "# Processed Merged SNAP data\n",
        "snap_files_merge_url = 'https://raw.githubusercontent.com/michaelbbryan/tools-and-kaggles/main/DataDive2022/snapmergecounty.csv'\n"
      ]
    },
    {
      "cell_type": "code",
      "source": [
        "# Load SNAP dataset\n",
        "snap_files_merge_df = pd.read_csv(snap_files_merge_url)"
      ],
      "metadata": {
        "id": "IB2G2A0mWdDU"
      },
      "execution_count": null,
      "outputs": []
    },
    {
      "cell_type": "code",
      "source": [
        "# shape of SNAP dataframe\n",
        "snap_files_merge_df.shape"
      ],
      "metadata": {
        "colab": {
          "base_uri": "https://localhost:8080/"
        },
        "id": "QNaigshech7o",
        "outputId": "744afcb5-0fca-4dd8-e706-714c3e324b1d"
      },
      "execution_count": null,
      "outputs": [
        {
          "output_type": "execute_result",
          "data": {
            "text/plain": [
              "(183005, 14)"
            ]
          },
          "metadata": {},
          "execution_count": 49
        }
      ]
    },
    {
      "cell_type": "code",
      "source": [
        "# Only select year 2020 to match up with the other datasets\n",
        "snap_county_2020_df = snap_files_merge_df[snap_files_merge_df['year'] == 2020]"
      ],
      "metadata": {
        "id": "CLmkwNZ-Yc1X"
      },
      "execution_count": null,
      "outputs": []
    },
    {
      "cell_type": "code",
      "source": [
        "# groupby on multiple columns and calculate a sum over each combination group.\n",
        "snap_county_2020_df_new = snap_county_2020_df.groupby(['countyFIPS','year']).sum().reset_index()"
      ],
      "metadata": {
        "id": "FZ4GWVhLgnnI"
      },
      "execution_count": null,
      "outputs": []
    },
    {
      "cell_type": "code",
      "source": [
        "# display sample of dataset\n",
        "snap_county_2020_df_new.sample(3)"
      ],
      "metadata": {
        "colab": {
          "base_uri": "https://localhost:8080/",
          "height": 187
        },
        "id": "In6txRfx6Z8C",
        "outputId": "569139fd-4ad9-4224-e0d9-c67d0f6f0500"
      },
      "execution_count": null,
      "outputs": [
        {
          "output_type": "execute_result",
          "data": {
            "text/plain": [
              "     countyFIPS  year  PersonsPublic  PersonsNonPublic  PersonsTotal  \\\n",
              "421       13143  2020         1364.0            9387.0       10751.0   \n",
              "57         1115  2020         2654.0           18020.0       20674.0   \n",
              "482       13267  2020         1084.0            7286.0        8370.0   \n",
              "\n",
              "     HouseholdsPublicAssistance  HouseholdsNonPublicAssistance  \\\n",
              "421                       845.0                         4410.0   \n",
              "57                       1534.0                         7781.0   \n",
              "482                       629.0                         3199.0   \n",
              "\n",
              "     HouseholdsTotal   Issuance  stateFIPS  \n",
              "421           5255.0  1292227.0         26  \n",
              "57            9315.0  3053396.0          2  \n",
              "482           3828.0   975625.0         26  "
            ],
            "text/html": [
              "\n",
              "  <div id=\"df-5de470a7-87d2-46de-969e-8d918b724358\">\n",
              "    <div class=\"colab-df-container\">\n",
              "      <div>\n",
              "<style scoped>\n",
              "    .dataframe tbody tr th:only-of-type {\n",
              "        vertical-align: middle;\n",
              "    }\n",
              "\n",
              "    .dataframe tbody tr th {\n",
              "        vertical-align: top;\n",
              "    }\n",
              "\n",
              "    .dataframe thead th {\n",
              "        text-align: right;\n",
              "    }\n",
              "</style>\n",
              "<table border=\"1\" class=\"dataframe\">\n",
              "  <thead>\n",
              "    <tr style=\"text-align: right;\">\n",
              "      <th></th>\n",
              "      <th>countyFIPS</th>\n",
              "      <th>year</th>\n",
              "      <th>PersonsPublic</th>\n",
              "      <th>PersonsNonPublic</th>\n",
              "      <th>PersonsTotal</th>\n",
              "      <th>HouseholdsPublicAssistance</th>\n",
              "      <th>HouseholdsNonPublicAssistance</th>\n",
              "      <th>HouseholdsTotal</th>\n",
              "      <th>Issuance</th>\n",
              "      <th>stateFIPS</th>\n",
              "    </tr>\n",
              "  </thead>\n",
              "  <tbody>\n",
              "    <tr>\n",
              "      <th>421</th>\n",
              "      <td>13143</td>\n",
              "      <td>2020</td>\n",
              "      <td>1364.0</td>\n",
              "      <td>9387.0</td>\n",
              "      <td>10751.0</td>\n",
              "      <td>845.0</td>\n",
              "      <td>4410.0</td>\n",
              "      <td>5255.0</td>\n",
              "      <td>1292227.0</td>\n",
              "      <td>26</td>\n",
              "    </tr>\n",
              "    <tr>\n",
              "      <th>57</th>\n",
              "      <td>1115</td>\n",
              "      <td>2020</td>\n",
              "      <td>2654.0</td>\n",
              "      <td>18020.0</td>\n",
              "      <td>20674.0</td>\n",
              "      <td>1534.0</td>\n",
              "      <td>7781.0</td>\n",
              "      <td>9315.0</td>\n",
              "      <td>3053396.0</td>\n",
              "      <td>2</td>\n",
              "    </tr>\n",
              "    <tr>\n",
              "      <th>482</th>\n",
              "      <td>13267</td>\n",
              "      <td>2020</td>\n",
              "      <td>1084.0</td>\n",
              "      <td>7286.0</td>\n",
              "      <td>8370.0</td>\n",
              "      <td>629.0</td>\n",
              "      <td>3199.0</td>\n",
              "      <td>3828.0</td>\n",
              "      <td>975625.0</td>\n",
              "      <td>26</td>\n",
              "    </tr>\n",
              "  </tbody>\n",
              "</table>\n",
              "</div>\n",
              "      <button class=\"colab-df-convert\" onclick=\"convertToInteractive('df-5de470a7-87d2-46de-969e-8d918b724358')\"\n",
              "              title=\"Convert this dataframe to an interactive table.\"\n",
              "              style=\"display:none;\">\n",
              "        \n",
              "  <svg xmlns=\"http://www.w3.org/2000/svg\" height=\"24px\"viewBox=\"0 0 24 24\"\n",
              "       width=\"24px\">\n",
              "    <path d=\"M0 0h24v24H0V0z\" fill=\"none\"/>\n",
              "    <path d=\"M18.56 5.44l.94 2.06.94-2.06 2.06-.94-2.06-.94-.94-2.06-.94 2.06-2.06.94zm-11 1L8.5 8.5l.94-2.06 2.06-.94-2.06-.94L8.5 2.5l-.94 2.06-2.06.94zm10 10l.94 2.06.94-2.06 2.06-.94-2.06-.94-.94-2.06-.94 2.06-2.06.94z\"/><path d=\"M17.41 7.96l-1.37-1.37c-.4-.4-.92-.59-1.43-.59-.52 0-1.04.2-1.43.59L10.3 9.45l-7.72 7.72c-.78.78-.78 2.05 0 2.83L4 21.41c.39.39.9.59 1.41.59.51 0 1.02-.2 1.41-.59l7.78-7.78 2.81-2.81c.8-.78.8-2.07 0-2.86zM5.41 20L4 18.59l7.72-7.72 1.47 1.35L5.41 20z\"/>\n",
              "  </svg>\n",
              "      </button>\n",
              "      \n",
              "  <style>\n",
              "    .colab-df-container {\n",
              "      display:flex;\n",
              "      flex-wrap:wrap;\n",
              "      gap: 12px;\n",
              "    }\n",
              "\n",
              "    .colab-df-convert {\n",
              "      background-color: #E8F0FE;\n",
              "      border: none;\n",
              "      border-radius: 50%;\n",
              "      cursor: pointer;\n",
              "      display: none;\n",
              "      fill: #1967D2;\n",
              "      height: 32px;\n",
              "      padding: 0 0 0 0;\n",
              "      width: 32px;\n",
              "    }\n",
              "\n",
              "    .colab-df-convert:hover {\n",
              "      background-color: #E2EBFA;\n",
              "      box-shadow: 0px 1px 2px rgba(60, 64, 67, 0.3), 0px 1px 3px 1px rgba(60, 64, 67, 0.15);\n",
              "      fill: #174EA6;\n",
              "    }\n",
              "\n",
              "    [theme=dark] .colab-df-convert {\n",
              "      background-color: #3B4455;\n",
              "      fill: #D2E3FC;\n",
              "    }\n",
              "\n",
              "    [theme=dark] .colab-df-convert:hover {\n",
              "      background-color: #434B5C;\n",
              "      box-shadow: 0px 1px 3px 1px rgba(0, 0, 0, 0.15);\n",
              "      filter: drop-shadow(0px 1px 2px rgba(0, 0, 0, 0.3));\n",
              "      fill: #FFFFFF;\n",
              "    }\n",
              "  </style>\n",
              "\n",
              "      <script>\n",
              "        const buttonEl =\n",
              "          document.querySelector('#df-5de470a7-87d2-46de-969e-8d918b724358 button.colab-df-convert');\n",
              "        buttonEl.style.display =\n",
              "          google.colab.kernel.accessAllowed ? 'block' : 'none';\n",
              "\n",
              "        async function convertToInteractive(key) {\n",
              "          const element = document.querySelector('#df-5de470a7-87d2-46de-969e-8d918b724358');\n",
              "          const dataTable =\n",
              "            await google.colab.kernel.invokeFunction('convertToInteractive',\n",
              "                                                     [key], {});\n",
              "          if (!dataTable) return;\n",
              "\n",
              "          const docLinkHtml = 'Like what you see? Visit the ' +\n",
              "            '<a target=\"_blank\" href=https://colab.research.google.com/notebooks/data_table.ipynb>data table notebook</a>'\n",
              "            + ' to learn more about interactive tables.';\n",
              "          element.innerHTML = '';\n",
              "          dataTable['output_type'] = 'display_data';\n",
              "          await google.colab.output.renderOutput(dataTable, element);\n",
              "          const docLink = document.createElement('div');\n",
              "          docLink.innerHTML = docLinkHtml;\n",
              "          element.appendChild(docLink);\n",
              "        }\n",
              "      </script>\n",
              "    </div>\n",
              "  </div>\n",
              "  "
            ]
          },
          "metadata": {},
          "execution_count": 52
        }
      ]
    },
    {
      "cell_type": "code",
      "source": [
        "# shape after filtered rows for year 2020\n",
        "snap_county_2020_df_new.shape"
      ],
      "metadata": {
        "colab": {
          "base_uri": "https://localhost:8080/"
        },
        "id": "jltyJIrFe3vv",
        "outputId": "3a9585de-2a0c-4125-d7bb-2e1eba8dc9ac"
      },
      "execution_count": null,
      "outputs": [
        {
          "output_type": "execute_result",
          "data": {
            "text/plain": [
              "(2536, 10)"
            ]
          },
          "metadata": {},
          "execution_count": 53
        }
      ]
    },
    {
      "cell_type": "markdown",
      "source": [
        "### Social Vulnerability Indicators (selected columns)\n"
      ],
      "metadata": {
        "id": "7M22jk7JpXy3"
      }
    },
    {
      "cell_type": "markdown",
      "source": [
        "#### SVI RPL THEMES\n",
        "\n",
        "RPL_THEME1 - Percentile ranking for Socioeconomic Status theme\n",
        "\n",
        "RPL_THEME2 - Percentile ranking for Household Characteristics theme \n",
        "\n",
        "RPL_THEME3 - Percentile ranking for Racial and Ethnic Minority Status theme\n",
        "\n",
        "RPL_THEME4 - Percentile ranking for Housing Type/ Transportation theme\n",
        "\n",
        "RPL_THEMES - Overall percentile ranking"
      ],
      "metadata": {
        "id": "NpM5UqzLZ4bC"
      }
    },
    {
      "cell_type": "code",
      "source": [
        "# social vulnerability indicators for 2020\n",
        "svi2020_url = 'https://raw.githubusercontent.com/jjpal/dk122022_data_dive/main/SVI2020_US_COUNTY.csv'\n",
        "\n",
        "# load svi dataset with selected columns\n",
        "svi_2020_df = pd.read_csv(svi2020_url, usecols = ['STATE','ST_ABBR','COUNTY','FIPS','RPL_THEME1', 'RPL_THEME2', 'RPL_THEME3', 'RPL_THEME4', 'RPL_THEMES'])\n",
        "\n",
        "# display sample of dataset\n",
        "svi_2020_df.sample(3)"
      ],
      "metadata": {
        "colab": {
          "base_uri": "https://localhost:8080/",
          "height": 143
        },
        "id": "nkIEGGJXmPZn",
        "outputId": "b8ba062e-8d47-49eb-f856-9361223fc62a"
      },
      "execution_count": null,
      "outputs": [
        {
          "output_type": "execute_result",
          "data": {
            "text/plain": [
              "         STATE ST_ABBR  COUNTY   FIPS  RPL_THEME1  RPL_THEME2  RPL_THEME3  \\\n",
              "2658     Texas      TX    King  48269      0.9357      0.2715      0.5710   \n",
              "2571     Texas      TX  Concho  48095      0.2960      0.6544      0.8329   \n",
              "276   Colorado      CO   Kiowa   8061      0.0621      0.2925      0.1445   \n",
              "\n",
              "      RPL_THEME4  RPL_THEMES  \n",
              "2658      0.0016      0.3135  \n",
              "2571      0.4621      0.4965  \n",
              "276       0.1139      0.0694  "
            ],
            "text/html": [
              "\n",
              "  <div id=\"df-dafb2e0e-f26b-4a4c-8ee5-eb619b8cd006\">\n",
              "    <div class=\"colab-df-container\">\n",
              "      <div>\n",
              "<style scoped>\n",
              "    .dataframe tbody tr th:only-of-type {\n",
              "        vertical-align: middle;\n",
              "    }\n",
              "\n",
              "    .dataframe tbody tr th {\n",
              "        vertical-align: top;\n",
              "    }\n",
              "\n",
              "    .dataframe thead th {\n",
              "        text-align: right;\n",
              "    }\n",
              "</style>\n",
              "<table border=\"1\" class=\"dataframe\">\n",
              "  <thead>\n",
              "    <tr style=\"text-align: right;\">\n",
              "      <th></th>\n",
              "      <th>STATE</th>\n",
              "      <th>ST_ABBR</th>\n",
              "      <th>COUNTY</th>\n",
              "      <th>FIPS</th>\n",
              "      <th>RPL_THEME1</th>\n",
              "      <th>RPL_THEME2</th>\n",
              "      <th>RPL_THEME3</th>\n",
              "      <th>RPL_THEME4</th>\n",
              "      <th>RPL_THEMES</th>\n",
              "    </tr>\n",
              "  </thead>\n",
              "  <tbody>\n",
              "    <tr>\n",
              "      <th>2658</th>\n",
              "      <td>Texas</td>\n",
              "      <td>TX</td>\n",
              "      <td>King</td>\n",
              "      <td>48269</td>\n",
              "      <td>0.9357</td>\n",
              "      <td>0.2715</td>\n",
              "      <td>0.5710</td>\n",
              "      <td>0.0016</td>\n",
              "      <td>0.3135</td>\n",
              "    </tr>\n",
              "    <tr>\n",
              "      <th>2571</th>\n",
              "      <td>Texas</td>\n",
              "      <td>TX</td>\n",
              "      <td>Concho</td>\n",
              "      <td>48095</td>\n",
              "      <td>0.2960</td>\n",
              "      <td>0.6544</td>\n",
              "      <td>0.8329</td>\n",
              "      <td>0.4621</td>\n",
              "      <td>0.4965</td>\n",
              "    </tr>\n",
              "    <tr>\n",
              "      <th>276</th>\n",
              "      <td>Colorado</td>\n",
              "      <td>CO</td>\n",
              "      <td>Kiowa</td>\n",
              "      <td>8061</td>\n",
              "      <td>0.0621</td>\n",
              "      <td>0.2925</td>\n",
              "      <td>0.1445</td>\n",
              "      <td>0.1139</td>\n",
              "      <td>0.0694</td>\n",
              "    </tr>\n",
              "  </tbody>\n",
              "</table>\n",
              "</div>\n",
              "      <button class=\"colab-df-convert\" onclick=\"convertToInteractive('df-dafb2e0e-f26b-4a4c-8ee5-eb619b8cd006')\"\n",
              "              title=\"Convert this dataframe to an interactive table.\"\n",
              "              style=\"display:none;\">\n",
              "        \n",
              "  <svg xmlns=\"http://www.w3.org/2000/svg\" height=\"24px\"viewBox=\"0 0 24 24\"\n",
              "       width=\"24px\">\n",
              "    <path d=\"M0 0h24v24H0V0z\" fill=\"none\"/>\n",
              "    <path d=\"M18.56 5.44l.94 2.06.94-2.06 2.06-.94-2.06-.94-.94-2.06-.94 2.06-2.06.94zm-11 1L8.5 8.5l.94-2.06 2.06-.94-2.06-.94L8.5 2.5l-.94 2.06-2.06.94zm10 10l.94 2.06.94-2.06 2.06-.94-2.06-.94-.94-2.06-.94 2.06-2.06.94z\"/><path d=\"M17.41 7.96l-1.37-1.37c-.4-.4-.92-.59-1.43-.59-.52 0-1.04.2-1.43.59L10.3 9.45l-7.72 7.72c-.78.78-.78 2.05 0 2.83L4 21.41c.39.39.9.59 1.41.59.51 0 1.02-.2 1.41-.59l7.78-7.78 2.81-2.81c.8-.78.8-2.07 0-2.86zM5.41 20L4 18.59l7.72-7.72 1.47 1.35L5.41 20z\"/>\n",
              "  </svg>\n",
              "      </button>\n",
              "      \n",
              "  <style>\n",
              "    .colab-df-container {\n",
              "      display:flex;\n",
              "      flex-wrap:wrap;\n",
              "      gap: 12px;\n",
              "    }\n",
              "\n",
              "    .colab-df-convert {\n",
              "      background-color: #E8F0FE;\n",
              "      border: none;\n",
              "      border-radius: 50%;\n",
              "      cursor: pointer;\n",
              "      display: none;\n",
              "      fill: #1967D2;\n",
              "      height: 32px;\n",
              "      padding: 0 0 0 0;\n",
              "      width: 32px;\n",
              "    }\n",
              "\n",
              "    .colab-df-convert:hover {\n",
              "      background-color: #E2EBFA;\n",
              "      box-shadow: 0px 1px 2px rgba(60, 64, 67, 0.3), 0px 1px 3px 1px rgba(60, 64, 67, 0.15);\n",
              "      fill: #174EA6;\n",
              "    }\n",
              "\n",
              "    [theme=dark] .colab-df-convert {\n",
              "      background-color: #3B4455;\n",
              "      fill: #D2E3FC;\n",
              "    }\n",
              "\n",
              "    [theme=dark] .colab-df-convert:hover {\n",
              "      background-color: #434B5C;\n",
              "      box-shadow: 0px 1px 3px 1px rgba(0, 0, 0, 0.15);\n",
              "      filter: drop-shadow(0px 1px 2px rgba(0, 0, 0, 0.3));\n",
              "      fill: #FFFFFF;\n",
              "    }\n",
              "  </style>\n",
              "\n",
              "      <script>\n",
              "        const buttonEl =\n",
              "          document.querySelector('#df-dafb2e0e-f26b-4a4c-8ee5-eb619b8cd006 button.colab-df-convert');\n",
              "        buttonEl.style.display =\n",
              "          google.colab.kernel.accessAllowed ? 'block' : 'none';\n",
              "\n",
              "        async function convertToInteractive(key) {\n",
              "          const element = document.querySelector('#df-dafb2e0e-f26b-4a4c-8ee5-eb619b8cd006');\n",
              "          const dataTable =\n",
              "            await google.colab.kernel.invokeFunction('convertToInteractive',\n",
              "                                                     [key], {});\n",
              "          if (!dataTable) return;\n",
              "\n",
              "          const docLinkHtml = 'Like what you see? Visit the ' +\n",
              "            '<a target=\"_blank\" href=https://colab.research.google.com/notebooks/data_table.ipynb>data table notebook</a>'\n",
              "            + ' to learn more about interactive tables.';\n",
              "          element.innerHTML = '';\n",
              "          dataTable['output_type'] = 'display_data';\n",
              "          await google.colab.output.renderOutput(dataTable, element);\n",
              "          const docLink = document.createElement('div');\n",
              "          docLink.innerHTML = docLinkHtml;\n",
              "          element.appendChild(docLink);\n",
              "        }\n",
              "      </script>\n",
              "    </div>\n",
              "  </div>\n",
              "  "
            ]
          },
          "metadata": {},
          "execution_count": 10
        }
      ]
    },
    {
      "cell_type": "code",
      "source": [
        "# shape before merging dataframes\n",
        "svi_2020_df.shape"
      ],
      "metadata": {
        "colab": {
          "base_uri": "https://localhost:8080/"
        },
        "id": "YjtkU7y_fLKM",
        "outputId": "570f4f01-1c9a-452d-e3b7-ffbc226f2c32"
      },
      "execution_count": null,
      "outputs": [
        {
          "output_type": "execute_result",
          "data": {
            "text/plain": [
              "(3143, 9)"
            ]
          },
          "metadata": {},
          "execution_count": 11
        }
      ]
    },
    {
      "cell_type": "code",
      "source": [
        "# merge previously merged SNAP data with svi2020 indicators\n",
        "SNAP_SVI = pd.merge(snap_county_2020_df_new, svi_2020_df,left_on='countyFIPS',right_on='FIPS',how='inner')"
      ],
      "metadata": {
        "id": "PgSIWKlcZv03"
      },
      "execution_count": null,
      "outputs": []
    },
    {
      "cell_type": "code",
      "source": [
        "# shape after merging dataframes\n",
        "SNAP_SVI.shape "
      ],
      "metadata": {
        "colab": {
          "base_uri": "https://localhost:8080/"
        },
        "id": "px1H3iyVffn7",
        "outputId": "2b29ab28-7b7f-4fa2-8fac-2ce897223e12"
      },
      "execution_count": null,
      "outputs": [
        {
          "output_type": "execute_result",
          "data": {
            "text/plain": [
              "(2507, 19)"
            ]
          },
          "metadata": {},
          "execution_count": 13
        }
      ]
    },
    {
      "cell_type": "code",
      "source": [
        "#SNAP_SVI.columns\n",
        "SNAP_SVI.head(2)"
      ],
      "metadata": {
        "colab": {
          "base_uri": "https://localhost:8080/",
          "height": 176
        },
        "id": "62mC2kt00raS",
        "outputId": "c269c830-841e-452d-8726-7aad78160d8c"
      },
      "execution_count": null,
      "outputs": [
        {
          "output_type": "execute_result",
          "data": {
            "text/plain": [
              "   countyFIPS  year  PersonsPublic  PersonsNonPublic  PersonsTotal  \\\n",
              "0        1001  2020         1977.0           13108.0       15085.0   \n",
              "1        1003  2020         3723.0           37358.0       41081.0   \n",
              "\n",
              "   HouseholdsPublicAssistance  HouseholdsNonPublicAssistance  HouseholdsTotal  \\\n",
              "0                      1064.0                         5764.0           6828.0   \n",
              "1                      2229.0                        16252.0          18481.0   \n",
              "\n",
              "    Issuance  stateFIPS    STATE ST_ABBR   COUNTY  FIPS  RPL_THEME1  \\\n",
              "0  2219777.0          2  Alabama      AL  Autauga  1001      0.4045   \n",
              "1  6120282.0          2  Alabama      AL  Baldwin  1003      0.4112   \n",
              "\n",
              "   RPL_THEME2  RPL_THEME3  RPL_THEME4  RPL_THEMES  \n",
              "0      0.7362      0.6337      0.4309      0.5325  \n",
              "1      0.2724      0.5022      0.3612      0.3552  "
            ],
            "text/html": [
              "\n",
              "  <div id=\"df-92566d79-88ed-4f9a-9eaa-959f4b48f52f\">\n",
              "    <div class=\"colab-df-container\">\n",
              "      <div>\n",
              "<style scoped>\n",
              "    .dataframe tbody tr th:only-of-type {\n",
              "        vertical-align: middle;\n",
              "    }\n",
              "\n",
              "    .dataframe tbody tr th {\n",
              "        vertical-align: top;\n",
              "    }\n",
              "\n",
              "    .dataframe thead th {\n",
              "        text-align: right;\n",
              "    }\n",
              "</style>\n",
              "<table border=\"1\" class=\"dataframe\">\n",
              "  <thead>\n",
              "    <tr style=\"text-align: right;\">\n",
              "      <th></th>\n",
              "      <th>countyFIPS</th>\n",
              "      <th>year</th>\n",
              "      <th>PersonsPublic</th>\n",
              "      <th>PersonsNonPublic</th>\n",
              "      <th>PersonsTotal</th>\n",
              "      <th>HouseholdsPublicAssistance</th>\n",
              "      <th>HouseholdsNonPublicAssistance</th>\n",
              "      <th>HouseholdsTotal</th>\n",
              "      <th>Issuance</th>\n",
              "      <th>stateFIPS</th>\n",
              "      <th>STATE</th>\n",
              "      <th>ST_ABBR</th>\n",
              "      <th>COUNTY</th>\n",
              "      <th>FIPS</th>\n",
              "      <th>RPL_THEME1</th>\n",
              "      <th>RPL_THEME2</th>\n",
              "      <th>RPL_THEME3</th>\n",
              "      <th>RPL_THEME4</th>\n",
              "      <th>RPL_THEMES</th>\n",
              "    </tr>\n",
              "  </thead>\n",
              "  <tbody>\n",
              "    <tr>\n",
              "      <th>0</th>\n",
              "      <td>1001</td>\n",
              "      <td>2020</td>\n",
              "      <td>1977.0</td>\n",
              "      <td>13108.0</td>\n",
              "      <td>15085.0</td>\n",
              "      <td>1064.0</td>\n",
              "      <td>5764.0</td>\n",
              "      <td>6828.0</td>\n",
              "      <td>2219777.0</td>\n",
              "      <td>2</td>\n",
              "      <td>Alabama</td>\n",
              "      <td>AL</td>\n",
              "      <td>Autauga</td>\n",
              "      <td>1001</td>\n",
              "      <td>0.4045</td>\n",
              "      <td>0.7362</td>\n",
              "      <td>0.6337</td>\n",
              "      <td>0.4309</td>\n",
              "      <td>0.5325</td>\n",
              "    </tr>\n",
              "    <tr>\n",
              "      <th>1</th>\n",
              "      <td>1003</td>\n",
              "      <td>2020</td>\n",
              "      <td>3723.0</td>\n",
              "      <td>37358.0</td>\n",
              "      <td>41081.0</td>\n",
              "      <td>2229.0</td>\n",
              "      <td>16252.0</td>\n",
              "      <td>18481.0</td>\n",
              "      <td>6120282.0</td>\n",
              "      <td>2</td>\n",
              "      <td>Alabama</td>\n",
              "      <td>AL</td>\n",
              "      <td>Baldwin</td>\n",
              "      <td>1003</td>\n",
              "      <td>0.4112</td>\n",
              "      <td>0.2724</td>\n",
              "      <td>0.5022</td>\n",
              "      <td>0.3612</td>\n",
              "      <td>0.3552</td>\n",
              "    </tr>\n",
              "  </tbody>\n",
              "</table>\n",
              "</div>\n",
              "      <button class=\"colab-df-convert\" onclick=\"convertToInteractive('df-92566d79-88ed-4f9a-9eaa-959f4b48f52f')\"\n",
              "              title=\"Convert this dataframe to an interactive table.\"\n",
              "              style=\"display:none;\">\n",
              "        \n",
              "  <svg xmlns=\"http://www.w3.org/2000/svg\" height=\"24px\"viewBox=\"0 0 24 24\"\n",
              "       width=\"24px\">\n",
              "    <path d=\"M0 0h24v24H0V0z\" fill=\"none\"/>\n",
              "    <path d=\"M18.56 5.44l.94 2.06.94-2.06 2.06-.94-2.06-.94-.94-2.06-.94 2.06-2.06.94zm-11 1L8.5 8.5l.94-2.06 2.06-.94-2.06-.94L8.5 2.5l-.94 2.06-2.06.94zm10 10l.94 2.06.94-2.06 2.06-.94-2.06-.94-.94-2.06-.94 2.06-2.06.94z\"/><path d=\"M17.41 7.96l-1.37-1.37c-.4-.4-.92-.59-1.43-.59-.52 0-1.04.2-1.43.59L10.3 9.45l-7.72 7.72c-.78.78-.78 2.05 0 2.83L4 21.41c.39.39.9.59 1.41.59.51 0 1.02-.2 1.41-.59l7.78-7.78 2.81-2.81c.8-.78.8-2.07 0-2.86zM5.41 20L4 18.59l7.72-7.72 1.47 1.35L5.41 20z\"/>\n",
              "  </svg>\n",
              "      </button>\n",
              "      \n",
              "  <style>\n",
              "    .colab-df-container {\n",
              "      display:flex;\n",
              "      flex-wrap:wrap;\n",
              "      gap: 12px;\n",
              "    }\n",
              "\n",
              "    .colab-df-convert {\n",
              "      background-color: #E8F0FE;\n",
              "      border: none;\n",
              "      border-radius: 50%;\n",
              "      cursor: pointer;\n",
              "      display: none;\n",
              "      fill: #1967D2;\n",
              "      height: 32px;\n",
              "      padding: 0 0 0 0;\n",
              "      width: 32px;\n",
              "    }\n",
              "\n",
              "    .colab-df-convert:hover {\n",
              "      background-color: #E2EBFA;\n",
              "      box-shadow: 0px 1px 2px rgba(60, 64, 67, 0.3), 0px 1px 3px 1px rgba(60, 64, 67, 0.15);\n",
              "      fill: #174EA6;\n",
              "    }\n",
              "\n",
              "    [theme=dark] .colab-df-convert {\n",
              "      background-color: #3B4455;\n",
              "      fill: #D2E3FC;\n",
              "    }\n",
              "\n",
              "    [theme=dark] .colab-df-convert:hover {\n",
              "      background-color: #434B5C;\n",
              "      box-shadow: 0px 1px 3px 1px rgba(0, 0, 0, 0.15);\n",
              "      filter: drop-shadow(0px 1px 2px rgba(0, 0, 0, 0.3));\n",
              "      fill: #FFFFFF;\n",
              "    }\n",
              "  </style>\n",
              "\n",
              "      <script>\n",
              "        const buttonEl =\n",
              "          document.querySelector('#df-92566d79-88ed-4f9a-9eaa-959f4b48f52f button.colab-df-convert');\n",
              "        buttonEl.style.display =\n",
              "          google.colab.kernel.accessAllowed ? 'block' : 'none';\n",
              "\n",
              "        async function convertToInteractive(key) {\n",
              "          const element = document.querySelector('#df-92566d79-88ed-4f9a-9eaa-959f4b48f52f');\n",
              "          const dataTable =\n",
              "            await google.colab.kernel.invokeFunction('convertToInteractive',\n",
              "                                                     [key], {});\n",
              "          if (!dataTable) return;\n",
              "\n",
              "          const docLinkHtml = 'Like what you see? Visit the ' +\n",
              "            '<a target=\"_blank\" href=https://colab.research.google.com/notebooks/data_table.ipynb>data table notebook</a>'\n",
              "            + ' to learn more about interactive tables.';\n",
              "          element.innerHTML = '';\n",
              "          dataTable['output_type'] = 'display_data';\n",
              "          await google.colab.output.renderOutput(dataTable, element);\n",
              "          const docLink = document.createElement('div');\n",
              "          docLink.innerHTML = docLinkHtml;\n",
              "          element.appendChild(docLink);\n",
              "        }\n",
              "      </script>\n",
              "    </div>\n",
              "  </div>\n",
              "  "
            ]
          },
          "metadata": {},
          "execution_count": 14
        }
      ]
    },
    {
      "cell_type": "markdown",
      "source": [
        "### Map Meal Gap Data "
      ],
      "metadata": {
        "id": "LoSNqi6-Pg-j"
      }
    },
    {
      "cell_type": "code",
      "source": [
        "# map_meal_gap_data - with County sheet name\n",
        "map_meal_gap_2020_df = pd.read_excel(io='https://github.com/jjpal/dk122022_data_dive/blob/main/MMG2022_2020-2019Data_ToShare.xlsx?raw=true', sheet_name ='County')"
      ],
      "metadata": {
        "id": "U7CmQlqJmPVm"
      },
      "execution_count": null,
      "outputs": []
    },
    {
      "cell_type": "code",
      "source": [
        "# filter to only capture the rows for year 2020\n",
        "map_meal_gap_2020_df = map_meal_gap_2020_df[map_meal_gap_2020_df['Year'] == 2020]"
      ],
      "metadata": {
        "id": "DBtaWqblCSL2"
      },
      "execution_count": null,
      "outputs": []
    },
    {
      "cell_type": "code",
      "source": [
        "# display first row of dataframe\n",
        "map_meal_gap_2020_df.head(1)"
      ],
      "metadata": {
        "colab": {
          "base_uri": "https://localhost:8080/",
          "height": 330
        },
        "id": "WGQ8sYRy0aX_",
        "outputId": "1914b173-1a1a-4af0-f2a8-d5d89af27836"
      },
      "execution_count": null,
      "outputs": [
        {
          "output_type": "execute_result",
          "data": {
            "text/plain": [
              "     FIPS State            County, State    Year  \\\n",
              "0  1001.0    AL  Autauga County, Alabama  2020.0   \n",
              "\n",
              "   Overall Food Insecurity Rate (1 Year)  \\\n",
              "0                                  0.145   \n",
              "\n",
              "   # of Food Insecure Persons Overall (1 Year)  \\\n",
              "0                                       8070.0   \n",
              "\n",
              "   Food Insecurity Rate among Black Persons (all ethnicities)  \\\n",
              "0                                               0.25            \n",
              "\n",
              "   Food Insecurity Rate among Hispanic Persons (any race)  \\\n",
              "0                                                NaN        \n",
              "\n",
              "   Food Insecurity Rate among White, non-Hispanic Persons   \\\n",
              "0                                               0.09         \n",
              "\n",
              "   Low Threshold in state  ... % FI ≤ Low Threshold  % FI Btwn Thresholds  \\\n",
              "0                     1.3  ...                0.476                 0.147   \n",
              "\n",
              "  % FI > High Threshold  Child Food Insecurity Rate (1 Year)  \\\n",
              "0                 0.377                                0.181   \n",
              "\n",
              "   # of Food Insecure Children (1 Year)  \\\n",
              "0                                2380.0   \n",
              "\n",
              "   % food insecure children in HH w/ HH incomes below 185 FPL  \\\n",
              "0                                               0.71            \n",
              "\n",
              "   % food insecure children in HH w/ HH incomes above 185 FPL  \\\n",
              "0                                               0.29            \n",
              "\n",
              "   Cost Per Meal (1 Year)  Weighted weekly $ needed by FI  \\\n",
              "0                    3.22                       17.092792   \n",
              "\n",
              "   Weighted Annual Food Budget Shortfall  \n",
              "0                              4184000.0  \n",
              "\n",
              "[1 rows x 23 columns]"
            ],
            "text/html": [
              "\n",
              "  <div id=\"df-6f715b00-5051-4378-a776-94c575b2d10a\">\n",
              "    <div class=\"colab-df-container\">\n",
              "      <div>\n",
              "<style scoped>\n",
              "    .dataframe tbody tr th:only-of-type {\n",
              "        vertical-align: middle;\n",
              "    }\n",
              "\n",
              "    .dataframe tbody tr th {\n",
              "        vertical-align: top;\n",
              "    }\n",
              "\n",
              "    .dataframe thead th {\n",
              "        text-align: right;\n",
              "    }\n",
              "</style>\n",
              "<table border=\"1\" class=\"dataframe\">\n",
              "  <thead>\n",
              "    <tr style=\"text-align: right;\">\n",
              "      <th></th>\n",
              "      <th>FIPS</th>\n",
              "      <th>State</th>\n",
              "      <th>County, State</th>\n",
              "      <th>Year</th>\n",
              "      <th>Overall Food Insecurity Rate (1 Year)</th>\n",
              "      <th># of Food Insecure Persons Overall (1 Year)</th>\n",
              "      <th>Food Insecurity Rate among Black Persons (all ethnicities)</th>\n",
              "      <th>Food Insecurity Rate among Hispanic Persons (any race)</th>\n",
              "      <th>Food Insecurity Rate among White, non-Hispanic Persons</th>\n",
              "      <th>Low Threshold in state</th>\n",
              "      <th>...</th>\n",
              "      <th>% FI ≤ Low Threshold</th>\n",
              "      <th>% FI Btwn Thresholds</th>\n",
              "      <th>% FI &gt; High Threshold</th>\n",
              "      <th>Child Food Insecurity Rate (1 Year)</th>\n",
              "      <th># of Food Insecure Children (1 Year)</th>\n",
              "      <th>% food insecure children in HH w/ HH incomes below 185 FPL</th>\n",
              "      <th>% food insecure children in HH w/ HH incomes above 185 FPL</th>\n",
              "      <th>Cost Per Meal (1 Year)</th>\n",
              "      <th>Weighted weekly $ needed by FI</th>\n",
              "      <th>Weighted Annual Food Budget Shortfall</th>\n",
              "    </tr>\n",
              "  </thead>\n",
              "  <tbody>\n",
              "    <tr>\n",
              "      <th>0</th>\n",
              "      <td>1001.0</td>\n",
              "      <td>AL</td>\n",
              "      <td>Autauga County, Alabama</td>\n",
              "      <td>2020.0</td>\n",
              "      <td>0.145</td>\n",
              "      <td>8070.0</td>\n",
              "      <td>0.25</td>\n",
              "      <td>NaN</td>\n",
              "      <td>0.09</td>\n",
              "      <td>1.3</td>\n",
              "      <td>...</td>\n",
              "      <td>0.476</td>\n",
              "      <td>0.147</td>\n",
              "      <td>0.377</td>\n",
              "      <td>0.181</td>\n",
              "      <td>2380.0</td>\n",
              "      <td>0.71</td>\n",
              "      <td>0.29</td>\n",
              "      <td>3.22</td>\n",
              "      <td>17.092792</td>\n",
              "      <td>4184000.0</td>\n",
              "    </tr>\n",
              "  </tbody>\n",
              "</table>\n",
              "<p>1 rows × 23 columns</p>\n",
              "</div>\n",
              "      <button class=\"colab-df-convert\" onclick=\"convertToInteractive('df-6f715b00-5051-4378-a776-94c575b2d10a')\"\n",
              "              title=\"Convert this dataframe to an interactive table.\"\n",
              "              style=\"display:none;\">\n",
              "        \n",
              "  <svg xmlns=\"http://www.w3.org/2000/svg\" height=\"24px\"viewBox=\"0 0 24 24\"\n",
              "       width=\"24px\">\n",
              "    <path d=\"M0 0h24v24H0V0z\" fill=\"none\"/>\n",
              "    <path d=\"M18.56 5.44l.94 2.06.94-2.06 2.06-.94-2.06-.94-.94-2.06-.94 2.06-2.06.94zm-11 1L8.5 8.5l.94-2.06 2.06-.94-2.06-.94L8.5 2.5l-.94 2.06-2.06.94zm10 10l.94 2.06.94-2.06 2.06-.94-2.06-.94-.94-2.06-.94 2.06-2.06.94z\"/><path d=\"M17.41 7.96l-1.37-1.37c-.4-.4-.92-.59-1.43-.59-.52 0-1.04.2-1.43.59L10.3 9.45l-7.72 7.72c-.78.78-.78 2.05 0 2.83L4 21.41c.39.39.9.59 1.41.59.51 0 1.02-.2 1.41-.59l7.78-7.78 2.81-2.81c.8-.78.8-2.07 0-2.86zM5.41 20L4 18.59l7.72-7.72 1.47 1.35L5.41 20z\"/>\n",
              "  </svg>\n",
              "      </button>\n",
              "      \n",
              "  <style>\n",
              "    .colab-df-container {\n",
              "      display:flex;\n",
              "      flex-wrap:wrap;\n",
              "      gap: 12px;\n",
              "    }\n",
              "\n",
              "    .colab-df-convert {\n",
              "      background-color: #E8F0FE;\n",
              "      border: none;\n",
              "      border-radius: 50%;\n",
              "      cursor: pointer;\n",
              "      display: none;\n",
              "      fill: #1967D2;\n",
              "      height: 32px;\n",
              "      padding: 0 0 0 0;\n",
              "      width: 32px;\n",
              "    }\n",
              "\n",
              "    .colab-df-convert:hover {\n",
              "      background-color: #E2EBFA;\n",
              "      box-shadow: 0px 1px 2px rgba(60, 64, 67, 0.3), 0px 1px 3px 1px rgba(60, 64, 67, 0.15);\n",
              "      fill: #174EA6;\n",
              "    }\n",
              "\n",
              "    [theme=dark] .colab-df-convert {\n",
              "      background-color: #3B4455;\n",
              "      fill: #D2E3FC;\n",
              "    }\n",
              "\n",
              "    [theme=dark] .colab-df-convert:hover {\n",
              "      background-color: #434B5C;\n",
              "      box-shadow: 0px 1px 3px 1px rgba(0, 0, 0, 0.15);\n",
              "      filter: drop-shadow(0px 1px 2px rgba(0, 0, 0, 0.3));\n",
              "      fill: #FFFFFF;\n",
              "    }\n",
              "  </style>\n",
              "\n",
              "      <script>\n",
              "        const buttonEl =\n",
              "          document.querySelector('#df-6f715b00-5051-4378-a776-94c575b2d10a button.colab-df-convert');\n",
              "        buttonEl.style.display =\n",
              "          google.colab.kernel.accessAllowed ? 'block' : 'none';\n",
              "\n",
              "        async function convertToInteractive(key) {\n",
              "          const element = document.querySelector('#df-6f715b00-5051-4378-a776-94c575b2d10a');\n",
              "          const dataTable =\n",
              "            await google.colab.kernel.invokeFunction('convertToInteractive',\n",
              "                                                     [key], {});\n",
              "          if (!dataTable) return;\n",
              "\n",
              "          const docLinkHtml = 'Like what you see? Visit the ' +\n",
              "            '<a target=\"_blank\" href=https://colab.research.google.com/notebooks/data_table.ipynb>data table notebook</a>'\n",
              "            + ' to learn more about interactive tables.';\n",
              "          element.innerHTML = '';\n",
              "          dataTable['output_type'] = 'display_data';\n",
              "          await google.colab.output.renderOutput(dataTable, element);\n",
              "          const docLink = document.createElement('div');\n",
              "          docLink.innerHTML = docLinkHtml;\n",
              "          element.appendChild(docLink);\n",
              "        }\n",
              "      </script>\n",
              "    </div>\n",
              "  </div>\n",
              "  "
            ]
          },
          "metadata": {},
          "execution_count": 45
        }
      ]
    },
    {
      "cell_type": "code",
      "source": [
        "# rename State column which is the State abbreviation\n",
        "map_meal_gap_2020_df.rename(columns = {\"State\":'State_Abbrev'}, inplace = True)"
      ],
      "metadata": {
        "id": "W3KOn4PXtlzo"
      },
      "execution_count": null,
      "outputs": []
    },
    {
      "cell_type": "code",
      "source": [
        "# separate County and State into different columns\n",
        "map_meal_gap_2020_df[['County', 'States']] = map_meal_gap_2020_df['County, State'].str.split(pat = ',', expand = True)"
      ],
      "metadata": {
        "id": "Pomg4LcOYnGk"
      },
      "execution_count": null,
      "outputs": []
    },
    {
      "cell_type": "code",
      "source": [
        "# drop extra column \n",
        "map_meal_gap_2020_df.drop('County, State', axis=1, inplace=True)\n",
        "\n",
        "# Rename column\n",
        "map_meal_gap_2020_df.rename(columns = {\"States\":'State'}, inplace = True)"
      ],
      "metadata": {
        "id": "O5rfoVXMdae-"
      },
      "execution_count": null,
      "outputs": []
    },
    {
      "cell_type": "code",
      "source": [
        "# shape after filtered 2020 rows and column drop above\n",
        "map_meal_gap_2020_df.shape"
      ],
      "metadata": {
        "colab": {
          "base_uri": "https://localhost:8080/"
        },
        "id": "L36hpgBKaKFA",
        "outputId": "13e77240-ca8d-4140-9af1-e13f70a29019"
      },
      "execution_count": null,
      "outputs": [
        {
          "output_type": "execute_result",
          "data": {
            "text/plain": [
              "(3143, 24)"
            ]
          },
          "metadata": {},
          "execution_count": 21
        }
      ]
    },
    {
      "cell_type": "code",
      "source": [
        "# change the datatype to datetime\n",
        "map_meal_gap_2020_df['Year'] = pd.to_datetime(map_meal_gap_2020_df['Year'], format='%Y')                            "
      ],
      "metadata": {
        "id": "kIndDlgvA_fF"
      },
      "execution_count": null,
      "outputs": []
    },
    {
      "cell_type": "code",
      "source": [
        "# change the datatype\n",
        "map_meal_gap_2020_df['FIPS'] = map_meal_gap_2020_df['FIPS'].astype(int)"
      ],
      "metadata": {
        "id": "d0Oxht9Aju1l"
      },
      "execution_count": null,
      "outputs": []
    },
    {
      "cell_type": "code",
      "source": [
        "# combine previously merged snap_svi df with map meal datase\n",
        "map_svi_snap = pd.merge(SNAP_SVI, map_meal_gap_2020_df,left_on='FIPS',right_on='FIPS',how='inner')"
      ],
      "metadata": {
        "id": "kjH_1wipPvJQ"
      },
      "execution_count": null,
      "outputs": []
    },
    {
      "cell_type": "code",
      "source": [
        "# merged dataframe shape and columns \n",
        "print(map_svi_snap.shape)\n",
        "print(map_svi_snap.columns)"
      ],
      "metadata": {
        "colab": {
          "base_uri": "https://localhost:8080/"
        },
        "id": "SKDzWbSsPvQO",
        "outputId": "61d7a908-6f3c-4ed3-908a-c879d75373a4"
      },
      "execution_count": null,
      "outputs": [
        {
          "output_type": "stream",
          "name": "stdout",
          "text": [
            "(2507, 42)\n",
            "Index(['countyFIPS', 'year', 'PersonsPublic', 'PersonsNonPublic',\n",
            "       'PersonsTotal', 'HouseholdsPublicAssistance',\n",
            "       'HouseholdsNonPublicAssistance', 'HouseholdsTotal', 'Issuance',\n",
            "       'stateFIPS', 'STATE', 'ST_ABBR', 'COUNTY', 'FIPS', 'RPL_THEME1',\n",
            "       'RPL_THEME2', 'RPL_THEME3', 'RPL_THEME4', 'RPL_THEMES', 'State_Abbrev',\n",
            "       'Year', 'Overall Food Insecurity Rate (1 Year)',\n",
            "       '# of Food Insecure Persons Overall (1 Year)',\n",
            "       'Food Insecurity Rate among Black Persons (all ethnicities)',\n",
            "       'Food Insecurity Rate among Hispanic Persons (any race)',\n",
            "       'Food Insecurity Rate among White, non-Hispanic Persons ',\n",
            "       'Low Threshold in state', 'Low Threshold Type',\n",
            "       'High Threshold in state', 'High Threshold Type',\n",
            "       '% FI ≤ Low Threshold', '% FI Btwn Thresholds', '% FI > High Threshold',\n",
            "       'Child Food Insecurity Rate (1 Year)',\n",
            "       '# of Food Insecure Children (1 Year)',\n",
            "       '% food insecure children in HH w/ HH incomes below 185 FPL',\n",
            "       '% food insecure children in HH w/ HH incomes above 185 FPL',\n",
            "       'Cost Per Meal (1 Year)', 'Weighted weekly $ needed by FI',\n",
            "       'Weighted Annual Food Budget Shortfall', 'County', 'State'],\n",
            "      dtype='object')\n"
          ]
        }
      ]
    },
    {
      "cell_type": "code",
      "source": [
        "# FIPS CODE B11001 from census households per county\n",
        "census_table_url = 'https://raw.githubusercontent.com/michaelbbryan/tools-and-kaggles/main/DataDive2022/juanita.csv'\n",
        "\n",
        "# load svi dataset with selected columns\n",
        "census_FIPS_df = pd.read_csv(census_table_url, usecols = ['countyFIPS', 'HHCount'])\n",
        "\n",
        "# display dataframe\n",
        "census_FIPS_df.sample(3) "
      ],
      "metadata": {
        "colab": {
          "base_uri": "https://localhost:8080/",
          "height": 143
        },
        "id": "pwX6Lz-tlr7s",
        "outputId": "c64c6e43-e0dc-4668-a231-f87159539eac"
      },
      "execution_count": null,
      "outputs": [
        {
          "output_type": "execute_result",
          "data": {
            "text/plain": [
              "      countyFIPS  HHCount\n",
              "727        18059  29627.0\n",
              "1683       31057    842.0\n",
              "2042       38103   1941.0"
            ],
            "text/html": [
              "\n",
              "  <div id=\"df-a5e58bfc-e443-4b17-bf74-fc780776eb6d\">\n",
              "    <div class=\"colab-df-container\">\n",
              "      <div>\n",
              "<style scoped>\n",
              "    .dataframe tbody tr th:only-of-type {\n",
              "        vertical-align: middle;\n",
              "    }\n",
              "\n",
              "    .dataframe tbody tr th {\n",
              "        vertical-align: top;\n",
              "    }\n",
              "\n",
              "    .dataframe thead th {\n",
              "        text-align: right;\n",
              "    }\n",
              "</style>\n",
              "<table border=\"1\" class=\"dataframe\">\n",
              "  <thead>\n",
              "    <tr style=\"text-align: right;\">\n",
              "      <th></th>\n",
              "      <th>countyFIPS</th>\n",
              "      <th>HHCount</th>\n",
              "    </tr>\n",
              "  </thead>\n",
              "  <tbody>\n",
              "    <tr>\n",
              "      <th>727</th>\n",
              "      <td>18059</td>\n",
              "      <td>29627.0</td>\n",
              "    </tr>\n",
              "    <tr>\n",
              "      <th>1683</th>\n",
              "      <td>31057</td>\n",
              "      <td>842.0</td>\n",
              "    </tr>\n",
              "    <tr>\n",
              "      <th>2042</th>\n",
              "      <td>38103</td>\n",
              "      <td>1941.0</td>\n",
              "    </tr>\n",
              "  </tbody>\n",
              "</table>\n",
              "</div>\n",
              "      <button class=\"colab-df-convert\" onclick=\"convertToInteractive('df-a5e58bfc-e443-4b17-bf74-fc780776eb6d')\"\n",
              "              title=\"Convert this dataframe to an interactive table.\"\n",
              "              style=\"display:none;\">\n",
              "        \n",
              "  <svg xmlns=\"http://www.w3.org/2000/svg\" height=\"24px\"viewBox=\"0 0 24 24\"\n",
              "       width=\"24px\">\n",
              "    <path d=\"M0 0h24v24H0V0z\" fill=\"none\"/>\n",
              "    <path d=\"M18.56 5.44l.94 2.06.94-2.06 2.06-.94-2.06-.94-.94-2.06-.94 2.06-2.06.94zm-11 1L8.5 8.5l.94-2.06 2.06-.94-2.06-.94L8.5 2.5l-.94 2.06-2.06.94zm10 10l.94 2.06.94-2.06 2.06-.94-2.06-.94-.94-2.06-.94 2.06-2.06.94z\"/><path d=\"M17.41 7.96l-1.37-1.37c-.4-.4-.92-.59-1.43-.59-.52 0-1.04.2-1.43.59L10.3 9.45l-7.72 7.72c-.78.78-.78 2.05 0 2.83L4 21.41c.39.39.9.59 1.41.59.51 0 1.02-.2 1.41-.59l7.78-7.78 2.81-2.81c.8-.78.8-2.07 0-2.86zM5.41 20L4 18.59l7.72-7.72 1.47 1.35L5.41 20z\"/>\n",
              "  </svg>\n",
              "      </button>\n",
              "      \n",
              "  <style>\n",
              "    .colab-df-container {\n",
              "      display:flex;\n",
              "      flex-wrap:wrap;\n",
              "      gap: 12px;\n",
              "    }\n",
              "\n",
              "    .colab-df-convert {\n",
              "      background-color: #E8F0FE;\n",
              "      border: none;\n",
              "      border-radius: 50%;\n",
              "      cursor: pointer;\n",
              "      display: none;\n",
              "      fill: #1967D2;\n",
              "      height: 32px;\n",
              "      padding: 0 0 0 0;\n",
              "      width: 32px;\n",
              "    }\n",
              "\n",
              "    .colab-df-convert:hover {\n",
              "      background-color: #E2EBFA;\n",
              "      box-shadow: 0px 1px 2px rgba(60, 64, 67, 0.3), 0px 1px 3px 1px rgba(60, 64, 67, 0.15);\n",
              "      fill: #174EA6;\n",
              "    }\n",
              "\n",
              "    [theme=dark] .colab-df-convert {\n",
              "      background-color: #3B4455;\n",
              "      fill: #D2E3FC;\n",
              "    }\n",
              "\n",
              "    [theme=dark] .colab-df-convert:hover {\n",
              "      background-color: #434B5C;\n",
              "      box-shadow: 0px 1px 3px 1px rgba(0, 0, 0, 0.15);\n",
              "      filter: drop-shadow(0px 1px 2px rgba(0, 0, 0, 0.3));\n",
              "      fill: #FFFFFF;\n",
              "    }\n",
              "  </style>\n",
              "\n",
              "      <script>\n",
              "        const buttonEl =\n",
              "          document.querySelector('#df-a5e58bfc-e443-4b17-bf74-fc780776eb6d button.colab-df-convert');\n",
              "        buttonEl.style.display =\n",
              "          google.colab.kernel.accessAllowed ? 'block' : 'none';\n",
              "\n",
              "        async function convertToInteractive(key) {\n",
              "          const element = document.querySelector('#df-a5e58bfc-e443-4b17-bf74-fc780776eb6d');\n",
              "          const dataTable =\n",
              "            await google.colab.kernel.invokeFunction('convertToInteractive',\n",
              "                                                     [key], {});\n",
              "          if (!dataTable) return;\n",
              "\n",
              "          const docLinkHtml = 'Like what you see? Visit the ' +\n",
              "            '<a target=\"_blank\" href=https://colab.research.google.com/notebooks/data_table.ipynb>data table notebook</a>'\n",
              "            + ' to learn more about interactive tables.';\n",
              "          element.innerHTML = '';\n",
              "          dataTable['output_type'] = 'display_data';\n",
              "          await google.colab.output.renderOutput(dataTable, element);\n",
              "          const docLink = document.createElement('div');\n",
              "          docLink.innerHTML = docLinkHtml;\n",
              "          element.appendChild(docLink);\n",
              "        }\n",
              "      </script>\n",
              "    </div>\n",
              "  </div>\n",
              "  "
            ]
          },
          "metadata": {},
          "execution_count": 26
        }
      ]
    },
    {
      "cell_type": "code",
      "source": [
        "# dataframe shape\n",
        "census_FIPS_df.shape"
      ],
      "metadata": {
        "colab": {
          "base_uri": "https://localhost:8080/"
        },
        "id": "1IU6elGUfudj",
        "outputId": "6fcb58b7-2326-441c-db4f-57369f56f764"
      },
      "execution_count": null,
      "outputs": [
        {
          "output_type": "execute_result",
          "data": {
            "text/plain": [
              "(3221, 2)"
            ]
          },
          "metadata": {},
          "execution_count": 27
        }
      ]
    },
    {
      "cell_type": "code",
      "source": [
        "# merge on FIPS column to existing merged data and assign to a new df\n",
        "census_map_svi_snap = pd.merge(census_FIPS_df, map_svi_snap,left_on='countyFIPS',right_on='countyFIPS',how='inner')\n",
        "\n",
        "# display dataframe\n",
        "census_map_svi_snap.sample(3)"
      ],
      "metadata": {
        "colab": {
          "base_uri": "https://localhost:8080/",
          "height": 428
        },
        "id": "eaMIQuNalrtX",
        "outputId": "def18afa-e640-428b-ddae-d3071fe1d736"
      },
      "execution_count": null,
      "outputs": [
        {
          "output_type": "execute_result",
          "data": {
            "text/plain": [
              "      countyFIPS  HHCount  year  PersonsPublic  PersonsNonPublic  \\\n",
              "191         6069  18389.0  2020         1545.0            8275.0   \n",
              "1623       39131  11037.0  2020         2218.0           11823.0   \n",
              "462        13243   2704.0  2020          700.0            3780.0   \n",
              "\n",
              "      PersonsTotal  HouseholdsPublicAssistance  HouseholdsNonPublicAssistance  \\\n",
              "191         9820.0                       801.0                         4134.0   \n",
              "1623       14041.0                      1761.0                         5182.0   \n",
              "462         4480.0                       448.0                         1936.0   \n",
              "\n",
              "      HouseholdsTotal   Issuance  ...  % FI > High Threshold  \\\n",
              "191            4935.0  1213885.0  ...                  0.278   \n",
              "1623           6943.0  2072235.0  ...                  0.145   \n",
              "462            2384.0   531820.0  ...                  0.206   \n",
              "\n",
              "     Child Food Insecurity Rate (1 Year) # of Food Insecure Children (1 Year)  \\\n",
              "191                                0.145                               2300.0   \n",
              "1623                               0.225                               1480.0   \n",
              "462                                0.287                                520.0   \n",
              "\n",
              "     % food insecure children in HH w/ HH incomes below 185 FPL  \\\n",
              "191                                                0.71           \n",
              "1623                                               0.89           \n",
              "462                                                0.89           \n",
              "\n",
              "      % food insecure children in HH w/ HH incomes above 185 FPL  \\\n",
              "191                                                0.29            \n",
              "1623                                               0.11            \n",
              "462                                                0.11            \n",
              "\n",
              "      Cost Per Meal (1 Year)  Weighted weekly $ needed by FI  \\\n",
              "191                     4.48                       23.766872   \n",
              "1623                    2.83                       15.009201   \n",
              "462                     3.15                       16.715388   \n",
              "\n",
              "      Weighted Annual Food Budget Shortfall             County        State  \n",
              "191                               3677000.0  San Benito County   California  \n",
              "1623                              2299000.0        Pike County         Ohio  \n",
              "462                                583000.0    Randolph County      Georgia  \n",
              "\n",
              "[3 rows x 43 columns]"
            ],
            "text/html": [
              "\n",
              "  <div id=\"df-d355e3e1-3a3e-429a-8b47-631b398e8026\">\n",
              "    <div class=\"colab-df-container\">\n",
              "      <div>\n",
              "<style scoped>\n",
              "    .dataframe tbody tr th:only-of-type {\n",
              "        vertical-align: middle;\n",
              "    }\n",
              "\n",
              "    .dataframe tbody tr th {\n",
              "        vertical-align: top;\n",
              "    }\n",
              "\n",
              "    .dataframe thead th {\n",
              "        text-align: right;\n",
              "    }\n",
              "</style>\n",
              "<table border=\"1\" class=\"dataframe\">\n",
              "  <thead>\n",
              "    <tr style=\"text-align: right;\">\n",
              "      <th></th>\n",
              "      <th>countyFIPS</th>\n",
              "      <th>HHCount</th>\n",
              "      <th>year</th>\n",
              "      <th>PersonsPublic</th>\n",
              "      <th>PersonsNonPublic</th>\n",
              "      <th>PersonsTotal</th>\n",
              "      <th>HouseholdsPublicAssistance</th>\n",
              "      <th>HouseholdsNonPublicAssistance</th>\n",
              "      <th>HouseholdsTotal</th>\n",
              "      <th>Issuance</th>\n",
              "      <th>...</th>\n",
              "      <th>% FI &gt; High Threshold</th>\n",
              "      <th>Child Food Insecurity Rate (1 Year)</th>\n",
              "      <th># of Food Insecure Children (1 Year)</th>\n",
              "      <th>% food insecure children in HH w/ HH incomes below 185 FPL</th>\n",
              "      <th>% food insecure children in HH w/ HH incomes above 185 FPL</th>\n",
              "      <th>Cost Per Meal (1 Year)</th>\n",
              "      <th>Weighted weekly $ needed by FI</th>\n",
              "      <th>Weighted Annual Food Budget Shortfall</th>\n",
              "      <th>County</th>\n",
              "      <th>State</th>\n",
              "    </tr>\n",
              "  </thead>\n",
              "  <tbody>\n",
              "    <tr>\n",
              "      <th>191</th>\n",
              "      <td>6069</td>\n",
              "      <td>18389.0</td>\n",
              "      <td>2020</td>\n",
              "      <td>1545.0</td>\n",
              "      <td>8275.0</td>\n",
              "      <td>9820.0</td>\n",
              "      <td>801.0</td>\n",
              "      <td>4134.0</td>\n",
              "      <td>4935.0</td>\n",
              "      <td>1213885.0</td>\n",
              "      <td>...</td>\n",
              "      <td>0.278</td>\n",
              "      <td>0.145</td>\n",
              "      <td>2300.0</td>\n",
              "      <td>0.71</td>\n",
              "      <td>0.29</td>\n",
              "      <td>4.48</td>\n",
              "      <td>23.766872</td>\n",
              "      <td>3677000.0</td>\n",
              "      <td>San Benito County</td>\n",
              "      <td>California</td>\n",
              "    </tr>\n",
              "    <tr>\n",
              "      <th>1623</th>\n",
              "      <td>39131</td>\n",
              "      <td>11037.0</td>\n",
              "      <td>2020</td>\n",
              "      <td>2218.0</td>\n",
              "      <td>11823.0</td>\n",
              "      <td>14041.0</td>\n",
              "      <td>1761.0</td>\n",
              "      <td>5182.0</td>\n",
              "      <td>6943.0</td>\n",
              "      <td>2072235.0</td>\n",
              "      <td>...</td>\n",
              "      <td>0.145</td>\n",
              "      <td>0.225</td>\n",
              "      <td>1480.0</td>\n",
              "      <td>0.89</td>\n",
              "      <td>0.11</td>\n",
              "      <td>2.83</td>\n",
              "      <td>15.009201</td>\n",
              "      <td>2299000.0</td>\n",
              "      <td>Pike County</td>\n",
              "      <td>Ohio</td>\n",
              "    </tr>\n",
              "    <tr>\n",
              "      <th>462</th>\n",
              "      <td>13243</td>\n",
              "      <td>2704.0</td>\n",
              "      <td>2020</td>\n",
              "      <td>700.0</td>\n",
              "      <td>3780.0</td>\n",
              "      <td>4480.0</td>\n",
              "      <td>448.0</td>\n",
              "      <td>1936.0</td>\n",
              "      <td>2384.0</td>\n",
              "      <td>531820.0</td>\n",
              "      <td>...</td>\n",
              "      <td>0.206</td>\n",
              "      <td>0.287</td>\n",
              "      <td>520.0</td>\n",
              "      <td>0.89</td>\n",
              "      <td>0.11</td>\n",
              "      <td>3.15</td>\n",
              "      <td>16.715388</td>\n",
              "      <td>583000.0</td>\n",
              "      <td>Randolph County</td>\n",
              "      <td>Georgia</td>\n",
              "    </tr>\n",
              "  </tbody>\n",
              "</table>\n",
              "<p>3 rows × 43 columns</p>\n",
              "</div>\n",
              "      <button class=\"colab-df-convert\" onclick=\"convertToInteractive('df-d355e3e1-3a3e-429a-8b47-631b398e8026')\"\n",
              "              title=\"Convert this dataframe to an interactive table.\"\n",
              "              style=\"display:none;\">\n",
              "        \n",
              "  <svg xmlns=\"http://www.w3.org/2000/svg\" height=\"24px\"viewBox=\"0 0 24 24\"\n",
              "       width=\"24px\">\n",
              "    <path d=\"M0 0h24v24H0V0z\" fill=\"none\"/>\n",
              "    <path d=\"M18.56 5.44l.94 2.06.94-2.06 2.06-.94-2.06-.94-.94-2.06-.94 2.06-2.06.94zm-11 1L8.5 8.5l.94-2.06 2.06-.94-2.06-.94L8.5 2.5l-.94 2.06-2.06.94zm10 10l.94 2.06.94-2.06 2.06-.94-2.06-.94-.94-2.06-.94 2.06-2.06.94z\"/><path d=\"M17.41 7.96l-1.37-1.37c-.4-.4-.92-.59-1.43-.59-.52 0-1.04.2-1.43.59L10.3 9.45l-7.72 7.72c-.78.78-.78 2.05 0 2.83L4 21.41c.39.39.9.59 1.41.59.51 0 1.02-.2 1.41-.59l7.78-7.78 2.81-2.81c.8-.78.8-2.07 0-2.86zM5.41 20L4 18.59l7.72-7.72 1.47 1.35L5.41 20z\"/>\n",
              "  </svg>\n",
              "      </button>\n",
              "      \n",
              "  <style>\n",
              "    .colab-df-container {\n",
              "      display:flex;\n",
              "      flex-wrap:wrap;\n",
              "      gap: 12px;\n",
              "    }\n",
              "\n",
              "    .colab-df-convert {\n",
              "      background-color: #E8F0FE;\n",
              "      border: none;\n",
              "      border-radius: 50%;\n",
              "      cursor: pointer;\n",
              "      display: none;\n",
              "      fill: #1967D2;\n",
              "      height: 32px;\n",
              "      padding: 0 0 0 0;\n",
              "      width: 32px;\n",
              "    }\n",
              "\n",
              "    .colab-df-convert:hover {\n",
              "      background-color: #E2EBFA;\n",
              "      box-shadow: 0px 1px 2px rgba(60, 64, 67, 0.3), 0px 1px 3px 1px rgba(60, 64, 67, 0.15);\n",
              "      fill: #174EA6;\n",
              "    }\n",
              "\n",
              "    [theme=dark] .colab-df-convert {\n",
              "      background-color: #3B4455;\n",
              "      fill: #D2E3FC;\n",
              "    }\n",
              "\n",
              "    [theme=dark] .colab-df-convert:hover {\n",
              "      background-color: #434B5C;\n",
              "      box-shadow: 0px 1px 3px 1px rgba(0, 0, 0, 0.15);\n",
              "      filter: drop-shadow(0px 1px 2px rgba(0, 0, 0, 0.3));\n",
              "      fill: #FFFFFF;\n",
              "    }\n",
              "  </style>\n",
              "\n",
              "      <script>\n",
              "        const buttonEl =\n",
              "          document.querySelector('#df-d355e3e1-3a3e-429a-8b47-631b398e8026 button.colab-df-convert');\n",
              "        buttonEl.style.display =\n",
              "          google.colab.kernel.accessAllowed ? 'block' : 'none';\n",
              "\n",
              "        async function convertToInteractive(key) {\n",
              "          const element = document.querySelector('#df-d355e3e1-3a3e-429a-8b47-631b398e8026');\n",
              "          const dataTable =\n",
              "            await google.colab.kernel.invokeFunction('convertToInteractive',\n",
              "                                                     [key], {});\n",
              "          if (!dataTable) return;\n",
              "\n",
              "          const docLinkHtml = 'Like what you see? Visit the ' +\n",
              "            '<a target=\"_blank\" href=https://colab.research.google.com/notebooks/data_table.ipynb>data table notebook</a>'\n",
              "            + ' to learn more about interactive tables.';\n",
              "          element.innerHTML = '';\n",
              "          dataTable['output_type'] = 'display_data';\n",
              "          await google.colab.output.renderOutput(dataTable, element);\n",
              "          const docLink = document.createElement('div');\n",
              "          docLink.innerHTML = docLinkHtml;\n",
              "          element.appendChild(docLink);\n",
              "        }\n",
              "      </script>\n",
              "    </div>\n",
              "  </div>\n",
              "  "
            ]
          },
          "metadata": {},
          "execution_count": 28
        }
      ]
    },
    {
      "cell_type": "code",
      "source": [
        "# shape of merged dataframe\n",
        "census_map_svi_snap.shape"
      ],
      "metadata": {
        "colab": {
          "base_uri": "https://localhost:8080/"
        },
        "id": "VkKQO6y-flit",
        "outputId": "7aab5e6c-ce4d-4bbf-dcde-d0e6865b57a8"
      },
      "execution_count": null,
      "outputs": [
        {
          "output_type": "execute_result",
          "data": {
            "text/plain": [
              "(2507, 43)"
            ]
          },
          "metadata": {},
          "execution_count": 29
        }
      ]
    },
    {
      "cell_type": "code",
      "source": [
        "# calculation SNAP HouseholdsTotal/#census_household\n",
        "census_map_svi_snap['HH_ratio'] = census_map_svi_snap['HouseholdsTotal'] / census_map_svi_snap['HHCount']"
      ],
      "metadata": {
        "id": "JPHR1TQ1lq2H"
      },
      "execution_count": null,
      "outputs": []
    },
    {
      "cell_type": "code",
      "source": [
        "# Columns of 4 table merge of selected columns\n",
        "census_map_svi_snap.columns"
      ],
      "metadata": {
        "colab": {
          "base_uri": "https://localhost:8080/"
        },
        "id": "58KilXdnQLXF",
        "outputId": "bb272636-6c24-42f9-a68c-770be9914f06"
      },
      "execution_count": null,
      "outputs": [
        {
          "output_type": "execute_result",
          "data": {
            "text/plain": [
              "Index(['countyFIPS', 'HHCount', 'year', 'PersonsPublic', 'PersonsNonPublic',\n",
              "       'PersonsTotal', 'HouseholdsPublicAssistance',\n",
              "       'HouseholdsNonPublicAssistance', 'HouseholdsTotal', 'Issuance',\n",
              "       'stateFIPS', 'STATE', 'ST_ABBR', 'COUNTY', 'FIPS', 'RPL_THEME1',\n",
              "       'RPL_THEME2', 'RPL_THEME3', 'RPL_THEME4', 'RPL_THEMES', 'State_Abbrev',\n",
              "       'Year', 'Overall Food Insecurity Rate (1 Year)',\n",
              "       '# of Food Insecure Persons Overall (1 Year)',\n",
              "       'Food Insecurity Rate among Black Persons (all ethnicities)',\n",
              "       'Food Insecurity Rate among Hispanic Persons (any race)',\n",
              "       'Food Insecurity Rate among White, non-Hispanic Persons ',\n",
              "       'Low Threshold in state', 'Low Threshold Type',\n",
              "       'High Threshold in state', 'High Threshold Type',\n",
              "       '% FI ≤ Low Threshold', '% FI Btwn Thresholds', '% FI > High Threshold',\n",
              "       'Child Food Insecurity Rate (1 Year)',\n",
              "       '# of Food Insecure Children (1 Year)',\n",
              "       '% food insecure children in HH w/ HH incomes below 185 FPL',\n",
              "       '% food insecure children in HH w/ HH incomes above 185 FPL',\n",
              "       'Cost Per Meal (1 Year)', 'Weighted weekly $ needed by FI',\n",
              "       'Weighted Annual Food Budget Shortfall', 'County', 'State', 'HH_ratio'],\n",
              "      dtype='object')"
            ]
          },
          "metadata": {},
          "execution_count": 31
        }
      ]
    },
    {
      "cell_type": "code",
      "source": [
        "# copy dataframe \n",
        "census_map_svi_snap_orig = census_map_svi_snap.copy()\n",
        "\n",
        "# Remove duplicated columns\n",
        "census_map_svi_snap.drop(['year', 'County', 'STATE','FIPS', 'ST_ABBR'], axis = 1, inplace = True)\n"
      ],
      "metadata": {
        "id": "7gSPcbLYOMYj"
      },
      "execution_count": null,
      "outputs": []
    },
    {
      "cell_type": "code",
      "source": [
        "print(f\"final dataset size before transformations {census_map_svi_snap_orig.shape}\")\n",
        "census_map_svi_snap.shape\n",
        "print(f\"final dataset size after transformations {census_map_svi_snap.shape}\")"
      ],
      "metadata": {
        "colab": {
          "base_uri": "https://localhost:8080/"
        },
        "id": "VZKSSbBxgRiJ",
        "outputId": "862008f4-6acb-4c8a-bfe1-27a0650b2288"
      },
      "execution_count": null,
      "outputs": [
        {
          "output_type": "stream",
          "name": "stdout",
          "text": [
            "final dataset size before transformations (2507, 44)\n",
            "final dataset size after transformations (2507, 39)\n"
          ]
        }
      ]
    },
    {
      "cell_type": "code",
      "source": [
        "census_map_svi_snap.dtypes"
      ],
      "metadata": {
        "colab": {
          "base_uri": "https://localhost:8080/"
        },
        "id": "zA_E_Mf-2jLx",
        "outputId": "61c5fa00-b75a-4427-939c-3156b11ca8b1"
      },
      "execution_count": null,
      "outputs": [
        {
          "output_type": "execute_result",
          "data": {
            "text/plain": [
              "countyFIPS                                                             int64\n",
              "HHCount                                                              float64\n",
              "PersonsPublic                                                        float64\n",
              "PersonsNonPublic                                                     float64\n",
              "PersonsTotal                                                         float64\n",
              "HouseholdsPublicAssistance                                           float64\n",
              "HouseholdsNonPublicAssistance                                        float64\n",
              "HouseholdsTotal                                                      float64\n",
              "Issuance                                                             float64\n",
              "stateFIPS                                                              int64\n",
              "COUNTY                                                                object\n",
              "RPL_THEME1                                                           float64\n",
              "RPL_THEME2                                                           float64\n",
              "RPL_THEME3                                                           float64\n",
              "RPL_THEME4                                                           float64\n",
              "RPL_THEMES                                                           float64\n",
              "State_Abbrev                                                          object\n",
              "Year                                                          datetime64[ns]\n",
              "Overall Food Insecurity Rate (1 Year)                                float64\n",
              "# of Food Insecure Persons Overall (1 Year)                          float64\n",
              "Food Insecurity Rate among Black Persons (all ethnicities)           float64\n",
              "Food Insecurity Rate among Hispanic Persons (any race)               float64\n",
              "Food Insecurity Rate among White, non-Hispanic Persons               float64\n",
              "Low Threshold in state                                               float64\n",
              "Low Threshold Type                                                    object\n",
              "High Threshold in state                                              float64\n",
              "High Threshold Type                                                   object\n",
              "% FI ≤ Low Threshold                                                 float64\n",
              "% FI Btwn Thresholds                                                 float64\n",
              "% FI > High Threshold                                                float64\n",
              "Child Food Insecurity Rate (1 Year)                                  float64\n",
              "# of Food Insecure Children (1 Year)                                 float64\n",
              "% food insecure children in HH w/ HH incomes below 185 FPL           float64\n",
              "% food insecure children in HH w/ HH incomes above 185 FPL           float64\n",
              "Cost Per Meal (1 Year)                                               float64\n",
              "Weighted weekly $ needed by FI                                       float64\n",
              "Weighted Annual Food Budget Shortfall                                float64\n",
              "State                                                                 object\n",
              "HH_ratio                                                             float64\n",
              "dtype: object"
            ]
          },
          "metadata": {},
          "execution_count": 34
        }
      ]
    },
    {
      "cell_type": "code",
      "source": [
        "# Summary statistics\n",
        "census_map_svi_snap.describe()"
      ],
      "metadata": {
        "id": "6aoBN8ySbtXH",
        "colab": {
          "base_uri": "https://localhost:8080/",
          "height": 498
        },
        "outputId": "a8a4fda6-1b02-44cc-b0ef-fb497c8aac89"
      },
      "execution_count": null,
      "outputs": [
        {
          "output_type": "execute_result",
          "data": {
            "text/plain": [
              "         countyFIPS       HHCount  PersonsPublic  PersonsNonPublic  \\\n",
              "count   2507.000000  2.507000e+03    2507.000000      2.507000e+03   \n",
              "mean   30069.038293  3.874804e+04    3042.984045      2.253221e+04   \n",
              "std    15700.257732  1.214748e+05   16148.509860      7.922927e+04   \n",
              "min     1001.000000  6.200000e+01       0.000000      0.000000e+00   \n",
              "25%    18090.000000  4.854000e+03     106.000000      2.625500e+03   \n",
              "50%    27173.000000  1.046500e+04     546.000000      6.334000e+03   \n",
              "75%    46092.000000  2.641350e+04    1785.500000      1.593400e+04   \n",
              "max    55141.000000  3.332504e+06  660741.000000      1.891999e+06   \n",
              "\n",
              "       PersonsTotal  HouseholdsPublicAssistance  \\\n",
              "count  2.507000e+03                 2507.000000   \n",
              "mean   2.557520e+04                 2021.794575   \n",
              "std    9.170996e+04                10395.590994   \n",
              "min    0.000000e+00                    0.000000   \n",
              "25%    2.939500e+03                   49.000000   \n",
              "50%    7.084000e+03                  379.000000   \n",
              "75%    1.758350e+04                 1249.000000   \n",
              "max    2.552740e+06               413773.000000   \n",
              "\n",
              "       HouseholdsNonPublicAssistance  HouseholdsTotal      Issuance  \\\n",
              "count                   2.507000e+03     2.507000e+03  2.507000e+03   \n",
              "mean                    1.081152e+04     1.283331e+04  3.533669e+06   \n",
              "std                     4.060317e+04     4.898269e+04  1.361291e+07   \n",
              "min                     0.000000e+00     0.000000e+00  0.000000e+00   \n",
              "25%                     1.184500e+03     1.393500e+03  3.730350e+05   \n",
              "50%                     2.885000e+03     3.420000e+03  8.948250e+05   \n",
              "75%                     7.321500e+03     8.489000e+03  2.319782e+06   \n",
              "max                     1.070090e+06     1.483863e+06  3.979753e+08   \n",
              "\n",
              "         stateFIPS  ...  % FI Btwn Thresholds  % FI > High Threshold  \\\n",
              "count  2507.000000  ...           1628.000000            2507.000000   \n",
              "mean     61.537296  ...              0.144225               0.281774   \n",
              "std      38.578240  ...              0.088636               0.114345   \n",
              "min       2.000000  ...              0.000000               0.000000   \n",
              "25%      36.000000  ...              0.073750               0.214500   \n",
              "50%      56.000000  ...              0.129000               0.283000   \n",
              "75%      94.000000  ...              0.202000               0.352000   \n",
              "max    1122.000000  ...              0.540000               0.690000   \n",
              "\n",
              "       Child Food Insecurity Rate (1 Year)  \\\n",
              "count                          2507.000000   \n",
              "mean                              0.176666   \n",
              "std                               0.064276   \n",
              "min                               0.000000   \n",
              "25%                               0.131000   \n",
              "50%                               0.172000   \n",
              "75%                               0.212000   \n",
              "max                               0.464000   \n",
              "\n",
              "       # of Food Insecure Children (1 Year)  \\\n",
              "count                           2507.000000   \n",
              "mean                            4022.010371   \n",
              "std                            15388.011125   \n",
              "min                                0.000000   \n",
              "25%                              450.000000   \n",
              "50%                             1030.000000   \n",
              "75%                             2590.000000   \n",
              "max                           438950.000000   \n",
              "\n",
              "       % food insecure children in HH w/ HH incomes below 185 FPL  \\\n",
              "count                                        2506.000000            \n",
              "mean                                            0.788990            \n",
              "std                                             0.128726            \n",
              "min                                             0.000000            \n",
              "25%                                             0.710000            \n",
              "50%                                             0.790000            \n",
              "75%                                             0.880000            \n",
              "max                                             1.000000            \n",
              "\n",
              "       % food insecure children in HH w/ HH incomes above 185 FPL  \\\n",
              "count                                        2506.000000            \n",
              "mean                                            0.212023            \n",
              "std                                             0.128878            \n",
              "min                                             0.000000            \n",
              "25%                                             0.120000            \n",
              "50%                                             0.210000            \n",
              "75%                                             0.290000            \n",
              "max                                             1.000000            \n",
              "\n",
              "       Cost Per Meal (1 Year)  Weighted weekly $ needed by FI  \\\n",
              "count             2507.000000                     2507.000000   \n",
              "mean                 3.202218                       16.997450   \n",
              "std                  0.347466                        1.843372   \n",
              "min                  2.190000                       11.643379   \n",
              "25%                  2.990000                       15.863886   \n",
              "50%                  3.150000                       16.744836   \n",
              "75%                  3.340000                       17.735290   \n",
              "max                  9.000000                       47.772544   \n",
              "\n",
              "       Weighted Annual Food Budget Shortfall     HH_ratio  \n",
              "count                           2.507000e+03  2507.000000  \n",
              "mean                            6.636038e+06     0.334259  \n",
              "std                             2.374913e+07     0.224753  \n",
              "min                             1.600000e+04     0.000000  \n",
              "25%                             7.950000e+05     0.192262  \n",
              "50%                             1.765000e+06     0.300900  \n",
              "75%                             4.377500e+06     0.427347  \n",
              "max                             7.554500e+08     5.794378  \n",
              "\n",
              "[8 rows x 33 columns]"
            ],
            "text/html": [
              "\n",
              "  <div id=\"df-a8b6f445-c9af-4363-843e-c7f4304709ff\">\n",
              "    <div class=\"colab-df-container\">\n",
              "      <div>\n",
              "<style scoped>\n",
              "    .dataframe tbody tr th:only-of-type {\n",
              "        vertical-align: middle;\n",
              "    }\n",
              "\n",
              "    .dataframe tbody tr th {\n",
              "        vertical-align: top;\n",
              "    }\n",
              "\n",
              "    .dataframe thead th {\n",
              "        text-align: right;\n",
              "    }\n",
              "</style>\n",
              "<table border=\"1\" class=\"dataframe\">\n",
              "  <thead>\n",
              "    <tr style=\"text-align: right;\">\n",
              "      <th></th>\n",
              "      <th>countyFIPS</th>\n",
              "      <th>HHCount</th>\n",
              "      <th>PersonsPublic</th>\n",
              "      <th>PersonsNonPublic</th>\n",
              "      <th>PersonsTotal</th>\n",
              "      <th>HouseholdsPublicAssistance</th>\n",
              "      <th>HouseholdsNonPublicAssistance</th>\n",
              "      <th>HouseholdsTotal</th>\n",
              "      <th>Issuance</th>\n",
              "      <th>stateFIPS</th>\n",
              "      <th>...</th>\n",
              "      <th>% FI Btwn Thresholds</th>\n",
              "      <th>% FI &gt; High Threshold</th>\n",
              "      <th>Child Food Insecurity Rate (1 Year)</th>\n",
              "      <th># of Food Insecure Children (1 Year)</th>\n",
              "      <th>% food insecure children in HH w/ HH incomes below 185 FPL</th>\n",
              "      <th>% food insecure children in HH w/ HH incomes above 185 FPL</th>\n",
              "      <th>Cost Per Meal (1 Year)</th>\n",
              "      <th>Weighted weekly $ needed by FI</th>\n",
              "      <th>Weighted Annual Food Budget Shortfall</th>\n",
              "      <th>HH_ratio</th>\n",
              "    </tr>\n",
              "  </thead>\n",
              "  <tbody>\n",
              "    <tr>\n",
              "      <th>count</th>\n",
              "      <td>2507.000000</td>\n",
              "      <td>2.507000e+03</td>\n",
              "      <td>2507.000000</td>\n",
              "      <td>2.507000e+03</td>\n",
              "      <td>2.507000e+03</td>\n",
              "      <td>2507.000000</td>\n",
              "      <td>2.507000e+03</td>\n",
              "      <td>2.507000e+03</td>\n",
              "      <td>2.507000e+03</td>\n",
              "      <td>2507.000000</td>\n",
              "      <td>...</td>\n",
              "      <td>1628.000000</td>\n",
              "      <td>2507.000000</td>\n",
              "      <td>2507.000000</td>\n",
              "      <td>2507.000000</td>\n",
              "      <td>2506.000000</td>\n",
              "      <td>2506.000000</td>\n",
              "      <td>2507.000000</td>\n",
              "      <td>2507.000000</td>\n",
              "      <td>2.507000e+03</td>\n",
              "      <td>2507.000000</td>\n",
              "    </tr>\n",
              "    <tr>\n",
              "      <th>mean</th>\n",
              "      <td>30069.038293</td>\n",
              "      <td>3.874804e+04</td>\n",
              "      <td>3042.984045</td>\n",
              "      <td>2.253221e+04</td>\n",
              "      <td>2.557520e+04</td>\n",
              "      <td>2021.794575</td>\n",
              "      <td>1.081152e+04</td>\n",
              "      <td>1.283331e+04</td>\n",
              "      <td>3.533669e+06</td>\n",
              "      <td>61.537296</td>\n",
              "      <td>...</td>\n",
              "      <td>0.144225</td>\n",
              "      <td>0.281774</td>\n",
              "      <td>0.176666</td>\n",
              "      <td>4022.010371</td>\n",
              "      <td>0.788990</td>\n",
              "      <td>0.212023</td>\n",
              "      <td>3.202218</td>\n",
              "      <td>16.997450</td>\n",
              "      <td>6.636038e+06</td>\n",
              "      <td>0.334259</td>\n",
              "    </tr>\n",
              "    <tr>\n",
              "      <th>std</th>\n",
              "      <td>15700.257732</td>\n",
              "      <td>1.214748e+05</td>\n",
              "      <td>16148.509860</td>\n",
              "      <td>7.922927e+04</td>\n",
              "      <td>9.170996e+04</td>\n",
              "      <td>10395.590994</td>\n",
              "      <td>4.060317e+04</td>\n",
              "      <td>4.898269e+04</td>\n",
              "      <td>1.361291e+07</td>\n",
              "      <td>38.578240</td>\n",
              "      <td>...</td>\n",
              "      <td>0.088636</td>\n",
              "      <td>0.114345</td>\n",
              "      <td>0.064276</td>\n",
              "      <td>15388.011125</td>\n",
              "      <td>0.128726</td>\n",
              "      <td>0.128878</td>\n",
              "      <td>0.347466</td>\n",
              "      <td>1.843372</td>\n",
              "      <td>2.374913e+07</td>\n",
              "      <td>0.224753</td>\n",
              "    </tr>\n",
              "    <tr>\n",
              "      <th>min</th>\n",
              "      <td>1001.000000</td>\n",
              "      <td>6.200000e+01</td>\n",
              "      <td>0.000000</td>\n",
              "      <td>0.000000e+00</td>\n",
              "      <td>0.000000e+00</td>\n",
              "      <td>0.000000</td>\n",
              "      <td>0.000000e+00</td>\n",
              "      <td>0.000000e+00</td>\n",
              "      <td>0.000000e+00</td>\n",
              "      <td>2.000000</td>\n",
              "      <td>...</td>\n",
              "      <td>0.000000</td>\n",
              "      <td>0.000000</td>\n",
              "      <td>0.000000</td>\n",
              "      <td>0.000000</td>\n",
              "      <td>0.000000</td>\n",
              "      <td>0.000000</td>\n",
              "      <td>2.190000</td>\n",
              "      <td>11.643379</td>\n",
              "      <td>1.600000e+04</td>\n",
              "      <td>0.000000</td>\n",
              "    </tr>\n",
              "    <tr>\n",
              "      <th>25%</th>\n",
              "      <td>18090.000000</td>\n",
              "      <td>4.854000e+03</td>\n",
              "      <td>106.000000</td>\n",
              "      <td>2.625500e+03</td>\n",
              "      <td>2.939500e+03</td>\n",
              "      <td>49.000000</td>\n",
              "      <td>1.184500e+03</td>\n",
              "      <td>1.393500e+03</td>\n",
              "      <td>3.730350e+05</td>\n",
              "      <td>36.000000</td>\n",
              "      <td>...</td>\n",
              "      <td>0.073750</td>\n",
              "      <td>0.214500</td>\n",
              "      <td>0.131000</td>\n",
              "      <td>450.000000</td>\n",
              "      <td>0.710000</td>\n",
              "      <td>0.120000</td>\n",
              "      <td>2.990000</td>\n",
              "      <td>15.863886</td>\n",
              "      <td>7.950000e+05</td>\n",
              "      <td>0.192262</td>\n",
              "    </tr>\n",
              "    <tr>\n",
              "      <th>50%</th>\n",
              "      <td>27173.000000</td>\n",
              "      <td>1.046500e+04</td>\n",
              "      <td>546.000000</td>\n",
              "      <td>6.334000e+03</td>\n",
              "      <td>7.084000e+03</td>\n",
              "      <td>379.000000</td>\n",
              "      <td>2.885000e+03</td>\n",
              "      <td>3.420000e+03</td>\n",
              "      <td>8.948250e+05</td>\n",
              "      <td>56.000000</td>\n",
              "      <td>...</td>\n",
              "      <td>0.129000</td>\n",
              "      <td>0.283000</td>\n",
              "      <td>0.172000</td>\n",
              "      <td>1030.000000</td>\n",
              "      <td>0.790000</td>\n",
              "      <td>0.210000</td>\n",
              "      <td>3.150000</td>\n",
              "      <td>16.744836</td>\n",
              "      <td>1.765000e+06</td>\n",
              "      <td>0.300900</td>\n",
              "    </tr>\n",
              "    <tr>\n",
              "      <th>75%</th>\n",
              "      <td>46092.000000</td>\n",
              "      <td>2.641350e+04</td>\n",
              "      <td>1785.500000</td>\n",
              "      <td>1.593400e+04</td>\n",
              "      <td>1.758350e+04</td>\n",
              "      <td>1249.000000</td>\n",
              "      <td>7.321500e+03</td>\n",
              "      <td>8.489000e+03</td>\n",
              "      <td>2.319782e+06</td>\n",
              "      <td>94.000000</td>\n",
              "      <td>...</td>\n",
              "      <td>0.202000</td>\n",
              "      <td>0.352000</td>\n",
              "      <td>0.212000</td>\n",
              "      <td>2590.000000</td>\n",
              "      <td>0.880000</td>\n",
              "      <td>0.290000</td>\n",
              "      <td>3.340000</td>\n",
              "      <td>17.735290</td>\n",
              "      <td>4.377500e+06</td>\n",
              "      <td>0.427347</td>\n",
              "    </tr>\n",
              "    <tr>\n",
              "      <th>max</th>\n",
              "      <td>55141.000000</td>\n",
              "      <td>3.332504e+06</td>\n",
              "      <td>660741.000000</td>\n",
              "      <td>1.891999e+06</td>\n",
              "      <td>2.552740e+06</td>\n",
              "      <td>413773.000000</td>\n",
              "      <td>1.070090e+06</td>\n",
              "      <td>1.483863e+06</td>\n",
              "      <td>3.979753e+08</td>\n",
              "      <td>1122.000000</td>\n",
              "      <td>...</td>\n",
              "      <td>0.540000</td>\n",
              "      <td>0.690000</td>\n",
              "      <td>0.464000</td>\n",
              "      <td>438950.000000</td>\n",
              "      <td>1.000000</td>\n",
              "      <td>1.000000</td>\n",
              "      <td>9.000000</td>\n",
              "      <td>47.772544</td>\n",
              "      <td>7.554500e+08</td>\n",
              "      <td>5.794378</td>\n",
              "    </tr>\n",
              "  </tbody>\n",
              "</table>\n",
              "<p>8 rows × 33 columns</p>\n",
              "</div>\n",
              "      <button class=\"colab-df-convert\" onclick=\"convertToInteractive('df-a8b6f445-c9af-4363-843e-c7f4304709ff')\"\n",
              "              title=\"Convert this dataframe to an interactive table.\"\n",
              "              style=\"display:none;\">\n",
              "        \n",
              "  <svg xmlns=\"http://www.w3.org/2000/svg\" height=\"24px\"viewBox=\"0 0 24 24\"\n",
              "       width=\"24px\">\n",
              "    <path d=\"M0 0h24v24H0V0z\" fill=\"none\"/>\n",
              "    <path d=\"M18.56 5.44l.94 2.06.94-2.06 2.06-.94-2.06-.94-.94-2.06-.94 2.06-2.06.94zm-11 1L8.5 8.5l.94-2.06 2.06-.94-2.06-.94L8.5 2.5l-.94 2.06-2.06.94zm10 10l.94 2.06.94-2.06 2.06-.94-2.06-.94-.94-2.06-.94 2.06-2.06.94z\"/><path d=\"M17.41 7.96l-1.37-1.37c-.4-.4-.92-.59-1.43-.59-.52 0-1.04.2-1.43.59L10.3 9.45l-7.72 7.72c-.78.78-.78 2.05 0 2.83L4 21.41c.39.39.9.59 1.41.59.51 0 1.02-.2 1.41-.59l7.78-7.78 2.81-2.81c.8-.78.8-2.07 0-2.86zM5.41 20L4 18.59l7.72-7.72 1.47 1.35L5.41 20z\"/>\n",
              "  </svg>\n",
              "      </button>\n",
              "      \n",
              "  <style>\n",
              "    .colab-df-container {\n",
              "      display:flex;\n",
              "      flex-wrap:wrap;\n",
              "      gap: 12px;\n",
              "    }\n",
              "\n",
              "    .colab-df-convert {\n",
              "      background-color: #E8F0FE;\n",
              "      border: none;\n",
              "      border-radius: 50%;\n",
              "      cursor: pointer;\n",
              "      display: none;\n",
              "      fill: #1967D2;\n",
              "      height: 32px;\n",
              "      padding: 0 0 0 0;\n",
              "      width: 32px;\n",
              "    }\n",
              "\n",
              "    .colab-df-convert:hover {\n",
              "      background-color: #E2EBFA;\n",
              "      box-shadow: 0px 1px 2px rgba(60, 64, 67, 0.3), 0px 1px 3px 1px rgba(60, 64, 67, 0.15);\n",
              "      fill: #174EA6;\n",
              "    }\n",
              "\n",
              "    [theme=dark] .colab-df-convert {\n",
              "      background-color: #3B4455;\n",
              "      fill: #D2E3FC;\n",
              "    }\n",
              "\n",
              "    [theme=dark] .colab-df-convert:hover {\n",
              "      background-color: #434B5C;\n",
              "      box-shadow: 0px 1px 3px 1px rgba(0, 0, 0, 0.15);\n",
              "      filter: drop-shadow(0px 1px 2px rgba(0, 0, 0, 0.3));\n",
              "      fill: #FFFFFF;\n",
              "    }\n",
              "  </style>\n",
              "\n",
              "      <script>\n",
              "        const buttonEl =\n",
              "          document.querySelector('#df-a8b6f445-c9af-4363-843e-c7f4304709ff button.colab-df-convert');\n",
              "        buttonEl.style.display =\n",
              "          google.colab.kernel.accessAllowed ? 'block' : 'none';\n",
              "\n",
              "        async function convertToInteractive(key) {\n",
              "          const element = document.querySelector('#df-a8b6f445-c9af-4363-843e-c7f4304709ff');\n",
              "          const dataTable =\n",
              "            await google.colab.kernel.invokeFunction('convertToInteractive',\n",
              "                                                     [key], {});\n",
              "          if (!dataTable) return;\n",
              "\n",
              "          const docLinkHtml = 'Like what you see? Visit the ' +\n",
              "            '<a target=\"_blank\" href=https://colab.research.google.com/notebooks/data_table.ipynb>data table notebook</a>'\n",
              "            + ' to learn more about interactive tables.';\n",
              "          element.innerHTML = '';\n",
              "          dataTable['output_type'] = 'display_data';\n",
              "          await google.colab.output.renderOutput(dataTable, element);\n",
              "          const docLink = document.createElement('div');\n",
              "          docLink.innerHTML = docLinkHtml;\n",
              "          element.appendChild(docLink);\n",
              "        }\n",
              "      </script>\n",
              "    </div>\n",
              "  </div>\n",
              "  "
            ]
          },
          "metadata": {},
          "execution_count": 35
        }
      ]
    },
    {
      "cell_type": "code",
      "source": [
        "# histogram for the Household ratio column\n",
        "sns.histplot(census_map_svi_snap['HH_ratio'], bins='auto')"
      ],
      "metadata": {
        "colab": {
          "base_uri": "https://localhost:8080/",
          "height": 297
        },
        "id": "WCZD-Su0VGXQ",
        "outputId": "80e99dd1-e88a-4583-f691-59fd2607ad75"
      },
      "execution_count": null,
      "outputs": [
        {
          "output_type": "execute_result",
          "data": {
            "text/plain": [
              "<matplotlib.axes._subplots.AxesSubplot at 0x7feaad2b5760>"
            ]
          },
          "metadata": {},
          "execution_count": 35
        },
        {
          "output_type": "display_data",
          "data": {
            "text/plain": [
              "<Figure size 432x288 with 1 Axes>"
            ],
            "image/png": "[encoded data removed]"
          },
          "metadata": {
            "needs_background": "light"
          }
        }
      ]
    },
    {
      "cell_type": "code",
      "source": [
        "# Identify outliers with more than 3 standard deviations from the mean\n",
        "census_map_svi_snap.loc[ \\\n",
        "    (census_map_svi_snap['HH_ratio'] < (census_map_svi_snap['HH_ratio'].mean() - 3 * census_map_svi_snap['HH_ratio'].std())) \\\n",
        "    | (census_map_svi_snap['HH_ratio'] > (census_map_svi_snap['HH_ratio'].mean() + 3 * census_map_svi_snap['HH_ratio'].std())\n",
        "    )\n",
        "]"
      ],
      "metadata": {
        "id": "lVX3tDexNwZc",
        "colab": {
          "base_uri": "https://localhost:8080/",
          "height": 1000
        },
        "outputId": "a769091f-786c-47ee-dc95-8b858be2f0c2"
      },
      "execution_count": null,
      "outputs": [
        {
          "output_type": "execute_result",
          "data": {
            "text/plain": [
              "      countyFIPS  HHCount  PersonsPublic  PersonsNonPublic  PersonsTotal  \\\n",
              "52          1105   3140.0         1449.0            5019.0        6468.0   \n",
              "65          1131   3961.0         1806.0            6284.0        8090.0   \n",
              "67          2110  12878.0        20382.0          146779.0      167161.0   \n",
              "516        17029  20972.0         1938.0           44919.0       46857.0   \n",
              "562        17153   2050.0          686.0            6131.0        6817.0   \n",
              "564        17159   6527.0          512.0           13521.0       14033.0   \n",
              "1015       22035   1688.0          531.0            4066.0        4597.0   \n",
              "1382       35015  21548.0         1749.0           48745.0       50494.0   \n",
              "1384       35019   1345.0          141.0            2527.0        2668.0   \n",
              "1390       35029   8911.0         1499.0           17648.0       19147.0   \n",
              "1391       35031  21247.0          593.0           52902.0       53495.0   \n",
              "1395       35039  13035.0         2095.0           22911.0       25006.0   \n",
              "1402       35053   5002.0          546.0           10557.0       11103.0   \n",
              "1404       35057   5957.0         1082.0           13293.0       14375.0   \n",
              "1893       46121   2674.0          260.0            9162.0        9422.0   \n",
              "1899       46137    775.0           11.0            1975.0        1986.0   \n",
              "2208       48427  16281.0          158.0           40296.0       40454.0   \n",
              "2403       54047   7431.0         3274.0           10278.0       13552.0   \n",
              "\n",
              "      HouseholdsPublicAssistance  HouseholdsNonPublicAssistance  \\\n",
              "52                         933.0                         2569.0   \n",
              "65                        1132.0                         3003.0   \n",
              "67                       11816.0                        62804.0   \n",
              "516                        729.0                        23157.0   \n",
              "562                        335.0                         3451.0   \n",
              "564                        206.0                         6862.0   \n",
              "1015                       500.0                         1685.0   \n",
              "1382                      1105.0                        30233.0   \n",
              "1384                        52.0                         1369.0   \n",
              "1390                       520.0                         8555.0   \n",
              "1391                       257.0                        21357.0   \n",
              "1395                       769.0                        12885.0   \n",
              "1402                       226.0                         5655.0   \n",
              "1404                       385.0                         7065.0   \n",
              "1893                        65.0                         3866.0   \n",
              "1899                         2.0                          801.0   \n",
              "2208                        51.0                        17449.0   \n",
              "2403                      1446.0                         6479.0   \n",
              "\n",
              "      HouseholdsTotal    Issuance  stateFIPS  ... % FI > High Threshold  \\\n",
              "52             3502.0    937071.0          2  ...                 0.000   \n",
              "65             4135.0   1176247.0          2  ...                 0.000   \n",
              "67            74620.0  31929385.0          4  ...                 0.515   \n",
              "516           23886.0   6851056.0         34  ...                 0.327   \n",
              "562            3786.0   1027649.0         34  ...                 0.130   \n",
              "564            7068.0   2020932.0         34  ...                 0.364   \n",
              "1015           2185.0    675981.0         44  ...                 0.000   \n",
              "1382          31338.0   3132689.0         70  ...                 0.347   \n",
              "1384           1421.0    372400.0         70  ...                 0.231   \n",
              "1390           9075.0   2770375.0         70  ...                 0.000   \n",
              "1391          21614.0   7597976.0         70  ...                 0.178   \n",
              "1395          13654.0   3812198.0         70  ...                 0.181   \n",
              "1402           5881.0   1615082.0         70  ...                 0.236   \n",
              "1404           7450.0   2112536.0         70  ...                 0.191   \n",
              "1893           3931.0   1455995.0         92  ...                 0.000   \n",
              "1899            803.0    308051.0         92  ...                 0.303   \n",
              "2208          17500.0   5801654.0         96  ...                 0.000   \n",
              "2403           7925.0   1393622.0        108  ...                 0.166   \n",
              "\n",
              "      Child Food Insecurity Rate (1 Year)  \\\n",
              "52                                  0.449   \n",
              "65                                  0.423   \n",
              "67                                  0.115   \n",
              "516                                 0.164   \n",
              "562                                 0.254   \n",
              "564                                 0.124   \n",
              "1015                                0.464   \n",
              "1382                                0.190   \n",
              "1384                                0.218   \n",
              "1390                                0.327   \n",
              "1391                                0.299   \n",
              "1395                                0.219   \n",
              "1402                                0.277   \n",
              "1404                                0.244   \n",
              "1893                                0.314   \n",
              "1899                                0.282   \n",
              "2208                                0.373   \n",
              "2403                                0.315   \n",
              "\n",
              "      # of Food Insecure Children (1 Year)  \\\n",
              "52                                   870.0   \n",
              "65                                  1060.0   \n",
              "67                                   790.0   \n",
              "516                                 1510.0   \n",
              "562                                  290.0   \n",
              "564                                  450.0   \n",
              "1015                                 790.0   \n",
              "1382                                2900.0   \n",
              "1384                                 170.0   \n",
              "1390                                2070.0   \n",
              "1391                                6180.0   \n",
              "1395                                1970.0   \n",
              "1402                                1050.0   \n",
              "1404                                 810.0   \n",
              "1893                                1350.0   \n",
              "1899                                 220.0   \n",
              "2208                                7850.0   \n",
              "2403                                1170.0   \n",
              "\n",
              "      % food insecure children in HH w/ HH incomes below 185 FPL  \\\n",
              "52                                                 0.81            \n",
              "65                                                 0.83            \n",
              "67                                                 0.51            \n",
              "516                                                0.72            \n",
              "562                                                0.75            \n",
              "564                                                0.72            \n",
              "1015                                               0.83            \n",
              "1382                                               0.64            \n",
              "1384                                               0.74            \n",
              "1390                                               0.96            \n",
              "1391                                               0.86            \n",
              "1395                                               0.80            \n",
              "1402                                               0.72            \n",
              "1404                                               0.76            \n",
              "1893                                               1.00            \n",
              "1899                                               0.93            \n",
              "2208                                               0.92            \n",
              "2403                                               0.79            \n",
              "\n",
              "      % food insecure children in HH w/ HH incomes above 185 FPL  \\\n",
              "52                                                 0.19            \n",
              "65                                                 0.18            \n",
              "67                                                 0.49            \n",
              "516                                                0.28            \n",
              "562                                                0.25            \n",
              "564                                                0.28            \n",
              "1015                                               0.17            \n",
              "1382                                               0.37            \n",
              "1384                                               0.26            \n",
              "1390                                               0.04            \n",
              "1391                                               0.14            \n",
              "1395                                               0.20            \n",
              "1402                                               0.28            \n",
              "1404                                               0.24            \n",
              "1893                                               0.00            \n",
              "1899                                               0.07            \n",
              "2208                                               0.08            \n",
              "2403                                               0.21            \n",
              "\n",
              "      Cost Per Meal (1 Year) Weighted weekly $ needed by FI  \\\n",
              "52                      3.28                      17.418113   \n",
              "65                      3.12                      16.563172   \n",
              "67                      3.87                      20.552751   \n",
              "516                     2.92                      15.481723   \n",
              "562                     2.98                      15.837158   \n",
              "564                     2.92                      15.486800   \n",
              "1015                    3.08                      16.371994   \n",
              "1382                    3.24                      17.181023   \n",
              "1384                    3.16                      16.793916   \n",
              "1390                    3.02                      16.014674   \n",
              "1391                    3.01                      15.969428   \n",
              "1395                    3.10                      16.479705   \n",
              "1402                    3.08                      16.341453   \n",
              "1404                    3.28                      17.407254   \n",
              "1893                    3.35                      17.793934   \n",
              "1899                    3.20                      16.961239   \n",
              "2208                    2.72                      14.438595   \n",
              "2403                    3.28                      17.424850   \n",
              "\n",
              "     Weighted Annual Food Budget Shortfall           State  HH_ratio  \n",
              "52                               1104000.0         Alabama  1.115287  \n",
              "65                               1140000.0         Alabama  1.043928  \n",
              "67                               1858000.0          Alaska  5.794378  \n",
              "516                              3405000.0        Illinois  1.138947  \n",
              "562                               394000.0        Illinois  1.846829  \n",
              "564                               855000.0        Illinois  1.082886  \n",
              "1015                              894000.0       Louisiana  1.294431  \n",
              "1382                             3617000.0      New Mexico  1.454335  \n",
              "1384                              265000.0      New Mexico  1.056506  \n",
              "1390                             2361000.0      New Mexico  1.018404  \n",
              "1391                             7867000.0      New Mexico  1.017273  \n",
              "1395                             2659000.0      New Mexico  1.047488  \n",
              "1402                             1552000.0      New Mexico  1.175730  \n",
              "1404                             1336000.0      New Mexico  1.250630  \n",
              "1893                             1468000.0    South Dakota  1.470082  \n",
              "1899                              293000.0    South Dakota  1.036129  \n",
              "2208                             6613000.0           Texas  1.074873  \n",
              "2403                             2098000.0   West Virginia  1.066478  \n",
              "\n",
              "[18 rows x 39 columns]"
            ],
            "text/html": [
              "\n",
              "  <div id=\"df-a6734961-e5b5-4761-b294-e3afa1b1f6cc\">\n",
              "    <div class=\"colab-df-container\">\n",
              "      <div>\n",
              "<style scoped>\n",
              "    .dataframe tbody tr th:only-of-type {\n",
              "        vertical-align: middle;\n",
              "    }\n",
              "\n",
              "    .dataframe tbody tr th {\n",
              "        vertical-align: top;\n",
              "    }\n",
              "\n",
              "    .dataframe thead th {\n",
              "        text-align: right;\n",
              "    }\n",
              "</style>\n",
              "<table border=\"1\" class=\"dataframe\">\n",
              "  <thead>\n",
              "    <tr style=\"text-align: right;\">\n",
              "      <th></th>\n",
              "      <th>countyFIPS</th>\n",
              "      <th>HHCount</th>\n",
              "      <th>PersonsPublic</th>\n",
              "      <th>PersonsNonPublic</th>\n",
              "      <th>PersonsTotal</th>\n",
              "      <th>HouseholdsPublicAssistance</th>\n",
              "      <th>HouseholdsNonPublicAssistance</th>\n",
              "      <th>HouseholdsTotal</th>\n",
              "      <th>Issuance</th>\n",
              "      <th>stateFIPS</th>\n",
              "      <th>...</th>\n",
              "      <th>% FI &gt; High Threshold</th>\n",
              "      <th>Child Food Insecurity Rate (1 Year)</th>\n",
              "      <th># of Food Insecure Children (1 Year)</th>\n",
              "      <th>% food insecure children in HH w/ HH incomes below 185 FPL</th>\n",
              "      <th>% food insecure children in HH w/ HH incomes above 185 FPL</th>\n",
              "      <th>Cost Per Meal (1 Year)</th>\n",
              "      <th>Weighted weekly $ needed by FI</th>\n",
              "      <th>Weighted Annual Food Budget Shortfall</th>\n",
              "      <th>State</th>\n",
              "      <th>HH_ratio</th>\n",
              "    </tr>\n",
              "  </thead>\n",
              "  <tbody>\n",
              "    <tr>\n",
              "      <th>52</th>\n",
              "      <td>1105</td>\n",
              "      <td>3140.0</td>\n",
              "      <td>1449.0</td>\n",
              "      <td>5019.0</td>\n",
              "      <td>6468.0</td>\n",
              "      <td>933.0</td>\n",
              "      <td>2569.0</td>\n",
              "      <td>3502.0</td>\n",
              "      <td>937071.0</td>\n",
              "      <td>2</td>\n",
              "      <td>...</td>\n",
              "      <td>0.000</td>\n",
              "      <td>0.449</td>\n",
              "      <td>870.0</td>\n",
              "      <td>0.81</td>\n",
              "      <td>0.19</td>\n",
              "      <td>3.28</td>\n",
              "      <td>17.418113</td>\n",
              "      <td>1104000.0</td>\n",
              "      <td>Alabama</td>\n",
              "      <td>1.115287</td>\n",
              "    </tr>\n",
              "    <tr>\n",
              "      <th>65</th>\n",
              "      <td>1131</td>\n",
              "      <td>3961.0</td>\n",
              "      <td>1806.0</td>\n",
              "      <td>6284.0</td>\n",
              "      <td>8090.0</td>\n",
              "      <td>1132.0</td>\n",
              "      <td>3003.0</td>\n",
              "      <td>4135.0</td>\n",
              "      <td>1176247.0</td>\n",
              "      <td>2</td>\n",
              "      <td>...</td>\n",
              "      <td>0.000</td>\n",
              "      <td>0.423</td>\n",
              "      <td>1060.0</td>\n",
              "      <td>0.83</td>\n",
              "      <td>0.18</td>\n",
              "      <td>3.12</td>\n",
              "      <td>16.563172</td>\n",
              "      <td>1140000.0</td>\n",
              "      <td>Alabama</td>\n",
              "      <td>1.043928</td>\n",
              "    </tr>\n",
              "    <tr>\n",
              "      <th>67</th>\n",
              "      <td>2110</td>\n",
              "      <td>12878.0</td>\n",
              "      <td>20382.0</td>\n",
              "      <td>146779.0</td>\n",
              "      <td>167161.0</td>\n",
              "      <td>11816.0</td>\n",
              "      <td>62804.0</td>\n",
              "      <td>74620.0</td>\n",
              "      <td>31929385.0</td>\n",
              "      <td>4</td>\n",
              "      <td>...</td>\n",
              "      <td>0.515</td>\n",
              "      <td>0.115</td>\n",
              "      <td>790.0</td>\n",
              "      <td>0.51</td>\n",
              "      <td>0.49</td>\n",
              "      <td>3.87</td>\n",
              "      <td>20.552751</td>\n",
              "      <td>1858000.0</td>\n",
              "      <td>Alaska</td>\n",
              "      <td>5.794378</td>\n",
              "    </tr>\n",
              "    <tr>\n",
              "      <th>516</th>\n",
              "      <td>17029</td>\n",
              "      <td>20972.0</td>\n",
              "      <td>1938.0</td>\n",
              "      <td>44919.0</td>\n",
              "      <td>46857.0</td>\n",
              "      <td>729.0</td>\n",
              "      <td>23157.0</td>\n",
              "      <td>23886.0</td>\n",
              "      <td>6851056.0</td>\n",
              "      <td>34</td>\n",
              "      <td>...</td>\n",
              "      <td>0.327</td>\n",
              "      <td>0.164</td>\n",
              "      <td>1510.0</td>\n",
              "      <td>0.72</td>\n",
              "      <td>0.28</td>\n",
              "      <td>2.92</td>\n",
              "      <td>15.481723</td>\n",
              "      <td>3405000.0</td>\n",
              "      <td>Illinois</td>\n",
              "      <td>1.138947</td>\n",
              "    </tr>\n",
              "    <tr>\n",
              "      <th>562</th>\n",
              "      <td>17153</td>\n",
              "      <td>2050.0</td>\n",
              "      <td>686.0</td>\n",
              "      <td>6131.0</td>\n",
              "      <td>6817.0</td>\n",
              "      <td>335.0</td>\n",
              "      <td>3451.0</td>\n",
              "      <td>3786.0</td>\n",
              "      <td>1027649.0</td>\n",
              "      <td>34</td>\n",
              "      <td>...</td>\n",
              "      <td>0.130</td>\n",
              "      <td>0.254</td>\n",
              "      <td>290.0</td>\n",
              "      <td>0.75</td>\n",
              "      <td>0.25</td>\n",
              "      <td>2.98</td>\n",
              "      <td>15.837158</td>\n",
              "      <td>394000.0</td>\n",
              "      <td>Illinois</td>\n",
              "      <td>1.846829</td>\n",
              "    </tr>\n",
              "    <tr>\n",
              "      <th>564</th>\n",
              "      <td>17159</td>\n",
              "      <td>6527.0</td>\n",
              "      <td>512.0</td>\n",
              "      <td>13521.0</td>\n",
              "      <td>14033.0</td>\n",
              "      <td>206.0</td>\n",
              "      <td>6862.0</td>\n",
              "      <td>7068.0</td>\n",
              "      <td>2020932.0</td>\n",
              "      <td>34</td>\n",
              "      <td>...</td>\n",
              "      <td>0.364</td>\n",
              "      <td>0.124</td>\n",
              "      <td>450.0</td>\n",
              "      <td>0.72</td>\n",
              "      <td>0.28</td>\n",
              "      <td>2.92</td>\n",
              "      <td>15.486800</td>\n",
              "      <td>855000.0</td>\n",
              "      <td>Illinois</td>\n",
              "      <td>1.082886</td>\n",
              "    </tr>\n",
              "    <tr>\n",
              "      <th>1015</th>\n",
              "      <td>22035</td>\n",
              "      <td>1688.0</td>\n",
              "      <td>531.0</td>\n",
              "      <td>4066.0</td>\n",
              "      <td>4597.0</td>\n",
              "      <td>500.0</td>\n",
              "      <td>1685.0</td>\n",
              "      <td>2185.0</td>\n",
              "      <td>675981.0</td>\n",
              "      <td>44</td>\n",
              "      <td>...</td>\n",
              "      <td>0.000</td>\n",
              "      <td>0.464</td>\n",
              "      <td>790.0</td>\n",
              "      <td>0.83</td>\n",
              "      <td>0.17</td>\n",
              "      <td>3.08</td>\n",
              "      <td>16.371994</td>\n",
              "      <td>894000.0</td>\n",
              "      <td>Louisiana</td>\n",
              "      <td>1.294431</td>\n",
              "    </tr>\n",
              "    <tr>\n",
              "      <th>1382</th>\n",
              "      <td>35015</td>\n",
              "      <td>21548.0</td>\n",
              "      <td>1749.0</td>\n",
              "      <td>48745.0</td>\n",
              "      <td>50494.0</td>\n",
              "      <td>1105.0</td>\n",
              "      <td>30233.0</td>\n",
              "      <td>31338.0</td>\n",
              "      <td>3132689.0</td>\n",
              "      <td>70</td>\n",
              "      <td>...</td>\n",
              "      <td>0.347</td>\n",
              "      <td>0.190</td>\n",
              "      <td>2900.0</td>\n",
              "      <td>0.64</td>\n",
              "      <td>0.37</td>\n",
              "      <td>3.24</td>\n",
              "      <td>17.181023</td>\n",
              "      <td>3617000.0</td>\n",
              "      <td>New Mexico</td>\n",
              "      <td>1.454335</td>\n",
              "    </tr>\n",
              "    <tr>\n",
              "      <th>1384</th>\n",
              "      <td>35019</td>\n",
              "      <td>1345.0</td>\n",
              "      <td>141.0</td>\n",
              "      <td>2527.0</td>\n",
              "      <td>2668.0</td>\n",
              "      <td>52.0</td>\n",
              "      <td>1369.0</td>\n",
              "      <td>1421.0</td>\n",
              "      <td>372400.0</td>\n",
              "      <td>70</td>\n",
              "      <td>...</td>\n",
              "      <td>0.231</td>\n",
              "      <td>0.218</td>\n",
              "      <td>170.0</td>\n",
              "      <td>0.74</td>\n",
              "      <td>0.26</td>\n",
              "      <td>3.16</td>\n",
              "      <td>16.793916</td>\n",
              "      <td>265000.0</td>\n",
              "      <td>New Mexico</td>\n",
              "      <td>1.056506</td>\n",
              "    </tr>\n",
              "    <tr>\n",
              "      <th>1390</th>\n",
              "      <td>35029</td>\n",
              "      <td>8911.0</td>\n",
              "      <td>1499.0</td>\n",
              "      <td>17648.0</td>\n",
              "      <td>19147.0</td>\n",
              "      <td>520.0</td>\n",
              "      <td>8555.0</td>\n",
              "      <td>9075.0</td>\n",
              "      <td>2770375.0</td>\n",
              "      <td>70</td>\n",
              "      <td>...</td>\n",
              "      <td>0.000</td>\n",
              "      <td>0.327</td>\n",
              "      <td>2070.0</td>\n",
              "      <td>0.96</td>\n",
              "      <td>0.04</td>\n",
              "      <td>3.02</td>\n",
              "      <td>16.014674</td>\n",
              "      <td>2361000.0</td>\n",
              "      <td>New Mexico</td>\n",
              "      <td>1.018404</td>\n",
              "    </tr>\n",
              "    <tr>\n",
              "      <th>1391</th>\n",
              "      <td>35031</td>\n",
              "      <td>21247.0</td>\n",
              "      <td>593.0</td>\n",
              "      <td>52902.0</td>\n",
              "      <td>53495.0</td>\n",
              "      <td>257.0</td>\n",
              "      <td>21357.0</td>\n",
              "      <td>21614.0</td>\n",
              "      <td>7597976.0</td>\n",
              "      <td>70</td>\n",
              "      <td>...</td>\n",
              "      <td>0.178</td>\n",
              "      <td>0.299</td>\n",
              "      <td>6180.0</td>\n",
              "      <td>0.86</td>\n",
              "      <td>0.14</td>\n",
              "      <td>3.01</td>\n",
              "      <td>15.969428</td>\n",
              "      <td>7867000.0</td>\n",
              "      <td>New Mexico</td>\n",
              "      <td>1.017273</td>\n",
              "    </tr>\n",
              "    <tr>\n",
              "      <th>1395</th>\n",
              "      <td>35039</td>\n",
              "      <td>13035.0</td>\n",
              "      <td>2095.0</td>\n",
              "      <td>22911.0</td>\n",
              "      <td>25006.0</td>\n",
              "      <td>769.0</td>\n",
              "      <td>12885.0</td>\n",
              "      <td>13654.0</td>\n",
              "      <td>3812198.0</td>\n",
              "      <td>70</td>\n",
              "      <td>...</td>\n",
              "      <td>0.181</td>\n",
              "      <td>0.219</td>\n",
              "      <td>1970.0</td>\n",
              "      <td>0.80</td>\n",
              "      <td>0.20</td>\n",
              "      <td>3.10</td>\n",
              "      <td>16.479705</td>\n",
              "      <td>2659000.0</td>\n",
              "      <td>New Mexico</td>\n",
              "      <td>1.047488</td>\n",
              "    </tr>\n",
              "    <tr>\n",
              "      <th>1402</th>\n",
              "      <td>35053</td>\n",
              "      <td>5002.0</td>\n",
              "      <td>546.0</td>\n",
              "      <td>10557.0</td>\n",
              "      <td>11103.0</td>\n",
              "      <td>226.0</td>\n",
              "      <td>5655.0</td>\n",
              "      <td>5881.0</td>\n",
              "      <td>1615082.0</td>\n",
              "      <td>70</td>\n",
              "      <td>...</td>\n",
              "      <td>0.236</td>\n",
              "      <td>0.277</td>\n",
              "      <td>1050.0</td>\n",
              "      <td>0.72</td>\n",
              "      <td>0.28</td>\n",
              "      <td>3.08</td>\n",
              "      <td>16.341453</td>\n",
              "      <td>1552000.0</td>\n",
              "      <td>New Mexico</td>\n",
              "      <td>1.175730</td>\n",
              "    </tr>\n",
              "    <tr>\n",
              "      <th>1404</th>\n",
              "      <td>35057</td>\n",
              "      <td>5957.0</td>\n",
              "      <td>1082.0</td>\n",
              "      <td>13293.0</td>\n",
              "      <td>14375.0</td>\n",
              "      <td>385.0</td>\n",
              "      <td>7065.0</td>\n",
              "      <td>7450.0</td>\n",
              "      <td>2112536.0</td>\n",
              "      <td>70</td>\n",
              "      <td>...</td>\n",
              "      <td>0.191</td>\n",
              "      <td>0.244</td>\n",
              "      <td>810.0</td>\n",
              "      <td>0.76</td>\n",
              "      <td>0.24</td>\n",
              "      <td>3.28</td>\n",
              "      <td>17.407254</td>\n",
              "      <td>1336000.0</td>\n",
              "      <td>New Mexico</td>\n",
              "      <td>1.250630</td>\n",
              "    </tr>\n",
              "    <tr>\n",
              "      <th>1893</th>\n",
              "      <td>46121</td>\n",
              "      <td>2674.0</td>\n",
              "      <td>260.0</td>\n",
              "      <td>9162.0</td>\n",
              "      <td>9422.0</td>\n",
              "      <td>65.0</td>\n",
              "      <td>3866.0</td>\n",
              "      <td>3931.0</td>\n",
              "      <td>1455995.0</td>\n",
              "      <td>92</td>\n",
              "      <td>...</td>\n",
              "      <td>0.000</td>\n",
              "      <td>0.314</td>\n",
              "      <td>1350.0</td>\n",
              "      <td>1.00</td>\n",
              "      <td>0.00</td>\n",
              "      <td>3.35</td>\n",
              "      <td>17.793934</td>\n",
              "      <td>1468000.0</td>\n",
              "      <td>South Dakota</td>\n",
              "      <td>1.470082</td>\n",
              "    </tr>\n",
              "    <tr>\n",
              "      <th>1899</th>\n",
              "      <td>46137</td>\n",
              "      <td>775.0</td>\n",
              "      <td>11.0</td>\n",
              "      <td>1975.0</td>\n",
              "      <td>1986.0</td>\n",
              "      <td>2.0</td>\n",
              "      <td>801.0</td>\n",
              "      <td>803.0</td>\n",
              "      <td>308051.0</td>\n",
              "      <td>92</td>\n",
              "      <td>...</td>\n",
              "      <td>0.303</td>\n",
              "      <td>0.282</td>\n",
              "      <td>220.0</td>\n",
              "      <td>0.93</td>\n",
              "      <td>0.07</td>\n",
              "      <td>3.20</td>\n",
              "      <td>16.961239</td>\n",
              "      <td>293000.0</td>\n",
              "      <td>South Dakota</td>\n",
              "      <td>1.036129</td>\n",
              "    </tr>\n",
              "    <tr>\n",
              "      <th>2208</th>\n",
              "      <td>48427</td>\n",
              "      <td>16281.0</td>\n",
              "      <td>158.0</td>\n",
              "      <td>40296.0</td>\n",
              "      <td>40454.0</td>\n",
              "      <td>51.0</td>\n",
              "      <td>17449.0</td>\n",
              "      <td>17500.0</td>\n",
              "      <td>5801654.0</td>\n",
              "      <td>96</td>\n",
              "      <td>...</td>\n",
              "      <td>0.000</td>\n",
              "      <td>0.373</td>\n",
              "      <td>7850.0</td>\n",
              "      <td>0.92</td>\n",
              "      <td>0.08</td>\n",
              "      <td>2.72</td>\n",
              "      <td>14.438595</td>\n",
              "      <td>6613000.0</td>\n",
              "      <td>Texas</td>\n",
              "      <td>1.074873</td>\n",
              "    </tr>\n",
              "    <tr>\n",
              "      <th>2403</th>\n",
              "      <td>54047</td>\n",
              "      <td>7431.0</td>\n",
              "      <td>3274.0</td>\n",
              "      <td>10278.0</td>\n",
              "      <td>13552.0</td>\n",
              "      <td>1446.0</td>\n",
              "      <td>6479.0</td>\n",
              "      <td>7925.0</td>\n",
              "      <td>1393622.0</td>\n",
              "      <td>108</td>\n",
              "      <td>...</td>\n",
              "      <td>0.166</td>\n",
              "      <td>0.315</td>\n",
              "      <td>1170.0</td>\n",
              "      <td>0.79</td>\n",
              "      <td>0.21</td>\n",
              "      <td>3.28</td>\n",
              "      <td>17.424850</td>\n",
              "      <td>2098000.0</td>\n",
              "      <td>West Virginia</td>\n",
              "      <td>1.066478</td>\n",
              "    </tr>\n",
              "  </tbody>\n",
              "</table>\n",
              "<p>18 rows × 39 columns</p>\n",
              "</div>\n",
              "      <button class=\"colab-df-convert\" onclick=\"convertToInteractive('df-a6734961-e5b5-4761-b294-e3afa1b1f6cc')\"\n",
              "              title=\"Convert this dataframe to an interactive table.\"\n",
              "              style=\"display:none;\">\n",
              "        \n",
              "  <svg xmlns=\"http://www.w3.org/2000/svg\" height=\"24px\"viewBox=\"0 0 24 24\"\n",
              "       width=\"24px\">\n",
              "    <path d=\"M0 0h24v24H0V0z\" fill=\"none\"/>\n",
              "    <path d=\"M18.56 5.44l.94 2.06.94-2.06 2.06-.94-2.06-.94-.94-2.06-.94 2.06-2.06.94zm-11 1L8.5 8.5l.94-2.06 2.06-.94-2.06-.94L8.5 2.5l-.94 2.06-2.06.94zm10 10l.94 2.06.94-2.06 2.06-.94-2.06-.94-.94-2.06-.94 2.06-2.06.94z\"/><path d=\"M17.41 7.96l-1.37-1.37c-.4-.4-.92-.59-1.43-.59-.52 0-1.04.2-1.43.59L10.3 9.45l-7.72 7.72c-.78.78-.78 2.05 0 2.83L4 21.41c.39.39.9.59 1.41.59.51 0 1.02-.2 1.41-.59l7.78-7.78 2.81-2.81c.8-.78.8-2.07 0-2.86zM5.41 20L4 18.59l7.72-7.72 1.47 1.35L5.41 20z\"/>\n",
              "  </svg>\n",
              "      </button>\n",
              "      \n",
              "  <style>\n",
              "    .colab-df-container {\n",
              "      display:flex;\n",
              "      flex-wrap:wrap;\n",
              "      gap: 12px;\n",
              "    }\n",
              "\n",
              "    .colab-df-convert {\n",
              "      background-color: #E8F0FE;\n",
              "      border: none;\n",
              "      border-radius: 50%;\n",
              "      cursor: pointer;\n",
              "      display: none;\n",
              "      fill: #1967D2;\n",
              "      height: 32px;\n",
              "      padding: 0 0 0 0;\n",
              "      width: 32px;\n",
              "    }\n",
              "\n",
              "    .colab-df-convert:hover {\n",
              "      background-color: #E2EBFA;\n",
              "      box-shadow: 0px 1px 2px rgba(60, 64, 67, 0.3), 0px 1px 3px 1px rgba(60, 64, 67, 0.15);\n",
              "      fill: #174EA6;\n",
              "    }\n",
              "\n",
              "    [theme=dark] .colab-df-convert {\n",
              "      background-color: #3B4455;\n",
              "      fill: #D2E3FC;\n",
              "    }\n",
              "\n",
              "    [theme=dark] .colab-df-convert:hover {\n",
              "      background-color: #434B5C;\n",
              "      box-shadow: 0px 1px 3px 1px rgba(0, 0, 0, 0.15);\n",
              "      filter: drop-shadow(0px 1px 2px rgba(0, 0, 0, 0.3));\n",
              "      fill: #FFFFFF;\n",
              "    }\n",
              "  </style>\n",
              "\n",
              "      <script>\n",
              "        const buttonEl =\n",
              "          document.querySelector('#df-a6734961-e5b5-4761-b294-e3afa1b1f6cc button.colab-df-convert');\n",
              "        buttonEl.style.display =\n",
              "          google.colab.kernel.accessAllowed ? 'block' : 'none';\n",
              "\n",
              "        async function convertToInteractive(key) {\n",
              "          const element = document.querySelector('#df-a6734961-e5b5-4761-b294-e3afa1b1f6cc');\n",
              "          const dataTable =\n",
              "            await google.colab.kernel.invokeFunction('convertToInteractive',\n",
              "                                                     [key], {});\n",
              "          if (!dataTable) return;\n",
              "\n",
              "          const docLinkHtml = 'Like what you see? Visit the ' +\n",
              "            '<a target=\"_blank\" href=https://colab.research.google.com/notebooks/data_table.ipynb>data table notebook</a>'\n",
              "            + ' to learn more about interactive tables.';\n",
              "          element.innerHTML = '';\n",
              "          dataTable['output_type'] = 'display_data';\n",
              "          await google.colab.output.renderOutput(dataTable, element);\n",
              "          const docLink = document.createElement('div');\n",
              "          docLink.innerHTML = docLinkHtml;\n",
              "          element.appendChild(docLink);\n",
              "        }\n",
              "      </script>\n",
              "    </div>\n",
              "  </div>\n",
              "  "
            ]
          },
          "metadata": {},
          "execution_count": 36
        }
      ]
    },
    {
      "cell_type": "code",
      "source": [
        "# Drop extreme outliers\n",
        "indexdrop = \\\n",
        "     census_map_svi_snap.loc[(census_map_svi_snap['HH_ratio'] < (census_map_svi_snap['HH_ratio'].mean() - 3 * census_map_svi_snap['HH_ratio'].std())) \\\n",
        "                             | (census_map_svi_snap['HH_ratio'] > (census_map_svi_snap['HH_ratio'].mean() + 3 * census_map_svi_snap['HH_ratio'].std()))].index\n",
        "\n",
        "census_map_svi_snap.drop(index=indexdrop, inplace = True)"
      ],
      "metadata": {
        "id": "KIxglzQx5esQ"
      },
      "execution_count": null,
      "outputs": []
    },
    {
      "cell_type": "code",
      "source": [
        "# histogram after removing extreme outliers\n",
        "sns.histplot(census_map_svi_snap['HH_ratio'], bins='auto')"
      ],
      "metadata": {
        "id": "8qqvtcRDkaRC",
        "colab": {
          "base_uri": "https://localhost:8080/",
          "height": 297
        },
        "outputId": "1e64ea74-28a1-4b26-e8a2-d00e136bfbdc"
      },
      "execution_count": null,
      "outputs": [
        {
          "output_type": "execute_result",
          "data": {
            "text/plain": [
              "<matplotlib.axes._subplots.AxesSubplot at 0x7feaaca54d60>"
            ]
          },
          "metadata": {},
          "execution_count": 38
        },
        {
          "output_type": "display_data",
          "data": {
            "text/plain": [
              "<Figure size 432x288 with 1 Axes>"
            ],
            "image/png": "[encoded data removed]"
          },
          "metadata": {
            "needs_background": "light"
          }
        }
      ]
    },
    {
      "cell_type": "code",
      "source": [
        "# histogram of the RPL columns\n",
        "for theme in ['RPL_THEME1','RPL_THEME2','RPL_THEME3','RPL_THEME4','RPL_THEMES']:\n",
        "     sns.histplot(data = census_map_svi_snap[theme], bins='auto')\n",
        "     plt.show()     "
      ],
      "metadata": {
        "colab": {
          "base_uri": "https://localhost:8080/",
          "height": 1000
        },
        "id": "h1hTTQtlnJb5",
        "outputId": "00567673-fe21-45bd-d8ca-01dc44ed35ea"
      },
      "execution_count": null,
      "outputs": [
        {
          "output_type": "display_data",
          "data": {
            "text/plain": [
              "<Figure size 432x288 with 1 Axes>"
            ],
            "image/png": "[encoded data removed]"
          },
          "metadata": {
            "needs_background": "light"
          }
        },
        {
          "output_type": "display_data",
          "data": {
            "text/plain": [
              "<Figure size 432x288 with 1 Axes>"
            ],
            "image/png": "[encoded data removed]"
          },
          "metadata": {
            "needs_background": "light"
          }
        },
        {
          "output_type": "display_data",
          "data": {
            "text/plain": [
              "<Figure size 432x288 with 1 Axes>"
            ],
            "image/png": "[encoded data removed]"
          },
          "metadata": {
            "needs_background": "light"
          }
        },
        {
          "output_type": "display_data",
          "data": {
            "text/plain": [
              "<Figure size 432x288 with 1 Axes>"
            ],
            "image/png": "[encoded data removed]"
          },
          "metadata": {
            "needs_background": "light"
          }
        },
        {
          "output_type": "display_data",
          "data": {
            "text/plain": [
              "<Figure size 432x288 with 1 Axes>"
            ],
            "image/png": "[encoded data removed]"
          },
          "metadata": {
            "needs_background": "light"
          }
        }
      ]
    },
    {
      "cell_type": "code",
      "source": [
        "# scatter plots\n",
        "y = census_map_svi_snap['HH_ratio']\n",
        "\n",
        "for theme in ['1','2','3','4','S']:\n",
        "      x = census_map_svi_snap['RPL_THEME' + theme]\n",
        "      plt.scatter(x, y)\n",
        "      plt.xlabel('SVI measures - RPL_THEME_' + theme)\n",
        "      plt.ylabel('SNAP benefit uptake')\n",
        "      plt.show()"
      ],
      "metadata": {
        "colab": {
          "base_uri": "https://localhost:8080/",
          "height": 1000
        },
        "id": "fZC_YQG7_I65",
        "outputId": "69d4bb83-0da1-4ede-8c94-745b1cbd1f81"
      },
      "execution_count": null,
      "outputs": [
        {
          "output_type": "display_data",
          "data": {
            "text/plain": [
              "<Figure size 432x288 with 1 Axes>"
            ],
            "image/png": "[encoded data removed]"
          },
          "metadata": {
            "needs_background": "light"
          }
        },
        {
          "output_type": "display_data",
          "data": {
            "text/plain": [
              "<Figure size 432x288 with 1 Axes>"
            ],
            "image/png": "[encoded data removed]"
          },
          "metadata": {
            "needs_background": "light"
          }
        },
        {
          "output_type": "display_data",
          "data": {
            "text/plain": [
              "<Figure size 432x288 with 1 Axes>"
            ],
            "image/png": "[encoded data removed]"
          },
          "metadata": {
            "needs_background": "light"
          }
        },
        {
          "output_type": "display_data",
          "data": {
            "text/plain": [
              "<Figure size 432x288 with 1 Axes>"
            ],
            "image/png": "[encoded data removed]"
          },
          "metadata": {
            "needs_background": "light"
          }
        },
        {
          "output_type": "display_data",
          "data": {
            "text/plain": [
              "<Figure size 432x288 with 1 Axes>"
            ],
            "image/png": "[encoded data removed]"
          },
          "metadata": {
            "needs_background": "light"
          }
        }
      ]
    },
    {
      "cell_type": "markdown",
      "source": [
        "Spearman Correlation Coefficient (pandas corr) of Theme and HH_ratio columns"
      ],
      "metadata": {
        "id": "X8x3Py1OVo-s"
      }
    },
    {
      "cell_type": "code",
      "source": [
        "spearman_coeff_rt1 = census_map_svi_snap[\"RPL_THEME1\"].corr(census_map_svi_snap['HH_ratio'], method=\"spearman\") \n",
        "spearman_coeff_rt1"
      ],
      "metadata": {
        "colab": {
          "base_uri": "https://localhost:8080/"
        },
        "id": "T7VxgWAlGjRG",
        "outputId": "55a571b6-7d86-48af-f28e-d83bc5ce4fa4"
      },
      "execution_count": 90,
      "outputs": [
        {
          "output_type": "execute_result",
          "data": {
            "text/plain": [
              "0.7540008091547197"
            ]
          },
          "metadata": {},
          "execution_count": 90
        }
      ]
    },
    {
      "cell_type": "code",
      "source": [
        "spearman_coeff_rt2 = census_map_svi_snap[\"RPL_THEME2\"].corr(census_map_svi_snap['HH_ratio'], method=\"spearman\") \n",
        "spearman_coeff_rt2"
      ],
      "metadata": {
        "colab": {
          "base_uri": "https://localhost:8080/"
        },
        "id": "NEhyB9yRI4DU",
        "outputId": "b1eef7da-0fce-4422-be0a-0bee22d4d72a"
      },
      "execution_count": 91,
      "outputs": [
        {
          "output_type": "execute_result",
          "data": {
            "text/plain": [
              "0.4566392671272811"
            ]
          },
          "metadata": {},
          "execution_count": 91
        }
      ]
    },
    {
      "cell_type": "code",
      "source": [
        "spearman_coeff_rt3 = census_map_svi_snap[\"RPL_THEME3\"].corr(census_map_svi_snap['HH_ratio'], method=\"spearman\") \n",
        "spearman_coeff_rt3"
      ],
      "metadata": {
        "colab": {
          "base_uri": "https://localhost:8080/"
        },
        "id": "5Yz-_-6FI4Q_",
        "outputId": "82faf98b-28c1-4335-ab1c-14d7e4a13113"
      },
      "execution_count": 92,
      "outputs": [
        {
          "output_type": "execute_result",
          "data": {
            "text/plain": [
              "0.4152348287181813"
            ]
          },
          "metadata": {},
          "execution_count": 92
        }
      ]
    },
    {
      "cell_type": "code",
      "source": [
        "spearman_coeff_rt4 = census_map_svi_snap[\"RPL_THEME4\"].corr(census_map_svi_snap['HH_ratio'], method=\"spearman\") \n",
        "spearman_coeff_rt4"
      ],
      "metadata": {
        "colab": {
          "base_uri": "https://localhost:8080/"
        },
        "id": "13bO1XLSI46X",
        "outputId": "bb696524-dba5-488c-dce3-d16cfa84be14"
      },
      "execution_count": 93,
      "outputs": [
        {
          "output_type": "execute_result",
          "data": {
            "text/plain": [
              "0.5413386366559463"
            ]
          },
          "metadata": {},
          "execution_count": 93
        }
      ]
    },
    {
      "cell_type": "code",
      "source": [
        "spearman_coeff_rts = census_map_svi_snap[\"RPL_THEMES\"].corr(census_map_svi_snap['HH_ratio'], method=\"spearman\") \n",
        "spearman_coeff_rts"
      ],
      "metadata": {
        "id": "s9aM9ghQZ-gW",
        "colab": {
          "base_uri": "https://localhost:8080/"
        },
        "outputId": "12fe32f2-3b34-4ad0-c73f-9d813dee5fb0"
      },
      "execution_count": 94,
      "outputs": [
        {
          "output_type": "execute_result",
          "data": {
            "text/plain": [
              "0.7312442468191644"
            ]
          },
          "metadata": {},
          "execution_count": 94
        }
      ]
    },
    {
      "cell_type": "markdown",
      "source": [
        "Pearson Correlation Coefficient (numpy corrcoef)\n",
        "\n",
        "\n"
      ],
      "metadata": {
        "id": "F4mDCK1KV0bI"
      }
    },
    {
      "cell_type": "code",
      "source": [
        "np.corrcoef(x,y)"
      ],
      "metadata": {
        "colab": {
          "base_uri": "https://localhost:8080/"
        },
        "id": "JxRE1yN2mwdg",
        "outputId": "50607291-628d-4cad-fd0a-d10f8cc4ccbe"
      },
      "execution_count": null,
      "outputs": [
        {
          "output_type": "execute_result",
          "data": {
            "text/plain": [
              "array([[1.        , 0.68526503],\n",
              "       [0.68526503, 1.        ]])"
            ]
          },
          "metadata": {},
          "execution_count": 46
        }
      ]
    },
    {
      "cell_type": "markdown",
      "source": [
        "### Check regression to see how they predict together - linear coefficients with their statistical significance."
      ],
      "metadata": {
        "id": "A9RmFnCIRiRM"
      }
    },
    {
      "cell_type": "code",
      "source": [
        "# subset of the final dataframe\n",
        "cmss_subset = census_map_svi_snap[['Issuance','HH_ratio','Overall Food Insecurity Rate (1 Year)','RPL_THEMES']]"
      ],
      "metadata": {
        "id": "8B3xR-MtWhw5"
      },
      "execution_count": 95,
      "outputs": []
    },
    {
      "cell_type": "code",
      "source": [
        "# correlation of dataframe\n",
        "corr_mat = cmss_subset.corr().sort_values(by=['HH_ratio', 'RPL_THEMES'])\n",
        "corr_mat "
      ],
      "metadata": {
        "colab": {
          "base_uri": "https://localhost:8080/",
          "height": 175
        },
        "id": "3pMKWibAII3T",
        "outputId": "e0be0bce-0f03-48ee-c726-58884528511b"
      },
      "execution_count": 107,
      "outputs": [
        {
          "output_type": "execute_result",
          "data": {
            "text/plain": [
              "                                       Issuance  HH_ratio  \\\n",
              "Issuance                               1.000000  0.101968   \n",
              "Overall Food Insecurity Rate (1 Year)  0.001833  0.563706   \n",
              "RPL_THEMES                             0.161450  0.572049   \n",
              "HH_ratio                               0.101968  1.000000   \n",
              "\n",
              "                                       Overall Food Insecurity Rate (1 Year)  \\\n",
              "Issuance                                                            0.001833   \n",
              "Overall Food Insecurity Rate (1 Year)                               1.000000   \n",
              "RPL_THEMES                                                          0.688764   \n",
              "HH_ratio                                                            0.563706   \n",
              "\n",
              "                                       RPL_THEMES  \n",
              "Issuance                                 0.161450  \n",
              "Overall Food Insecurity Rate (1 Year)    0.688764  \n",
              "RPL_THEMES                               1.000000  \n",
              "HH_ratio                                 0.572049  "
            ],
            "text/html": [
              "\n",
              "  <div id=\"df-735b4af2-5f38-46d6-8390-c02caf565e62\">\n",
              "    <div class=\"colab-df-container\">\n",
              "      <div>\n",
              "<style scoped>\n",
              "    .dataframe tbody tr th:only-of-type {\n",
              "        vertical-align: middle;\n",
              "    }\n",
              "\n",
              "    .dataframe tbody tr th {\n",
              "        vertical-align: top;\n",
              "    }\n",
              "\n",
              "    .dataframe thead th {\n",
              "        text-align: right;\n",
              "    }\n",
              "</style>\n",
              "<table border=\"1\" class=\"dataframe\">\n",
              "  <thead>\n",
              "    <tr style=\"text-align: right;\">\n",
              "      <th></th>\n",
              "      <th>Issuance</th>\n",
              "      <th>HH_ratio</th>\n",
              "      <th>Overall Food Insecurity Rate (1 Year)</th>\n",
              "      <th>RPL_THEMES</th>\n",
              "    </tr>\n",
              "  </thead>\n",
              "  <tbody>\n",
              "    <tr>\n",
              "      <th>Issuance</th>\n",
              "      <td>1.000000</td>\n",
              "      <td>0.101968</td>\n",
              "      <td>0.001833</td>\n",
              "      <td>0.161450</td>\n",
              "    </tr>\n",
              "    <tr>\n",
              "      <th>Overall Food Insecurity Rate (1 Year)</th>\n",
              "      <td>0.001833</td>\n",
              "      <td>0.563706</td>\n",
              "      <td>1.000000</td>\n",
              "      <td>0.688764</td>\n",
              "    </tr>\n",
              "    <tr>\n",
              "      <th>RPL_THEMES</th>\n",
              "      <td>0.161450</td>\n",
              "      <td>0.572049</td>\n",
              "      <td>0.688764</td>\n",
              "      <td>1.000000</td>\n",
              "    </tr>\n",
              "    <tr>\n",
              "      <th>HH_ratio</th>\n",
              "      <td>0.101968</td>\n",
              "      <td>1.000000</td>\n",
              "      <td>0.563706</td>\n",
              "      <td>0.572049</td>\n",
              "    </tr>\n",
              "  </tbody>\n",
              "</table>\n",
              "</div>\n",
              "      <button class=\"colab-df-convert\" onclick=\"convertToInteractive('df-735b4af2-5f38-46d6-8390-c02caf565e62')\"\n",
              "              title=\"Convert this dataframe to an interactive table.\"\n",
              "              style=\"display:none;\">\n",
              "        \n",
              "  <svg xmlns=\"http://www.w3.org/2000/svg\" height=\"24px\"viewBox=\"0 0 24 24\"\n",
              "       width=\"24px\">\n",
              "    <path d=\"M0 0h24v24H0V0z\" fill=\"none\"/>\n",
              "    <path d=\"M18.56 5.44l.94 2.06.94-2.06 2.06-.94-2.06-.94-.94-2.06-.94 2.06-2.06.94zm-11 1L8.5 8.5l.94-2.06 2.06-.94-2.06-.94L8.5 2.5l-.94 2.06-2.06.94zm10 10l.94 2.06.94-2.06 2.06-.94-2.06-.94-.94-2.06-.94 2.06-2.06.94z\"/><path d=\"M17.41 7.96l-1.37-1.37c-.4-.4-.92-.59-1.43-.59-.52 0-1.04.2-1.43.59L10.3 9.45l-7.72 7.72c-.78.78-.78 2.05 0 2.83L4 21.41c.39.39.9.59 1.41.59.51 0 1.02-.2 1.41-.59l7.78-7.78 2.81-2.81c.8-.78.8-2.07 0-2.86zM5.41 20L4 18.59l7.72-7.72 1.47 1.35L5.41 20z\"/>\n",
              "  </svg>\n",
              "      </button>\n",
              "      \n",
              "  <style>\n",
              "    .colab-df-container {\n",
              "      display:flex;\n",
              "      flex-wrap:wrap;\n",
              "      gap: 12px;\n",
              "    }\n",
              "\n",
              "    .colab-df-convert {\n",
              "      background-color: #E8F0FE;\n",
              "      border: none;\n",
              "      border-radius: 50%;\n",
              "      cursor: pointer;\n",
              "      display: none;\n",
              "      fill: #1967D2;\n",
              "      height: 32px;\n",
              "      padding: 0 0 0 0;\n",
              "      width: 32px;\n",
              "    }\n",
              "\n",
              "    .colab-df-convert:hover {\n",
              "      background-color: #E2EBFA;\n",
              "      box-shadow: 0px 1px 2px rgba(60, 64, 67, 0.3), 0px 1px 3px 1px rgba(60, 64, 67, 0.15);\n",
              "      fill: #174EA6;\n",
              "    }\n",
              "\n",
              "    [theme=dark] .colab-df-convert {\n",
              "      background-color: #3B4455;\n",
              "      fill: #D2E3FC;\n",
              "    }\n",
              "\n",
              "    [theme=dark] .colab-df-convert:hover {\n",
              "      background-color: #434B5C;\n",
              "      box-shadow: 0px 1px 3px 1px rgba(0, 0, 0, 0.15);\n",
              "      filter: drop-shadow(0px 1px 2px rgba(0, 0, 0, 0.3));\n",
              "      fill: #FFFFFF;\n",
              "    }\n",
              "  </style>\n",
              "\n",
              "      <script>\n",
              "        const buttonEl =\n",
              "          document.querySelector('#df-735b4af2-5f38-46d6-8390-c02caf565e62 button.colab-df-convert');\n",
              "        buttonEl.style.display =\n",
              "          google.colab.kernel.accessAllowed ? 'block' : 'none';\n",
              "\n",
              "        async function convertToInteractive(key) {\n",
              "          const element = document.querySelector('#df-735b4af2-5f38-46d6-8390-c02caf565e62');\n",
              "          const dataTable =\n",
              "            await google.colab.kernel.invokeFunction('convertToInteractive',\n",
              "                                                     [key], {});\n",
              "          if (!dataTable) return;\n",
              "\n",
              "          const docLinkHtml = 'Like what you see? Visit the ' +\n",
              "            '<a target=\"_blank\" href=https://colab.research.google.com/notebooks/data_table.ipynb>data table notebook</a>'\n",
              "            + ' to learn more about interactive tables.';\n",
              "          element.innerHTML = '';\n",
              "          dataTable['output_type'] = 'display_data';\n",
              "          await google.colab.output.renderOutput(dataTable, element);\n",
              "          const docLink = document.createElement('div');\n",
              "          docLink.innerHTML = docLinkHtml;\n",
              "          element.appendChild(docLink);\n",
              "        }\n",
              "      </script>\n",
              "    </div>\n",
              "  </div>\n",
              "  "
            ]
          },
          "metadata": {},
          "execution_count": 107
        }
      ]
    },
    {
      "cell_type": "code",
      "source": [
        "sns.heatmap(corr_mat, annot=True, annot_kws={'fontsize':17}, cmap=sns.diverging_palette(20,220,as_cmap=True))"
      ],
      "metadata": {
        "colab": {
          "base_uri": "https://localhost:8080/",
          "height": 459
        },
        "id": "jRf8-cqjd-Nz",
        "outputId": "6fefed5b-6d3b-42c3-9867-53851eed8564"
      },
      "execution_count": 106,
      "outputs": [
        {
          "output_type": "execute_result",
          "data": {
            "text/plain": [
              "<matplotlib.axes._subplots.AxesSubplot at 0x7fda784a7b20>"
            ]
          },
          "metadata": {},
          "execution_count": 106
        },
        {
          "output_type": "display_data",
          "data": {
            "text/plain": [
              "<Figure size 432x288 with 2 Axes>"
            ],
            "image/png": "[encoded data removed]"
          },
          "metadata": {
            "needs_background": "light"
          }
        }
      ]
    },
    {
      "cell_type": "markdown",
      "source": [
        "## Analysis\n",
        "---"
      ],
      "metadata": {
        "id": "OdFVz7di6hW7"
      }
    },
    {
      "cell_type": "markdown",
      "source": [
        "\n",
        "\n",
        "1.   The SNAP combined dataset shape was orginally 2536 rows and 10 columns\n",
        "     The SVI dataset shape was 3143 rows and 9 columns\n",
        "     The map meal gap 2020 dataset was 3143 rows and 24 columns\n",
        "     The census dataset shape was 2507 rows and 2 columns  \n",
        "\n",
        "2.   There was some data loss as a result of the merge - SNAP data is missing a bit over 600 counties.\n",
        "\n",
        "3.   From the histogram the household ratio 'HH_ratio' is positively skewed and normally distributed. The RPL Themes are bars almost the same because they are percentile ranks.\n",
        "\n",
        "4.   The scatter plot charts show SNAP benefit uptake increases with vulnerability (positive/slightly positive) except THEME3 which is the ranking for Racial and Ethnic Minority Status theme doesn't seem to be correlated.\n",
        "\n",
        "5.   Correlation Coefficients: theme1 and themes (overall) has a strong positive correlation and theme4 has a slightly positive correlation.\n",
        "\n",
        "6.  Correlation matrix and heatmap slightly positive relationship with HH_Ratio, Overall Food Insecurity Rate (1 Year), RPL_THEMES (SVI Overall). \n",
        "\n",
        "\n",
        "\n",
        "\n",
        "\n",
        "\n",
        "\n",
        "\n",
        "\n",
        "\n",
        "\n"
      ],
      "metadata": {
        "id": "vCB1SIKN6vRe"
      }
    }
  ]
}